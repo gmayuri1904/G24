{
 "cells": [
  {
   "cell_type": "code",
   "execution_count": 47,
   "id": "40bfc7b0",
   "metadata": {},
   "outputs": [],
   "source": [
    "class Employee:\n",
    "    \n",
    "    def __init__(self,empid,name,salary):\n",
    "        \n",
    "        self.empid=empid\n",
    "        self.name=name\n",
    "        self.__sal=salary #(base=151, bonus,,variables)\n",
    "        \n",
    "    def emp_details(self):\n",
    "        \n",
    "        print('Employee details are:',self.empid,self.name)\n",
    "        \n",
    "    def show_salary(self):  #Getter method: get the encapsulated value\n",
    "        return self.__sal\n",
    "    \n",
    "    def set_salary(self,new_sal): # Setter method: change/modify encapsulated values\n",
    "    \n",
    "        if (type(new_sal)==int) and (new_sal> self.__sal):\n",
    "            \n",
    "            self.__sal=new_sal\n",
    "            print('Salary Updates')\n",
    "            \n",
    "        else:\n",
    "            print('Invalid input')"
   ]
  },
  {
   "cell_type": "code",
   "execution_count": 30,
   "id": "209b96cf",
   "metadata": {},
   "outputs": [],
   "source": [
    "e1=Employee(1,'Dharma',50000)"
   ]
  },
  {
   "cell_type": "code",
   "execution_count": 31,
   "id": "2956b771",
   "metadata": {},
   "outputs": [
    {
     "name": "stdout",
     "output_type": "stream",
     "text": [
      "Employee details are: 1 Dharma\n"
     ]
    }
   ],
   "source": [
    "e1.emp_details()"
   ]
  },
  {
   "cell_type": "code",
   "execution_count": 32,
   "id": "af9ea5fb",
   "metadata": {},
   "outputs": [
    {
     "data": {
      "text/plain": [
       "50000"
      ]
     },
     "execution_count": 32,
     "metadata": {},
     "output_type": "execute_result"
    }
   ],
   "source": [
    "e1._Employee__sal"
   ]
  },
  {
   "cell_type": "code",
   "execution_count": 33,
   "id": "9c859005",
   "metadata": {},
   "outputs": [
    {
     "data": {
      "text/plain": [
       "50000"
      ]
     },
     "execution_count": 33,
     "metadata": {},
     "output_type": "execute_result"
    }
   ],
   "source": [
    "e1.show_salary()"
   ]
  },
  {
   "cell_type": "code",
   "execution_count": 34,
   "id": "27bb0f8a",
   "metadata": {},
   "outputs": [
    {
     "data": {
      "text/plain": [
       "50000"
      ]
     },
     "execution_count": 34,
     "metadata": {},
     "output_type": "execute_result"
    }
   ],
   "source": [
    "e1.show_salary()"
   ]
  },
  {
   "cell_type": "code",
   "execution_count": 35,
   "id": "e38e8d2d",
   "metadata": {},
   "outputs": [
    {
     "data": {
      "text/plain": [
       "50000"
      ]
     },
     "execution_count": 35,
     "metadata": {},
     "output_type": "execute_result"
    }
   ],
   "source": [
    "e1.show_salary()"
   ]
  },
  {
   "cell_type": "code",
   "execution_count": 36,
   "id": "6ab76b25",
   "metadata": {},
   "outputs": [
    {
     "name": "stdout",
     "output_type": "stream",
     "text": [
      "Salary Updates\n"
     ]
    }
   ],
   "source": [
    "e1.set_salary(70000)"
   ]
  },
  {
   "cell_type": "code",
   "execution_count": 37,
   "id": "09477d8a",
   "metadata": {},
   "outputs": [
    {
     "data": {
      "text/plain": [
       "70000"
      ]
     },
     "execution_count": 37,
     "metadata": {},
     "output_type": "execute_result"
    }
   ],
   "source": [
    "e1.show_salary()"
   ]
  },
  {
   "cell_type": "code",
   "execution_count": 38,
   "id": "aefdf89c",
   "metadata": {},
   "outputs": [
    {
     "name": "stdout",
     "output_type": "stream",
     "text": [
      "Invalid input\n"
     ]
    }
   ],
   "source": [
    "e1.set_salary(60000)"
   ]
  },
  {
   "cell_type": "code",
   "execution_count": 39,
   "id": "9c5bd4cd",
   "metadata": {},
   "outputs": [
    {
     "name": "stdout",
     "output_type": "stream",
     "text": [
      "Invalid input\n"
     ]
    }
   ],
   "source": [
    "e1.set_salary('bwjbfouJ')"
   ]
  },
  {
   "cell_type": "code",
   "execution_count": 44,
   "id": "af061592",
   "metadata": {},
   "outputs": [],
   "source": [
    "e1._Employee__sal=50000"
   ]
  },
  {
   "cell_type": "code",
   "execution_count": 45,
   "id": "921244e3",
   "metadata": {},
   "outputs": [
    {
     "data": {
      "text/plain": [
       "50000"
      ]
     },
     "execution_count": 45,
     "metadata": {},
     "output_type": "execute_result"
    }
   ],
   "source": [
    "e1.show_salary()"
   ]
  },
  {
   "cell_type": "code",
   "execution_count": 68,
   "id": "6534428b",
   "metadata": {},
   "outputs": [],
   "source": [
    "class Employee:\n",
    "    \n",
    "    empid=0 #Class varaible \n",
    "    \n",
    "    def __init__(self,name,salary):\n",
    "        \n",
    "        Employee.empid+=1\n",
    "        print(Employee.empid)\n",
    "        self.name=name\n",
    "        self.__sal=salary #(base=151, bonus,,variables)\n",
    "        \n",
    "    def emp_details(self):\n",
    "        \n",
    "        print('Employee details are:',self.empid,self.name)\n",
    "        \n",
    "    def show_salary(self):  #Getter method: get the encapsulated value\n",
    "        return self.__sal\n",
    "    \n",
    "    def set_salary(self,new_sal): # Setter method: change/modify encapsulated values\n",
    "    \n",
    "        if (type(new_sal)==int) and (new_sal> self.__sal):\n",
    "            \n",
    "            self.__sal=new_sal\n",
    "            print('Salary Updates')\n",
    "            \n",
    "        else:\n",
    "            print('Invalid input')\n",
    "            \n",
    "    def demo():\n",
    "        print('This is static method')"
   ]
  },
  {
   "cell_type": "code",
   "execution_count": 62,
   "id": "54242ff7",
   "metadata": {},
   "outputs": [
    {
     "name": "stdout",
     "output_type": "stream",
     "text": [
      "1\n"
     ]
    }
   ],
   "source": [
    "e1=Employee('Mounika',55000)"
   ]
  },
  {
   "cell_type": "code",
   "execution_count": 63,
   "id": "eed2f924",
   "metadata": {},
   "outputs": [
    {
     "name": "stdout",
     "output_type": "stream",
     "text": [
      "2\n"
     ]
    }
   ],
   "source": [
    "e2=Employee('Harsha',55000)"
   ]
  },
  {
   "cell_type": "code",
   "execution_count": 64,
   "id": "908783b1",
   "metadata": {},
   "outputs": [
    {
     "name": "stdout",
     "output_type": "stream",
     "text": [
      "3\n"
     ]
    }
   ],
   "source": [
    "e3=Employee('Bhavana',56000)"
   ]
  },
  {
   "cell_type": "code",
   "execution_count": 66,
   "id": "3ea0b945",
   "metadata": {},
   "outputs": [
    {
     "name": "stdout",
     "output_type": "stream",
     "text": [
      "4\n"
     ]
    }
   ],
   "source": [
    "e4=Employee('Bhargav',54000)"
   ]
  },
  {
   "cell_type": "code",
   "execution_count": 67,
   "id": "d7051772",
   "metadata": {},
   "outputs": [
    {
     "data": {
      "text/plain": [
       "4"
      ]
     },
     "execution_count": 67,
     "metadata": {},
     "output_type": "execute_result"
    }
   ],
   "source": [
    "Employee.empid"
   ]
  },
  {
   "cell_type": "code",
   "execution_count": 69,
   "id": "5a852ff2",
   "metadata": {},
   "outputs": [
    {
     "name": "stdout",
     "output_type": "stream",
     "text": [
      "This is static method\n"
     ]
    }
   ],
   "source": [
    "Employee.demo()"
   ]
  },
  {
   "cell_type": "code",
   "execution_count": null,
   "id": "7b4bb32a",
   "metadata": {},
   "outputs": [],
   "source": []
  }
 ],
 "metadata": {
  "kernelspec": {
   "display_name": "Python 3 (ipykernel)",
   "language": "python",
   "name": "python3"
  },
  "language_info": {
   "codemirror_mode": {
    "name": "ipython",
    "version": 3
   },
   "file_extension": ".py",
   "mimetype": "text/x-python",
   "name": "python",
   "nbconvert_exporter": "python",
   "pygments_lexer": "ipython3",
   "version": "3.9.12"
  }
 },
 "nbformat": 4,
 "nbformat_minor": 5
}
