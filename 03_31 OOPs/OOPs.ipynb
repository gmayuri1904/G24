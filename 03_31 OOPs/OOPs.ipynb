{
 "cells": [
  {
   "cell_type": "code",
   "execution_count": null,
   "id": "3fca8388",
   "metadata": {},
   "outputs": [],
   "source": [
    "class >> Person\n",
    "constructer __init__ > name, gender, age > initialized\n",
    "method > display >> hello\n",
    "object > 'Alice',Female, 15\n",
    "       > 'Peter', male, 18"
   ]
  },
  {
   "cell_type": "code",
   "execution_count": null,
   "id": "53b86178",
   "metadata": {},
   "outputs": [],
   "source": [
    "class InsurancePlan\n",
    "variable premium_cost_computation\n",
    "method premiumCostComputation"
   ]
  },
  {
   "cell_type": "code",
   "execution_count": null,
   "id": "e6b16360",
   "metadata": {},
   "outputs": [],
   "source": [
    "class Person\n",
    "display >> hello\n",
    "Obj> obj1"
   ]
  },
  {
   "cell_type": "code",
   "execution_count": 5,
   "id": "b5e82200",
   "metadata": {},
   "outputs": [],
   "source": [
    "class person:\n",
    "    \n",
    "    def __init__(self,nickname):\n",
    "        self.name=nickname #'Alice'\n",
    "        #name='Alice'\n",
    "        print(\"constructor is created\")\n",
    "    def method(self):\n",
    "        print(\"Hello\",self.name)\n"
   ]
  },
  {
   "cell_type": "code",
   "execution_count": 7,
   "id": "ee86f9b8",
   "metadata": {},
   "outputs": [
    {
     "name": "stdout",
     "output_type": "stream",
     "text": [
      "constructor is created\n"
     ]
    }
   ],
   "source": [
    "obj1=person('Alice')"
   ]
  },
  {
   "cell_type": "code",
   "execution_count": 8,
   "id": "c7c58313",
   "metadata": {},
   "outputs": [
    {
     "name": "stdout",
     "output_type": "stream",
     "text": [
      "Hello Alice\n"
     ]
    }
   ],
   "source": [
    "obj1.method()"
   ]
  },
  {
   "cell_type": "code",
   "execution_count": 10,
   "id": "52409356",
   "metadata": {},
   "outputs": [],
   "source": [
    "class Person:\n",
    "    \n",
    "    def __init__(self,name,age,gender):\n",
    "        print('Initialized')\n",
    "    \n",
    "    \n",
    "    def display(self):\n",
    "        print('Hello')"
   ]
  },
  {
   "cell_type": "code",
   "execution_count": 12,
   "id": "1f644931",
   "metadata": {},
   "outputs": [
    {
     "name": "stdout",
     "output_type": "stream",
     "text": [
      "Initialized\n"
     ]
    }
   ],
   "source": [
    "obj1=Person('Alice',15,'Female')"
   ]
  },
  {
   "cell_type": "code",
   "execution_count": 17,
   "id": "d74ddf6a",
   "metadata": {},
   "outputs": [],
   "source": [
    "class Person:\n",
    "    \n",
    "    def __init__(self):\n",
    "        \n",
    "        self.var1=1564\n",
    "        print('Initialized')\n",
    "    \n",
    "    \n",
    "    def display(self):\n",
    "        print('Hello',self.var1)"
   ]
  },
  {
   "cell_type": "code",
   "execution_count": 18,
   "id": "3d1d6114",
   "metadata": {},
   "outputs": [
    {
     "name": "stdout",
     "output_type": "stream",
     "text": [
      "Initialized\n"
     ]
    }
   ],
   "source": [
    "obj1=Person()"
   ]
  },
  {
   "cell_type": "code",
   "execution_count": 19,
   "id": "adb53961",
   "metadata": {},
   "outputs": [
    {
     "name": "stdout",
     "output_type": "stream",
     "text": [
      "Hello 1564\n"
     ]
    }
   ],
   "source": [
    "obj1.display()"
   ]
  },
  {
   "cell_type": "code",
   "execution_count": 31,
   "id": "0693e584",
   "metadata": {},
   "outputs": [],
   "source": [
    "class Person:\n",
    "    \n",
    "    def __init__(self,name,gender,age):\n",
    "        self.var4='Python'\n",
    "        self.var1=name\n",
    "        self.var2=gender\n",
    "        self.var3=age\n",
    "       \n",
    "        print('Initialized')\n",
    "    \n",
    "    \n",
    "    def details(self):\n",
    "        print('Name is',self.var1)\n",
    "        print('Gender is',self.var2)\n",
    "        print('Age is',self.var3)\n",
    "        print('Var4 is',self.var4)\n",
    "    \n",
    "    def display(self):\n",
    "        print('Hello',self.var1)"
   ]
  },
  {
   "cell_type": "code",
   "execution_count": 32,
   "id": "2bd39655",
   "metadata": {},
   "outputs": [
    {
     "name": "stdout",
     "output_type": "stream",
     "text": [
      "Initialized\n"
     ]
    }
   ],
   "source": [
    "obj1=Person('Alice','Female',15)"
   ]
  },
  {
   "cell_type": "code",
   "execution_count": 33,
   "id": "4c174635",
   "metadata": {},
   "outputs": [
    {
     "name": "stdout",
     "output_type": "stream",
     "text": [
      "Name is Alice\n",
      "Gender is Female\n",
      "Age is 15\n",
      "Var4 is Python\n"
     ]
    }
   ],
   "source": [
    "obj1.details()"
   ]
  },
  {
   "cell_type": "code",
   "execution_count": 34,
   "id": "95347b8b",
   "metadata": {},
   "outputs": [
    {
     "name": "stdout",
     "output_type": "stream",
     "text": [
      "Initialized\n"
     ]
    }
   ],
   "source": [
    "obj2=Person('Peter','Male',13)"
   ]
  },
  {
   "cell_type": "code",
   "execution_count": 35,
   "id": "346dd58c",
   "metadata": {},
   "outputs": [
    {
     "name": "stdout",
     "output_type": "stream",
     "text": [
      "Name is Peter\n",
      "Gender is Male\n",
      "Age is 13\n",
      "Var4 is Python\n"
     ]
    }
   ],
   "source": [
    "obj2.details()"
   ]
  }
 ],
 "metadata": {
  "kernelspec": {
   "display_name": "Python 3 (ipykernel)",
   "language": "python",
   "name": "python3"
  },
  "language_info": {
   "codemirror_mode": {
    "name": "ipython",
    "version": 3
   },
   "file_extension": ".py",
   "mimetype": "text/x-python",
   "name": "python",
   "nbconvert_exporter": "python",
   "pygments_lexer": "ipython3",
   "version": "3.9.12"
  }
 },
 "nbformat": 4,
 "nbformat_minor": 5
}
