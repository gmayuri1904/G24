{
 "cells": [
  {
   "cell_type": "code",
   "execution_count": 31,
   "id": "6c698d5c",
   "metadata": {},
   "outputs": [],
   "source": [
    "lang=['Beautiful is better than ugly.\\n',\n",
    "'Explicit is better than implicit.\\n',\n",
    "'Simple is better than complex.\\n',\n",
    "'Complex is better than complicated.\\n',\n",
    "'Readability counts.']"
   ]
  },
  {
   "cell_type": "code",
   "execution_count": 32,
   "id": "cfa23940",
   "metadata": {},
   "outputs": [
    {
     "data": {
      "text/plain": [
       "'Simple is better than complex.\\n'"
      ]
     },
     "execution_count": 32,
     "metadata": {},
     "output_type": "execute_result"
    }
   ],
   "source": [
    "lang[2]"
   ]
  },
  {
   "cell_type": "code",
   "execution_count": 33,
   "id": "b2ac0fa8",
   "metadata": {},
   "outputs": [],
   "source": [
    "f=open(r'C:\\Users\\gaikw_000\\Desktop\\python.txt','w')\n",
    "for i in lang:\n",
    "    f.write(i)\n",
    "    f.write('\\n')\n",
    "f.close()"
   ]
  },
  {
   "cell_type": "code",
   "execution_count": 17,
   "id": "f6edcddb",
   "metadata": {},
   "outputs": [],
   "source": [
    "f=open(r'C:\\Users\\gaikw_000\\Desktop\\python.txt','w')\n",
    "f.writelines(lang)\n",
    "f.close()"
   ]
  },
  {
   "cell_type": "code",
   "execution_count": 16,
   "id": "00eb16d0",
   "metadata": {},
   "outputs": [
    {
     "name": "stdout",
     "output_type": "stream",
     "text": [
      "Beautiful is better than ugly.\n",
      "\n",
      "Explicit is better than implicit.\n",
      "\n",
      "Simple is better than complex.\n",
      "\n",
      "Complex is better than complicated.Readability counts.\n",
      "\n"
     ]
    }
   ],
   "source": [
    "r=open(r'C:\\Users\\gaikw_000\\Desktop\\python.txt')\n",
    "\n",
    "while True:\n",
    "    data=r.readline()\n",
    "    \n",
    "    if data=='':\n",
    "        break\n",
    "    else:\n",
    "        print(data)\n",
    "r.close()"
   ]
  },
  {
   "cell_type": "code",
   "execution_count": 22,
   "id": "24a0d8b4",
   "metadata": {},
   "outputs": [
    {
     "name": "stdout",
     "output_type": "stream",
     "text": [
      "Beautiful \n",
      "is better than \n"
     ]
    }
   ],
   "source": [
    "r=open(r'C:\\Users\\gaikw_000\\Desktop\\python.txt')\n",
    "data=r.read(10)\n",
    "data1=r.read(15)\n",
    "print(data)\n",
    "print(data1)\n",
    "r.close()"
   ]
  },
  {
   "cell_type": "code",
   "execution_count": 23,
   "id": "040dfaf6",
   "metadata": {},
   "outputs": [],
   "source": [
    "#Context manager"
   ]
  },
  {
   "cell_type": "code",
   "execution_count": 25,
   "id": "3cff4c31",
   "metadata": {},
   "outputs": [
    {
     "name": "stdout",
     "output_type": "stream",
     "text": [
      "Beautiful \n",
      "is better than \n"
     ]
    }
   ],
   "source": [
    "with open(r'C:\\Users\\gaikw_000\\Desktop\\python.txt') as r:\n",
    "    data=r.read(10)\n",
    "    data1=r.read(15)\n",
    "    print(data)\n",
    "    print(data1)"
   ]
  },
  {
   "cell_type": "code",
   "execution_count": 26,
   "id": "ea9bc4bb",
   "metadata": {},
   "outputs": [
    {
     "ename": "ValueError",
     "evalue": "I/O operation on closed file.",
     "output_type": "error",
     "traceback": [
      "\u001b[1;31m---------------------------------------------------------------------------\u001b[0m",
      "\u001b[1;31mValueError\u001b[0m                                Traceback (most recent call last)",
      "Input \u001b[1;32mIn [26]\u001b[0m, in \u001b[0;36m<cell line: 1>\u001b[1;34m()\u001b[0m\n\u001b[1;32m----> 1\u001b[0m \u001b[38;5;28mprint\u001b[39m(\u001b[43mr\u001b[49m\u001b[38;5;241;43m.\u001b[39;49m\u001b[43mread\u001b[49m\u001b[43m(\u001b[49m\u001b[38;5;241;43m5\u001b[39;49m\u001b[43m)\u001b[49m)\n",
      "\u001b[1;31mValueError\u001b[0m: I/O operation on closed file."
     ]
    }
   ],
   "source": [
    "print(r.read(5))"
   ]
  },
  {
   "cell_type": "code",
   "execution_count": 38,
   "id": "b9172abc",
   "metadata": {},
   "outputs": [
    {
     "name": "stdout",
     "output_type": "stream",
     "text": [
      "Beautiful is better than ugly.\n",
      "\n",
      "Explicit is better than implicit.\n",
      "\n",
      "Simple is better than complex.\n",
      "\n",
      "Complex is better than complicated.\n",
      "\n",
      "Readability counts.\n",
      "\n",
      "-----------------------------------------------------\n"
     ]
    }
   ],
   "source": [
    "with open(r'C:\\Users\\gaikw_000\\Desktop\\python.txt') as r: \n",
    "    while True:\n",
    "        data=r.read()\n",
    "\n",
    "        if data=='':\n",
    "            break\n",
    "        else:\n",
    "            print(data)\n",
    "            print('-----------------------------------------------------')"
   ]
  },
  {
   "cell_type": "code",
   "execution_count": 44,
   "id": "f38162d4",
   "metadata": {},
   "outputs": [
    {
     "name": "stdout",
     "output_type": "stream",
     "text": [
      "Beautiful \n",
      "is better than \n",
      "25\n",
      "31\n",
      "0\n"
     ]
    }
   ],
   "source": [
    "with open(r'C:\\Users\\gaikw_000\\Desktop\\python.txt') as r:\n",
    "    data=r.read(10)\n",
    "    data1=r.read(15)\n",
    "    print(data)\n",
    "    print(data1)\n",
    "    print(r.tell())\n",
    "    # 31-40\n",
    "    r.seek(31)\n",
    "    print(r.tell())\n",
    "    r.seek(0)\n",
    "    print(r.tell())"
   ]
  },
  {
   "cell_type": "code",
   "execution_count": null,
   "id": "d550dfbb",
   "metadata": {},
   "outputs": [],
   "source": [
    "5 + 7 # Serialization and Deserialization"
   ]
  }
 ],
 "metadata": {
  "kernelspec": {
   "display_name": "Python 3 (ipykernel)",
   "language": "python",
   "name": "python3"
  },
  "language_info": {
   "codemirror_mode": {
    "name": "ipython",
    "version": 3
   },
   "file_extension": ".py",
   "mimetype": "text/x-python",
   "name": "python",
   "nbconvert_exporter": "python",
   "pygments_lexer": "ipython3",
   "version": "3.9.12"
  }
 },
 "nbformat": 4,
 "nbformat_minor": 5
}
