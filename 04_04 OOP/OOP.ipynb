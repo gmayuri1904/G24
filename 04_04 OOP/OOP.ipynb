{
 "cells": [
  {
   "cell_type": "code",
   "execution_count": 1,
   "id": "ae4b30c3",
   "metadata": {},
   "outputs": [],
   "source": [
    "class Dog:\n",
    "    \n",
    "    def __init__(self,name,age):\n",
    "        self.name=name\n",
    "        self.age=age\n",
    "        \n",
    "    def greet(self):\n",
    "        print('Hello,I\\'m',self.name, 'I\\'m',self.age,'years old.')"
   ]
  },
  {
   "cell_type": "code",
   "execution_count": 7,
   "id": "64ec83a6",
   "metadata": {},
   "outputs": [],
   "source": [
    "d1=Dog('scooby',5)"
   ]
  },
  {
   "cell_type": "code",
   "execution_count": 4,
   "id": "a024f21c",
   "metadata": {},
   "outputs": [
    {
     "name": "stdout",
     "output_type": "stream",
     "text": [
      "Hello,I'm scooby I'm 5 years old.\n"
     ]
    }
   ],
   "source": [
    "d1.greet()"
   ]
  },
  {
   "cell_type": "code",
   "execution_count": 8,
   "id": "655a41c6",
   "metadata": {},
   "outputs": [],
   "source": [
    "d5=d1\n",
    "d7=d5\n",
    "#d1=d5=d7"
   ]
  },
  {
   "cell_type": "code",
   "execution_count": 14,
   "id": "75c75ba4",
   "metadata": {},
   "outputs": [
    {
     "name": "stdout",
     "output_type": "stream",
     "text": [
      "scooby scooby scooby 2329510539072 2329510539072 2329510539072\n"
     ]
    }
   ],
   "source": [
    "print(d7.name,d5.name,d1.name,id(d1),id(d5),id(d7))"
   ]
  },
  {
   "cell_type": "code",
   "execution_count": 16,
   "id": "8f4b99ed",
   "metadata": {},
   "outputs": [],
   "source": [
    "d5.name='Casper'"
   ]
  },
  {
   "cell_type": "code",
   "execution_count": 17,
   "id": "1d06d75f",
   "metadata": {},
   "outputs": [
    {
     "data": {
      "text/plain": [
       "'Casper'"
      ]
     },
     "execution_count": 17,
     "metadata": {},
     "output_type": "execute_result"
    }
   ],
   "source": [
    "d5.name"
   ]
  },
  {
   "cell_type": "code",
   "execution_count": 18,
   "id": "4e4857af",
   "metadata": {},
   "outputs": [
    {
     "name": "stdout",
     "output_type": "stream",
     "text": [
      "Casper Casper Casper 2329510539072 2329510539072 2329510539072\n"
     ]
    }
   ],
   "source": [
    "print(d7.name,d5.name,d1.name,id(d1),id(d5),id(d7))"
   ]
  },
  {
   "cell_type": "code",
   "execution_count": null,
   "id": "8d94106b",
   "metadata": {},
   "outputs": [],
   "source": [
    "Reference Variable:\n",
    "    -Hold the object\n",
    "    -Object can be created without them\n",
    "    -An object can have multiple reference variables\n",
    "    -Assigning a new reference does not create a new object"
   ]
  },
  {
   "cell_type": "code",
   "execution_count": 19,
   "id": "75783ec2",
   "metadata": {},
   "outputs": [],
   "source": [
    "a=1000 #d1=Dog()"
   ]
  },
  {
   "cell_type": "code",
   "execution_count": 20,
   "id": "b7a0279e",
   "metadata": {},
   "outputs": [],
   "source": [
    "b=a   #d5=d1"
   ]
  },
  {
   "cell_type": "code",
   "execution_count": 22,
   "id": "751b3477",
   "metadata": {},
   "outputs": [],
   "source": [
    "c=b  #d7=d5"
   ]
  },
  {
   "cell_type": "code",
   "execution_count": 24,
   "id": "3322807d",
   "metadata": {},
   "outputs": [
    {
     "data": {
      "text/plain": [
       "(1000, 1000, 1000)"
      ]
     },
     "execution_count": 24,
     "metadata": {},
     "output_type": "execute_result"
    }
   ],
   "source": [
    "a,b,c"
   ]
  },
  {
   "cell_type": "code",
   "execution_count": null,
   "id": "c1b38bf2",
   "metadata": {},
   "outputs": [],
   "source": [
    "as a parameter\n",
    "return object"
   ]
  },
  {
   "cell_type": "code",
   "execution_count": 25,
   "id": "78b88214",
   "metadata": {},
   "outputs": [],
   "source": [
    "def info(dog):\n",
    "    \n",
    "    print('This is',dog.name)\n",
    "    print('Age is',dog.age)"
   ]
  },
  {
   "cell_type": "code",
   "execution_count": 26,
   "id": "3b25ee61",
   "metadata": {},
   "outputs": [
    {
     "name": "stdout",
     "output_type": "stream",
     "text": [
      "This is Casper\n",
      "Age is 5\n"
     ]
    }
   ],
   "source": [
    "info(d1)"
   ]
  },
  {
   "cell_type": "code",
   "execution_count": 28,
   "id": "a3b954f9",
   "metadata": {},
   "outputs": [],
   "source": [
    "def obj():\n",
    "    p1=Dog('Mary',4)\n",
    "    \n",
    "    return p1"
   ]
  },
  {
   "cell_type": "code",
   "execution_count": 30,
   "id": "cd5bea6b",
   "metadata": {},
   "outputs": [],
   "source": [
    "d2=obj()"
   ]
  },
  {
   "cell_type": "code",
   "execution_count": 31,
   "id": "299be9b9",
   "metadata": {},
   "outputs": [
    {
     "name": "stdout",
     "output_type": "stream",
     "text": [
      "Hello,I'm Mary I'm 4 years old.\n"
     ]
    }
   ],
   "source": [
    "d2.greet()"
   ]
  },
  {
   "cell_type": "markdown",
   "id": "e1a79475",
   "metadata": {},
   "source": [
    "### Mutability"
   ]
  },
  {
   "cell_type": "code",
   "execution_count": 32,
   "id": "2007dd02",
   "metadata": {},
   "outputs": [],
   "source": [
    "d3=Dog('Trey',8)"
   ]
  },
  {
   "cell_type": "code",
   "execution_count": 33,
   "id": "f9105a8a",
   "metadata": {},
   "outputs": [
    {
     "data": {
      "text/plain": [
       "2329510972864"
      ]
     },
     "execution_count": 33,
     "metadata": {},
     "output_type": "execute_result"
    }
   ],
   "source": [
    "id(d3)"
   ]
  },
  {
   "cell_type": "code",
   "execution_count": 35,
   "id": "84b4309a",
   "metadata": {},
   "outputs": [],
   "source": [
    "def modify(dog):\n",
    "\n",
    "    dog.name='Peter'\n",
    "    \n",
    "    return dog"
   ]
  },
  {
   "cell_type": "code",
   "execution_count": 37,
   "id": "0cae5223",
   "metadata": {},
   "outputs": [],
   "source": [
    "d4=modify(d3)"
   ]
  },
  {
   "cell_type": "code",
   "execution_count": 41,
   "id": "f1a7e22c",
   "metadata": {},
   "outputs": [
    {
     "data": {
      "text/plain": [
       "True"
      ]
     },
     "execution_count": 41,
     "metadata": {},
     "output_type": "execute_result"
    }
   ],
   "source": [
    "id(d4)==id(d3) #Mutable"
   ]
  },
  {
   "cell_type": "code",
   "execution_count": 43,
   "id": "c3cb6f76",
   "metadata": {},
   "outputs": [
    {
     "name": "stdout",
     "output_type": "stream",
     "text": [
      "2329404743344\n"
     ]
    }
   ],
   "source": [
    "str1='py'\n",
    "print(id(str1))"
   ]
  },
  {
   "cell_type": "code",
   "execution_count": 44,
   "id": "25aaaa22",
   "metadata": {},
   "outputs": [
    {
     "name": "stdout",
     "output_type": "stream",
     "text": [
      "2329490300464\n"
     ]
    }
   ],
   "source": [
    "str1='ML'\n",
    "print(id(str1))"
   ]
  }
 ],
 "metadata": {
  "kernelspec": {
   "display_name": "Python 3 (ipykernel)",
   "language": "python",
   "name": "python3"
  },
  "language_info": {
   "codemirror_mode": {
    "name": "ipython",
    "version": 3
   },
   "file_extension": ".py",
   "mimetype": "text/x-python",
   "name": "python",
   "nbconvert_exporter": "python",
   "pygments_lexer": "ipython3",
   "version": "3.9.12"
  }
 },
 "nbformat": 4,
 "nbformat_minor": 5
}
