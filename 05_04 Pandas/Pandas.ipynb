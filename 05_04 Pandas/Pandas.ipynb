{
 "cells": [
  {
   "cell_type": "code",
   "execution_count": 1,
   "id": "c200128b",
   "metadata": {},
   "outputs": [],
   "source": [
    "import pandas as pd"
   ]
  },
  {
   "cell_type": "code",
   "execution_count": 22,
   "id": "4cee742b",
   "metadata": {},
   "outputs": [],
   "source": [
    "import numpy as np"
   ]
  },
  {
   "cell_type": "code",
   "execution_count": 6,
   "id": "f9e6f0a0",
   "metadata": {},
   "outputs": [
    {
     "name": "stdout",
     "output_type": "stream",
     "text": [
      "      name     age\n",
      "0  bhavana  swathi\n",
      "1       21      21\n"
     ]
    }
   ],
   "source": [
    "data=[['bhavana','swathi'],[21,21]]\n",
    "df=pd.DataFrame(data,columns=['name','age'])\n",
    "print(df)"
   ]
  },
  {
   "cell_type": "code",
   "execution_count": 9,
   "id": "31f38496",
   "metadata": {},
   "outputs": [
    {
     "data": {
      "text/html": [
       "<div>\n",
       "<style scoped>\n",
       "    .dataframe tbody tr th:only-of-type {\n",
       "        vertical-align: middle;\n",
       "    }\n",
       "\n",
       "    .dataframe tbody tr th {\n",
       "        vertical-align: top;\n",
       "    }\n",
       "\n",
       "    .dataframe thead th {\n",
       "        text-align: right;\n",
       "    }\n",
       "</style>\n",
       "<table border=\"1\" class=\"dataframe\">\n",
       "  <thead>\n",
       "    <tr style=\"text-align: right;\">\n",
       "      <th></th>\n",
       "      <th>name</th>\n",
       "      <th>age</th>\n",
       "    </tr>\n",
       "  </thead>\n",
       "  <tbody>\n",
       "    <tr>\n",
       "      <th>0</th>\n",
       "      <td>bhavana</td>\n",
       "      <td>21</td>\n",
       "    </tr>\n",
       "    <tr>\n",
       "      <th>1</th>\n",
       "      <td>swathi</td>\n",
       "      <td>16</td>\n",
       "    </tr>\n",
       "    <tr>\n",
       "      <th>2</th>\n",
       "      <td>Bhavana</td>\n",
       "      <td>19</td>\n",
       "    </tr>\n",
       "  </tbody>\n",
       "</table>\n",
       "</div>"
      ],
      "text/plain": [
       "      name  age\n",
       "0  bhavana   21\n",
       "1   swathi   16\n",
       "2  Bhavana   19"
      ]
     },
     "execution_count": 9,
     "metadata": {},
     "output_type": "execute_result"
    }
   ],
   "source": [
    "data=[['bhavana',21],\n",
    "      ['swathi',16],['Bhavana',19]]\n",
    "df=pd.DataFrame(data,columns=['name','age'])\n",
    "df"
   ]
  },
  {
   "cell_type": "code",
   "execution_count": 10,
   "id": "d35469ab",
   "metadata": {},
   "outputs": [],
   "source": [
    "info={'name':['Bhavana','Swati','Mounika'],\n",
    "    'age':[18,19,20]}"
   ]
  },
  {
   "cell_type": "code",
   "execution_count": 11,
   "id": "4f464a3c",
   "metadata": {
    "scrolled": true
   },
   "outputs": [
    {
     "data": {
      "text/html": [
       "<div>\n",
       "<style scoped>\n",
       "    .dataframe tbody tr th:only-of-type {\n",
       "        vertical-align: middle;\n",
       "    }\n",
       "\n",
       "    .dataframe tbody tr th {\n",
       "        vertical-align: top;\n",
       "    }\n",
       "\n",
       "    .dataframe thead th {\n",
       "        text-align: right;\n",
       "    }\n",
       "</style>\n",
       "<table border=\"1\" class=\"dataframe\">\n",
       "  <thead>\n",
       "    <tr style=\"text-align: right;\">\n",
       "      <th></th>\n",
       "      <th>name</th>\n",
       "      <th>age</th>\n",
       "    </tr>\n",
       "  </thead>\n",
       "  <tbody>\n",
       "    <tr>\n",
       "      <th>0</th>\n",
       "      <td>Bhavana</td>\n",
       "      <td>18</td>\n",
       "    </tr>\n",
       "    <tr>\n",
       "      <th>1</th>\n",
       "      <td>Swati</td>\n",
       "      <td>19</td>\n",
       "    </tr>\n",
       "    <tr>\n",
       "      <th>2</th>\n",
       "      <td>Mounika</td>\n",
       "      <td>20</td>\n",
       "    </tr>\n",
       "  </tbody>\n",
       "</table>\n",
       "</div>"
      ],
      "text/plain": [
       "      name  age\n",
       "0  Bhavana   18\n",
       "1    Swati   19\n",
       "2  Mounika   20"
      ]
     },
     "execution_count": 11,
     "metadata": {},
     "output_type": "execute_result"
    }
   ],
   "source": [
    "pd.DataFrame(info)"
   ]
  },
  {
   "cell_type": "code",
   "execution_count": 18,
   "id": "4860ee1c",
   "metadata": {},
   "outputs": [],
   "source": [
    "prod=[\"p1\",'p2','p3','p4','p5','p6']"
   ]
  },
  {
   "cell_type": "code",
   "execution_count": 23,
   "id": "fd0be52a",
   "metadata": {},
   "outputs": [],
   "source": [
    "info={'ID':[1001,1002,1003,1004,1005,1006],\n",
    "    'Product':prod,\n",
    "     'units_sold':[40,10,20,25,50,70],\n",
    "     'price_Percent':[100,10,20,50,70,80],\n",
    "     \"Sales\":np.random.randint(10,50,size=6)}"
   ]
  },
  {
   "cell_type": "code",
   "execution_count": 30,
   "id": "4102666e",
   "metadata": {},
   "outputs": [],
   "source": [
    "df1=pd.DataFrame(info).set_index('ID')"
   ]
  },
  {
   "cell_type": "code",
   "execution_count": 31,
   "id": "9f3dd581",
   "metadata": {},
   "outputs": [],
   "source": [
    "df2=pd.DataFrame(info)"
   ]
  },
  {
   "cell_type": "code",
   "execution_count": 34,
   "id": "57168565",
   "metadata": {},
   "outputs": [
    {
     "data": {
      "text/plain": [
       "(6, 5)"
      ]
     },
     "execution_count": 34,
     "metadata": {},
     "output_type": "execute_result"
    }
   ],
   "source": [
    "df2.shape"
   ]
  },
  {
   "cell_type": "code",
   "execution_count": 43,
   "id": "024e3b85",
   "metadata": {},
   "outputs": [
    {
     "data": {
      "text/plain": [
       "4"
      ]
     },
     "execution_count": 43,
     "metadata": {},
     "output_type": "execute_result"
    }
   ],
   "source": [
    "df1.shape"
   ]
  },
  {
   "cell_type": "code",
   "execution_count": 40,
   "id": "067299f3",
   "metadata": {},
   "outputs": [],
   "source": [
    "df3=pd.read_csv('Country-data.csv')"
   ]
  },
  {
   "cell_type": "code",
   "execution_count": 41,
   "id": "0a456b27",
   "metadata": {},
   "outputs": [],
   "source": [
    "# Shape > no of rows, columns"
   ]
  },
  {
   "cell_type": "raw",
   "id": "8a175891",
   "metadata": {},
   "source": [
    "df.shape >> (row, columns)"
   ]
  },
  {
   "cell_type": "raw",
   "id": "8a54bb5d",
   "metadata": {},
   "source": [
    "df.shape[0] > rows\n",
    "df.shape[1] > columns"
   ]
  },
  {
   "cell_type": "code",
   "execution_count": 49,
   "id": "625f6440",
   "metadata": {},
   "outputs": [
    {
     "data": {
      "text/plain": [
       "(6, 5)"
      ]
     },
     "execution_count": 49,
     "metadata": {},
     "output_type": "execute_result"
    }
   ],
   "source": [
    "df2.shape[0] #rows\n",
    "df2.shape[1] #columns\n",
    "df2.shape #(rows, columns)"
   ]
  },
  {
   "cell_type": "code",
   "execution_count": 53,
   "id": "21479310",
   "metadata": {},
   "outputs": [
    {
     "data": {
      "text/plain": [
       "10"
      ]
     },
     "execution_count": 53,
     "metadata": {},
     "output_type": "execute_result"
    }
   ],
   "source": [
    "df3.shape\n",
    "df3.shape[0]\n",
    "df3.shape[1]"
   ]
  },
  {
   "cell_type": "code",
   "execution_count": null,
   "id": "a77b18c3",
   "metadata": {},
   "outputs": [],
   "source": [
    "#index >> range/ list of index values"
   ]
  },
  {
   "cell_type": "code",
   "execution_count": 55,
   "id": "255d898c",
   "metadata": {},
   "outputs": [
    {
     "data": {
      "text/plain": [
       "RangeIndex(start=0, stop=6, step=1)"
      ]
     },
     "execution_count": 55,
     "metadata": {},
     "output_type": "execute_result"
    }
   ],
   "source": [
    "df2.index"
   ]
  },
  {
   "cell_type": "code",
   "execution_count": 59,
   "id": "8a10e1f2",
   "metadata": {},
   "outputs": [
    {
     "data": {
      "text/plain": [
       "Int64Index([1001, 1002, 1003, 1004, 1005, 1006], dtype='int64', name='ID')"
      ]
     },
     "execution_count": 59,
     "metadata": {},
     "output_type": "execute_result"
    }
   ],
   "source": [
    "df1.index"
   ]
  },
  {
   "cell_type": "code",
   "execution_count": 60,
   "id": "943140f5",
   "metadata": {},
   "outputs": [],
   "source": [
    "#Columns"
   ]
  },
  {
   "cell_type": "code",
   "execution_count": 62,
   "id": "2eecc0b4",
   "metadata": {},
   "outputs": [
    {
     "data": {
      "text/plain": [
       "Index(['country', 'child_mort', 'exports', 'health', 'imports', 'income',\n",
       "       'inflation', 'life_expec', 'total_fer', 'gdpp'],\n",
       "      dtype='object')"
      ]
     },
     "execution_count": 62,
     "metadata": {},
     "output_type": "execute_result"
    }
   ],
   "source": [
    "df3.columns"
   ]
  },
  {
   "cell_type": "code",
   "execution_count": 64,
   "id": "a65b5508",
   "metadata": {},
   "outputs": [
    {
     "data": {
      "text/plain": [
       "Index(['Product', 'units_sold', 'price_Percent', 'Sales'], dtype='object')"
      ]
     },
     "execution_count": 64,
     "metadata": {},
     "output_type": "execute_result"
    }
   ],
   "source": [
    "df1.columns"
   ]
  },
  {
   "cell_type": "code",
   "execution_count": 66,
   "id": "7bb582fb",
   "metadata": {},
   "outputs": [
    {
     "data": {
      "text/plain": [
       "Index(['ID', 'Product', 'units_sold', 'price_Percent', 'Sales'], dtype='object')"
      ]
     },
     "execution_count": 66,
     "metadata": {},
     "output_type": "execute_result"
    }
   ],
   "source": [
    "df2.columns"
   ]
  },
  {
   "cell_type": "code",
   "execution_count": 73,
   "id": "e46aee05",
   "metadata": {},
   "outputs": [],
   "source": [
    "# Values >> values as a nested list where each row is a list"
   ]
  },
  {
   "cell_type": "code",
   "execution_count": 68,
   "id": "a0a89e7f",
   "metadata": {},
   "outputs": [
    {
     "data": {
      "text/plain": [
       "array([['p1', 40, 100, 14],\n",
       "       ['p2', 10, 10, 35],\n",
       "       ['p3', 20, 20, 27],\n",
       "       ['p4', 25, 50, 44],\n",
       "       ['p5', 50, 70, 21],\n",
       "       ['p6', 70, 80, 33]], dtype=object)"
      ]
     },
     "execution_count": 68,
     "metadata": {},
     "output_type": "execute_result"
    }
   ],
   "source": [
    "df1.values"
   ]
  },
  {
   "cell_type": "code",
   "execution_count": 70,
   "id": "63fbc560",
   "metadata": {},
   "outputs": [
    {
     "data": {
      "text/plain": [
       "array([[1001, 'p1', 40, 100, 14],\n",
       "       [1002, 'p2', 10, 10, 35],\n",
       "       [1003, 'p3', 20, 20, 27],\n",
       "       [1004, 'p4', 25, 50, 44],\n",
       "       [1005, 'p5', 50, 70, 21],\n",
       "       [1006, 'p6', 70, 80, 33]], dtype=object)"
      ]
     },
     "execution_count": 70,
     "metadata": {},
     "output_type": "execute_result"
    }
   ],
   "source": [
    "df2.values"
   ]
  },
  {
   "cell_type": "code",
   "execution_count": 72,
   "id": "84ace7e0",
   "metadata": {},
   "outputs": [
    {
     "data": {
      "text/plain": [
       "array([['Afghanistan', 90.2, 10.0, ..., 56.2, 5.82, 553],\n",
       "       ['Albania', 16.6, 28.0, ..., 76.3, 1.65, 4090],\n",
       "       ['Algeria', 27.3, 38.4, ..., 76.5, 2.89, 4460],\n",
       "       ...,\n",
       "       ['Vietnam', 23.3, 72.0, ..., 73.1, 1.95, 1310],\n",
       "       ['Yemen', 56.3, 30.0, ..., 67.5, 4.67, 1310],\n",
       "       ['Zambia', 83.1, 37.0, ..., 52.0, 5.4, 1460]], dtype=object)"
      ]
     },
     "execution_count": 72,
     "metadata": {},
     "output_type": "execute_result"
    }
   ],
   "source": [
    "df3.values"
   ]
  }
 ],
 "metadata": {
  "kernelspec": {
   "display_name": "Python 3 (ipykernel)",
   "language": "python",
   "name": "python3"
  },
  "language_info": {
   "codemirror_mode": {
    "name": "ipython",
    "version": 3
   },
   "file_extension": ".py",
   "mimetype": "text/x-python",
   "name": "python",
   "nbconvert_exporter": "python",
   "pygments_lexer": "ipython3",
   "version": "3.9.12"
  }
 },
 "nbformat": 4,
 "nbformat_minor": 5
}
