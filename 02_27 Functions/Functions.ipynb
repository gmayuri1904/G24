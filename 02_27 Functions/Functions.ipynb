{
 "cells": [
  {
   "cell_type": "code",
   "execution_count": 20,
   "id": "b97e96d1",
   "metadata": {},
   "outputs": [],
   "source": [
    "def demo(a,b=1,*num):\n",
    "    m=a*b\n",
    "    print('M:',m)\n",
    "    n=1\n",
    "    for i in num:\n",
    "        n*=i #n=n*i\n",
    "    print('N:',n)\n",
    "    return m+n"
   ]
  },
  {
   "cell_type": "code",
   "execution_count": 21,
   "id": "4f7ee0a5",
   "metadata": {},
   "outputs": [
    {
     "name": "stdout",
     "output_type": "stream",
     "text": [
      "M: 2\n",
      "N: 2520\n"
     ]
    },
    {
     "data": {
      "text/plain": [
       "2522"
      ]
     },
     "execution_count": 21,
     "metadata": {},
     "output_type": "execute_result"
    }
   ],
   "source": [
    "demo(1,2,3,4,5,6,7)"
   ]
  },
  {
   "cell_type": "markdown",
   "id": "ae3e57e2",
   "metadata": {},
   "source": [
    "## Keyword argument"
   ]
  },
  {
   "cell_type": "code",
   "execution_count": 38,
   "id": "666cdac6",
   "metadata": {},
   "outputs": [],
   "source": [
    "def demo(**kwargs):\n",
    "    for i,j in kwargs.items():\n",
    "        print(i,j)"
   ]
  },
  {
   "cell_type": "code",
   "execution_count": 39,
   "id": "d9e052e3",
   "metadata": {
    "scrolled": false
   },
   "outputs": [
    {
     "name": "stdout",
     "output_type": "stream",
     "text": [
      "phy 10\n",
      "chem 34\n",
      "maths 59\n"
     ]
    }
   ],
   "source": [
    "demo(phy=10,chem=34,maths=59)"
   ]
  },
  {
   "cell_type": "code",
   "execution_count": null,
   "id": "2a6e758a",
   "metadata": {},
   "outputs": [],
   "source": [
    "rollno,kwargs"
   ]
  },
  {
   "cell_type": "code",
   "execution_count": 53,
   "id": "57296ff6",
   "metadata": {},
   "outputs": [],
   "source": [
    "def result(rollno,total=100,**marks):\n",
    "    \n",
    "    print('Student ID is:',rollno)\n",
    "    print('Find marks below')\n",
    "    for i,j in marks.items():\n",
    "        print('Subject:',i,'Score:',j)\n",
    "    perc=(sum(marks.values())/(total*len(marks)))*100\n",
    "    print('% obtained is:',perc)"
   ]
  },
  {
   "cell_type": "code",
   "execution_count": 54,
   "id": "69b7e613",
   "metadata": {},
   "outputs": [
    {
     "name": "stdout",
     "output_type": "stream",
     "text": [
      "Student ID is: 122432\n",
      "Find marks below\n",
      "Subject: phy Score: 10\n",
      "Subject: chem Score: 34\n",
      "Subject: maths Score: 59\n",
      "% obtained is: 42.916666666666664\n"
     ]
    }
   ],
   "source": [
    "result(122432,80,phy=10,chem=34,maths=59)"
   ]
  }
 ],
 "metadata": {
  "kernelspec": {
   "display_name": "Python 3 (ipykernel)",
   "language": "python",
   "name": "python3"
  },
  "language_info": {
   "codemirror_mode": {
    "name": "ipython",
    "version": 3
   },
   "file_extension": ".py",
   "mimetype": "text/x-python",
   "name": "python",
   "nbconvert_exporter": "python",
   "pygments_lexer": "ipython3",
   "version": "3.9.12"
  }
 },
 "nbformat": 4,
 "nbformat_minor": 5
}
