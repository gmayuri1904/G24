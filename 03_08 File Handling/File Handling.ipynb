{
 "cells": [
  {
   "cell_type": "code",
   "execution_count": 1,
   "id": "3c656e59",
   "metadata": {},
   "outputs": [
    {
     "data": {
      "text/plain": [
       "<_io.TextIOWrapper name='demo1.txt' mode='x' encoding='cp1252'>"
      ]
     },
     "execution_count": 1,
     "metadata": {},
     "output_type": "execute_result"
    }
   ],
   "source": [
    "open('demo1.txt','x')"
   ]
  },
  {
   "cell_type": "code",
   "execution_count": 2,
   "id": "5332b1b0",
   "metadata": {},
   "outputs": [
    {
     "ename": "FileExistsError",
     "evalue": "[Errno 17] File exists: 'demo1.txt'",
     "output_type": "error",
     "traceback": [
      "\u001b[1;31m---------------------------------------------------------------------------\u001b[0m",
      "\u001b[1;31mFileExistsError\u001b[0m                           Traceback (most recent call last)",
      "Input \u001b[1;32mIn [2]\u001b[0m, in \u001b[0;36m<cell line: 1>\u001b[1;34m()\u001b[0m\n\u001b[1;32m----> 1\u001b[0m \u001b[38;5;28;43mopen\u001b[39;49m\u001b[43m(\u001b[49m\u001b[38;5;124;43m'\u001b[39;49m\u001b[38;5;124;43mdemo1.txt\u001b[39;49m\u001b[38;5;124;43m'\u001b[39;49m\u001b[43m,\u001b[49m\u001b[38;5;124;43m'\u001b[39;49m\u001b[38;5;124;43mx\u001b[39;49m\u001b[38;5;124;43m'\u001b[39;49m\u001b[43m)\u001b[49m\n",
      "\u001b[1;31mFileExistsError\u001b[0m: [Errno 17] File exists: 'demo1.txt'"
     ]
    }
   ],
   "source": [
    "open('demo1.txt','x')"
   ]
  },
  {
   "cell_type": "code",
   "execution_count": 4,
   "id": "36bf3334",
   "metadata": {},
   "outputs": [
    {
     "data": {
      "text/plain": [
       "<_io.TextIOWrapper name='D:\\\\G24\\\\03_06 Functions\\\\demo1.txt' mode='x' encoding='cp1252'>"
      ]
     },
     "execution_count": 4,
     "metadata": {},
     "output_type": "execute_result"
    }
   ],
   "source": [
    "open(r'D:\\G24\\03_06 Functions\\demo1.txt','x')"
   ]
  },
  {
   "cell_type": "code",
   "execution_count": 7,
   "id": "9a3985aa",
   "metadata": {},
   "outputs": [
    {
     "ename": "ValueError",
     "evalue": "I/O operation on closed file.",
     "output_type": "error",
     "traceback": [
      "\u001b[1;31m---------------------------------------------------------------------------\u001b[0m",
      "\u001b[1;31mValueError\u001b[0m                                Traceback (most recent call last)",
      "Input \u001b[1;32mIn [7]\u001b[0m, in \u001b[0;36m<cell line: 5>\u001b[1;34m()\u001b[0m\n\u001b[0;32m      3\u001b[0m f1\u001b[38;5;241m.\u001b[39mwrite(\u001b[38;5;124m'\u001b[39m\u001b[38;5;124mThis is demo2\u001b[39m\u001b[38;5;124m'\u001b[39m)\n\u001b[0;32m      4\u001b[0m f1\u001b[38;5;241m.\u001b[39mclose()\n\u001b[1;32m----> 5\u001b[0m \u001b[43mf1\u001b[49m\u001b[38;5;241;43m.\u001b[39;49m\u001b[43mwrite\u001b[49m\u001b[43m(\u001b[49m\u001b[38;5;124;43m'\u001b[39;49m\u001b[38;5;124;43mDemo2 again\u001b[39;49m\u001b[38;5;124;43m'\u001b[39;49m\u001b[43m)\u001b[49m\n",
      "\u001b[1;31mValueError\u001b[0m: I/O operation on closed file."
     ]
    }
   ],
   "source": [
    "f1=open('demo2.txt','w')\n",
    "\n",
    "f1.write('This is demo2')\n",
    "f1.close()\n",
    "#f1.write('Demo2 again')"
   ]
  },
  {
   "cell_type": "code",
   "execution_count": 8,
   "id": "a53f1f26",
   "metadata": {},
   "outputs": [],
   "source": [
    "f1=open('demo2.txt','w')\n",
    "\n",
    "f1.write('We are writing again')\n",
    "f1.close()"
   ]
  },
  {
   "cell_type": "code",
   "execution_count": 12,
   "id": "c194e62f",
   "metadata": {},
   "outputs": [],
   "source": [
    "f1=open('demo2.txt','a')\n",
    "\n",
    "f1.write('We are using apppend')\n",
    "f1.close()"
   ]
  },
  {
   "cell_type": "code",
   "execution_count": 13,
   "id": "206d3a4e",
   "metadata": {},
   "outputs": [],
   "source": [
    "f1=open('demo2.txt','a')\n",
    "\n",
    "f1.write('\\n writing on a new line')\n",
    "f1.close()"
   ]
  },
  {
   "cell_type": "code",
   "execution_count": 15,
   "id": "82cdbcd9",
   "metadata": {},
   "outputs": [],
   "source": [
    "text='''Python can be used on a server to create web applications.\n",
    "Python can be used alongside software to create workflows.\n",
    "Python can connect to database systems. It can also read and modify files.'''"
   ]
  },
  {
   "cell_type": "code",
   "execution_count": 16,
   "id": "d8f87500",
   "metadata": {},
   "outputs": [],
   "source": [
    "f1=open('demo3.txt','w')\n",
    "f1.write(text)\n",
    "f1.close()"
   ]
  },
  {
   "cell_type": "code",
   "execution_count": 17,
   "id": "b08c5f70",
   "metadata": {},
   "outputs": [],
   "source": [
    "text2='''Python can be used to handle big data and perform complex mathematics.\n",
    "Python can be used for rapid prototyping, or for production-ready software development.'''"
   ]
  },
  {
   "cell_type": "code",
   "execution_count": 18,
   "id": "99a73e83",
   "metadata": {},
   "outputs": [],
   "source": [
    "f1=open('demo3.txt','a')\n",
    "f1.write(text2)\n",
    "f1.close()"
   ]
  },
  {
   "cell_type": "code",
   "execution_count": 21,
   "id": "7b04c047",
   "metadata": {},
   "outputs": [],
   "source": [
    "f1=open('demo4.txt','w')\n",
    "f1.write(list1[0])\n",
    "f1.write(list1[1])\n",
    "f1.close()"
   ]
  },
  {
   "cell_type": "code",
   "execution_count": null,
   "id": "7c4643dd",
   "metadata": {},
   "outputs": [],
   "source": [
    "text=['Python can be used on a server to create web applications.',\n",
    "      'Python can be used alongside software to create workflows.',\n",
    "      'Python can connect to database systems. It can also read and modify files.']"
   ]
  },
  {
   "cell_type": "code",
   "execution_count": 25,
   "id": "09f9dac2",
   "metadata": {},
   "outputs": [],
   "source": [
    "f1=open('demo4.txt','w')\n",
    "f1.writelines(text)\n",
    "f1.close()"
   ]
  },
  {
   "cell_type": "code",
   "execution_count": 26,
   "id": "16a4ff67",
   "metadata": {},
   "outputs": [
    {
     "name": "stdout",
     "output_type": "stream",
     "text": [
      "Python can be used on a server to create web applications.\n",
      "Python can be used alongside software to create workflows.\n",
      "Python can connect to database systems. It can also read and modify files.Python can be used to handle big data and perform complex mathematics.\n",
      "Python can be used for rapid prototyping, or for production-ready software development.\n"
     ]
    }
   ],
   "source": [
    "f2=open('demo3.txt','r')\n",
    "data=f2.read()\n",
    "print(data)\n",
    "f2.close()"
   ]
  },
  {
   "cell_type": "code",
   "execution_count": 27,
   "id": "b8cc9502",
   "metadata": {},
   "outputs": [
    {
     "name": "stdout",
     "output_type": "stream",
     "text": [
      "Python can be used on a server to create web applications.\n",
      "Python can be used alongside software to create workflows.\n",
      "Python can connect to database systems. It can also read and modify files.\n"
     ]
    }
   ],
   "source": [
    "f2=open('demo4.txt','r')\n",
    "data=f2.read()\n",
    "print(data)\n",
    "f2.close()"
   ]
  },
  {
   "cell_type": "code",
   "execution_count": 28,
   "id": "7f2ddcc8",
   "metadata": {},
   "outputs": [
    {
     "name": "stdout",
     "output_type": "stream",
     "text": [
      "\n",
      " writing on a new lineWe are using apppend\n",
      " writing on a new line\n"
     ]
    }
   ],
   "source": [
    "f2=open('demo2.txt','r')\n",
    "data=f2.read()\n",
    "print(data)\n",
    "f2.close()"
   ]
  },
  {
   "cell_type": "code",
   "execution_count": 31,
   "id": "c4f05fc1",
   "metadata": {},
   "outputs": [
    {
     "name": "stdout",
     "output_type": "stream",
     "text": [
      "Python can be u\n",
      "sed on a s\n",
      "erver to create web appli\n"
     ]
    }
   ],
   "source": [
    "f2=open('demo3.txt','r')\n",
    "data=f2.read(15)\n",
    "data2=f2.read(10)\n",
    "data3=f2.read(25)\n",
    "print(data)\n",
    "print(data2)\n",
    "print(data3)\n",
    "f2.close()"
   ]
  },
  {
   "cell_type": "code",
   "execution_count": 34,
   "id": "b66d954e",
   "metadata": {},
   "outputs": [
    {
     "name": "stdout",
     "output_type": "stream",
     "text": [
      "Python can be used on a server to create web applications.\n",
      "\n",
      "Python can be used alongside software to create workflows.\n",
      "\n",
      "Python can connect to database systems. It can also read and modify files.Python can be used to handle big data and perform complex mathematics.\n",
      "\n"
     ]
    }
   ],
   "source": [
    "f2=open('demo3.txt','r')\n",
    "data=f2.readline()\n",
    "data2=f2.readline()\n",
    "data3=f2.readline()\n",
    "print(data)\n",
    "print(data2)\n",
    "print(data3)\n",
    "f2.close()"
   ]
  },
  {
   "cell_type": "code",
   "execution_count": 35,
   "id": "ddc4e4f9",
   "metadata": {},
   "outputs": [
    {
     "name": "stdout",
     "output_type": "stream",
     "text": [
      "Python can be used on a server to create web applications.\n",
      "\n",
      "Python can be used alongside software to create workflows.\n",
      "\n",
      "Python can connect to database systems. It can also read and modify files.Python can be used to handle big data and perform complex mathematics.\n",
      "\n",
      "Python can be used for rapid prototyping, or for production-ready software development.\n"
     ]
    }
   ],
   "source": [
    "f3=open('demo3.txt','r')\n",
    "while True:\n",
    "    data=f3.readline()\n",
    "    if data=='':\n",
    "        break\n",
    "    else:\n",
    "        print(data)\n",
    "        \n",
    "f3.close()"
   ]
  },
  {
   "cell_type": "code",
   "execution_count": null,
   "id": "ed28737c",
   "metadata": {},
   "outputs": [],
   "source": []
  }
 ],
 "metadata": {
  "kernelspec": {
   "display_name": "Python 3 (ipykernel)",
   "language": "python",
   "name": "python3"
  },
  "language_info": {
   "codemirror_mode": {
    "name": "ipython",
    "version": 3
   },
   "file_extension": ".py",
   "mimetype": "text/x-python",
   "name": "python",
   "nbconvert_exporter": "python",
   "pygments_lexer": "ipython3",
   "version": "3.9.12"
  }
 },
 "nbformat": 4,
 "nbformat_minor": 5
}
