{
 "cells": [
  {
   "cell_type": "code",
   "execution_count": 8,
   "id": "220fc7ef",
   "metadata": {},
   "outputs": [],
   "source": [
    "list1=[1,2,3,4,5]"
   ]
  },
  {
   "cell_type": "code",
   "execution_count": 9,
   "id": "ed2d1fbd",
   "metadata": {},
   "outputs": [],
   "source": [
    "list2=[10,11,12,23,13]"
   ]
  },
  {
   "cell_type": "code",
   "execution_count": 10,
   "id": "6bdec34b",
   "metadata": {},
   "outputs": [
    {
     "name": "stdout",
     "output_type": "stream",
     "text": [
      "[1, 2, 3, 4, 5]\n"
     ]
    }
   ],
   "source": [
    "print(list1)"
   ]
  },
  {
   "cell_type": "code",
   "execution_count": 11,
   "id": "8dbcb4a7",
   "metadata": {},
   "outputs": [
    {
     "data": {
      "text/plain": [
       "[1, 2, 3, 4, 5, 10, 11, 12, 23, 13]"
      ]
     },
     "execution_count": 11,
     "metadata": {},
     "output_type": "execute_result"
    }
   ],
   "source": [
    "list1+list2"
   ]
  },
  {
   "cell_type": "code",
   "execution_count": 13,
   "id": "36817d9b",
   "metadata": {},
   "outputs": [
    {
     "data": {
      "text/plain": [
       "[1, 2, 3, 4, 5, 1, 2, 3, 4, 5]"
      ]
     },
     "execution_count": 13,
     "metadata": {},
     "output_type": "execute_result"
    }
   ],
   "source": [
    "list1*2"
   ]
  },
  {
   "cell_type": "code",
   "execution_count": 14,
   "id": "59e64f03",
   "metadata": {},
   "outputs": [
    {
     "data": {
      "text/plain": [
       "0.8333333333333333"
      ]
     },
     "execution_count": 14,
     "metadata": {},
     "output_type": "execute_result"
    }
   ],
   "source": [
    "(2/6)+(3/6)"
   ]
  },
  {
   "cell_type": "code",
   "execution_count": 15,
   "id": "97633430",
   "metadata": {},
   "outputs": [
    {
     "data": {
      "text/plain": [
       "0.8333333333333334"
      ]
     },
     "execution_count": 15,
     "metadata": {},
     "output_type": "execute_result"
    }
   ],
   "source": [
    "5/6"
   ]
  },
  {
   "cell_type": "code",
   "execution_count": 16,
   "id": "3f8794e6",
   "metadata": {},
   "outputs": [],
   "source": [
    "class Fraction:\n",
    "    \n",
    "    def __init__(self,num,den):\n",
    "        self.num=num\n",
    "        self.den=den\n",
    "        print('Object initialized')"
   ]
  },
  {
   "cell_type": "code",
   "execution_count": 17,
   "id": "f8ecf209",
   "metadata": {},
   "outputs": [
    {
     "name": "stdout",
     "output_type": "stream",
     "text": [
      "Object initialized\n"
     ]
    }
   ],
   "source": [
    "f1=Fraction(2,6)"
   ]
  },
  {
   "cell_type": "code",
   "execution_count": 18,
   "id": "df33b45f",
   "metadata": {},
   "outputs": [
    {
     "name": "stdout",
     "output_type": "stream",
     "text": [
      "<__main__.Fraction object at 0x0000019C57111460>\n"
     ]
    }
   ],
   "source": [
    "print(f1)"
   ]
  },
  {
   "cell_type": "code",
   "execution_count": 40,
   "id": "44f2d666",
   "metadata": {},
   "outputs": [],
   "source": [
    "class Fraction:\n",
    "    \n",
    "    def __init__(self,num,den):\n",
    "        self.num=num\n",
    "        self.den=den\n",
    "        print('Object initialized')\n",
    "        \n",
    "    def  __str__(self):\n",
    "        return '<{}/{}>'.format(self.num,self.den)     # <2/6>\n",
    "    \n",
    "    def __add__(self,other):    # obj1+obj2\n",
    "        \n",
    "#         self.num,self.den>> obj1\n",
    "#         other.num,other.den>> obj2\n",
    "        \n",
    "        new_num=(self.num*other.den)+(other.num*self.den)\n",
    "        new_den=self.den*other.den\n",
    "        \n",
    "        return '{}/{}'.format(new_num,new_den)"
   ]
  },
  {
   "cell_type": "code",
   "execution_count": 41,
   "id": "8caf94da",
   "metadata": {},
   "outputs": [
    {
     "name": "stdout",
     "output_type": "stream",
     "text": [
      "Object initialized\n",
      "Object initialized\n"
     ]
    }
   ],
   "source": [
    "f1=Fraction(3,5)\n",
    "f2=Fraction(2,7)"
   ]
  },
  {
   "cell_type": "code",
   "execution_count": 42,
   "id": "fbeae5f9",
   "metadata": {},
   "outputs": [
    {
     "name": "stdout",
     "output_type": "stream",
     "text": [
      "<2/7>\n"
     ]
    }
   ],
   "source": [
    "print(f2)"
   ]
  },
  {
   "cell_type": "code",
   "execution_count": 43,
   "id": "9731eff4",
   "metadata": {},
   "outputs": [
    {
     "data": {
      "text/plain": [
       "'31/35'"
      ]
     },
     "execution_count": 43,
     "metadata": {},
     "output_type": "execute_result"
    }
   ],
   "source": [
    "f1 + f2"
   ]
  },
  {
   "cell_type": "code",
   "execution_count": 44,
   "id": "51fce88f",
   "metadata": {},
   "outputs": [
    {
     "ename": "NameError",
     "evalue": "name '__add__' is not defined",
     "output_type": "error",
     "traceback": [
      "\u001b[1;31m---------------------------------------------------------------------------\u001b[0m",
      "\u001b[1;31mNameError\u001b[0m                                 Traceback (most recent call last)",
      "Input \u001b[1;32mIn [44]\u001b[0m, in \u001b[0;36m<cell line: 1>\u001b[1;34m()\u001b[0m\n\u001b[1;32m----> 1\u001b[0m \u001b[38;5;21;43m__add__\u001b[39;49m\n\u001b[0;32m      2\u001b[0m \u001b[38;5;21m__sub__\u001b[39m\n\u001b[0;32m      3\u001b[0m \u001b[38;5;21m__mul__\u001b[39m\n",
      "\u001b[1;31mNameError\u001b[0m: name '__add__' is not defined"
     ]
    }
   ],
   "source": [
    "__add__\n",
    "__sub__\n",
    "__mul__\n",
    "__truediv__"
   ]
  }
 ],
 "metadata": {
  "kernelspec": {
   "display_name": "Python 3 (ipykernel)",
   "language": "python",
   "name": "python3"
  },
  "language_info": {
   "codemirror_mode": {
    "name": "ipython",
    "version": 3
   },
   "file_extension": ".py",
   "mimetype": "text/x-python",
   "name": "python",
   "nbconvert_exporter": "python",
   "pygments_lexer": "ipython3",
   "version": "3.9.12"
  }
 },
 "nbformat": 4,
 "nbformat_minor": 5
}
