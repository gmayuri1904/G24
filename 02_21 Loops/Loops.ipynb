{
 "cells": [
  {
   "cell_type": "code",
   "execution_count": 1,
   "id": "d9506839",
   "metadata": {},
   "outputs": [
    {
     "name": "stdout",
     "output_type": "stream",
     "text": [
      "Hello 1\n",
      "Hello 2\n",
      "Hello 3\n",
      "Hello 4\n",
      "Hello 5\n",
      "Hello 6\n",
      "Hello 7\n",
      "Hello 8\n",
      "Hello 9\n",
      "Hello 10\n"
     ]
    }
   ],
   "source": [
    "for i in range(1,11):\n",
    "    print('Hello',i)"
   ]
  },
  {
   "cell_type": "code",
   "execution_count": 2,
   "id": "0c37b49e",
   "metadata": {},
   "outputs": [
    {
     "name": "stdout",
     "output_type": "stream",
     "text": [
      "Hello 1\n",
      "Hello 2\n",
      "Hello 3\n",
      "Hello 4\n",
      "Hello 5\n",
      "Hello 6\n",
      "Hello 7\n",
      "Hello 8\n",
      "Hello 9\n",
      "Hello 10\n"
     ]
    }
   ],
   "source": [
    "i=1\n",
    "\n",
    "while i<11:\n",
    "    print('Hello',i)\n",
    "    i+=1"
   ]
  },
  {
   "cell_type": "code",
   "execution_count": null,
   "id": "54dc1a7e",
   "metadata": {},
   "outputs": [],
   "source": [
    "div by 5 1-26"
   ]
  },
  {
   "cell_type": "code",
   "execution_count": 3,
   "id": "9b76986c",
   "metadata": {},
   "outputs": [
    {
     "name": "stdout",
     "output_type": "stream",
     "text": [
      "5\n",
      "10\n",
      "15\n",
      "20\n",
      "25\n"
     ]
    }
   ],
   "source": [
    "for i in range(1,26):\n",
    "    if i%5==0:\n",
    "        print(i)"
   ]
  },
  {
   "cell_type": "code",
   "execution_count": 4,
   "id": "6610667a",
   "metadata": {},
   "outputs": [
    {
     "name": "stdout",
     "output_type": "stream",
     "text": [
      "5\n",
      "10\n",
      "15\n",
      "20\n",
      "25\n"
     ]
    }
   ],
   "source": [
    "i=1\n",
    "\n",
    "while i<26:\n",
    "    if i%5==0:\n",
    "        print(i)\n",
    "    i+=1\n",
    "        "
   ]
  },
  {
   "cell_type": "code",
   "execution_count": 5,
   "id": "8cd5d65a",
   "metadata": {},
   "outputs": [
    {
     "name": "stdout",
     "output_type": "stream",
     "text": [
      "25\n",
      "20\n",
      "15\n",
      "10\n",
      "5\n"
     ]
    }
   ],
   "source": [
    "i=26 #26-1\n",
    "\n",
    "while i>1:\n",
    "    if i%5==0:\n",
    "        print(i)\n",
    "    i-=1"
   ]
  },
  {
   "cell_type": "code",
   "execution_count": 6,
   "id": "e232a940",
   "metadata": {},
   "outputs": [],
   "source": [
    "str1='research has shown that young children learn moral reasoning through stories and from what they are told at an early age'"
   ]
  },
  {
   "cell_type": "code",
   "execution_count": 9,
   "id": "94558b74",
   "metadata": {},
   "outputs": [
    {
     "data": {
      "text/plain": [
       "120"
      ]
     },
     "execution_count": 9,
     "metadata": {},
     "output_type": "execute_result"
    }
   ],
   "source": [
    "str1\n",
    "len(str1)"
   ]
  },
  {
   "cell_type": "code",
   "execution_count": 8,
   "id": "da3e7a5b",
   "metadata": {},
   "outputs": [
    {
     "name": "stdout",
     "output_type": "stream",
     "text": [
      "research\n",
      "has\n",
      "shown\n",
      "that\n",
      "young\n",
      "children\n",
      "learn\n",
      "moral\n",
      "reasoning\n",
      "through\n",
      "stories\n",
      "and\n",
      "from\n",
      "what\n",
      "they\n",
      "are\n",
      "told\n",
      "at\n",
      "an\n",
      "early\n",
      "age\n"
     ]
    }
   ],
   "source": [
    "for i in str1.split():\n",
    "    print(i)"
   ]
  },
  {
   "cell_type": "code",
   "execution_count": 11,
   "id": "a33ee3fa",
   "metadata": {},
   "outputs": [],
   "source": [
    "str2='This is python class'"
   ]
  },
  {
   "cell_type": "code",
   "execution_count": 12,
   "id": "fb086127",
   "metadata": {},
   "outputs": [
    {
     "name": "stdout",
     "output_type": "stream",
     "text": [
      "0\n",
      "1\n",
      "2\n",
      "3\n",
      "4\n",
      "5\n",
      "6\n",
      "7\n",
      "8\n",
      "9\n",
      "10\n",
      "11\n",
      "12\n",
      "13\n",
      "14\n",
      "15\n",
      "16\n",
      "17\n",
      "18\n",
      "19\n"
     ]
    }
   ],
   "source": [
    "for i in range(len(str2)):\n",
    "    print(i)"
   ]
  },
  {
   "cell_type": "code",
   "execution_count": 14,
   "id": "3074143d",
   "metadata": {},
   "outputs": [
    {
     "name": "stdout",
     "output_type": "stream",
     "text": [
      "5\n",
      "6\n",
      "7\n",
      "8\n",
      "9\n",
      "end\n"
     ]
    }
   ],
   "source": [
    "i=5\n",
    "while i<10:\n",
    "    print(i) #9\n",
    "    i+=1\n",
    "    \n",
    "else:\n",
    "    print('end')"
   ]
  },
  {
   "cell_type": "code",
   "execution_count": null,
   "id": "24de9bb1",
   "metadata": {},
   "outputs": [],
   "source": [
    "break"
   ]
  },
  {
   "cell_type": "code",
   "execution_count": 15,
   "id": "a8c3f110",
   "metadata": {},
   "outputs": [
    {
     "name": "stdout",
     "output_type": "stream",
     "text": [
      "5\n",
      "6\n",
      "7\n"
     ]
    }
   ],
   "source": [
    "i=5\n",
    "while i<10:\n",
    "    print(i) \n",
    "    i+=1\n",
    "    if i==8:\n",
    "        break"
   ]
  },
  {
   "cell_type": "code",
   "execution_count": 19,
   "id": "dab4ba18",
   "metadata": {},
   "outputs": [
    {
     "name": "stdout",
     "output_type": "stream",
     "text": [
      "5\n",
      "6\n",
      "7\n",
      "8\n"
     ]
    }
   ],
   "source": [
    "i=5\n",
    "while i<10:\n",
    "    print(i) \n",
    "    i+=1\n",
    "    if i==9:\n",
    "        break\n",
    "        \n",
    "else:\n",
    "    print('Iterated successfully')"
   ]
  },
  {
   "cell_type": "code",
   "execution_count": null,
   "id": "536f5479",
   "metadata": {},
   "outputs": [],
   "source": [
    "1,2,3,4,5,7,8,9"
   ]
  },
  {
   "cell_type": "code",
   "execution_count": null,
   "id": "e1c07dea",
   "metadata": {},
   "outputs": [],
   "source": [
    "continue"
   ]
  },
  {
   "cell_type": "code",
   "execution_count": 23,
   "id": "1e63e43a",
   "metadata": {},
   "outputs": [
    {
     "name": "stdout",
     "output_type": "stream",
     "text": [
      "5\n",
      "7\n",
      "8\n",
      "9\n",
      "10\n"
     ]
    }
   ],
   "source": [
    "i=4\n",
    "while i<10:\n",
    "    i+=1\n",
    "    if i==6:\n",
    "        continue\n",
    "    print(i)  "
   ]
  },
  {
   "cell_type": "code",
   "execution_count": 24,
   "id": "16e19683",
   "metadata": {},
   "outputs": [
    {
     "name": "stdout",
     "output_type": "stream",
     "text": [
      "5\n",
      "7\n",
      "8\n",
      "9\n",
      "10\n",
      "executed successfully\n"
     ]
    }
   ],
   "source": [
    "i=4\n",
    "while i<10:\n",
    "    i+=1\n",
    "    if i==6:\n",
    "        continue\n",
    "    print(i)  \n",
    "    \n",
    "else:\n",
    "    print('executed successfully')"
   ]
  },
  {
   "cell_type": "code",
   "execution_count": 25,
   "id": "4eaff8b2",
   "metadata": {},
   "outputs": [],
   "source": [
    "list1=[11,24,45,27,37,94,85,62,86,57,91,82,35,16]\n",
    "list2=[35,53,65,83,74,62,86,57,91]"
   ]
  },
  {
   "cell_type": "code",
   "execution_count": null,
   "id": "e31fa71e",
   "metadata": {},
   "outputs": [],
   "source": [
    "run a loop \n",
    "if item  in list1"
   ]
  },
  {
   "cell_type": "code",
   "execution_count": 27,
   "id": "237c428a",
   "metadata": {},
   "outputs": [
    {
     "name": "stdout",
     "output_type": "stream",
     "text": [
      "35\n",
      "62\n",
      "86\n",
      "57\n",
      "91\n"
     ]
    }
   ],
   "source": [
    "for i in list2:\n",
    "    if i in list1:\n",
    "        print(i)"
   ]
  },
  {
   "cell_type": "code",
   "execution_count": 28,
   "id": "82ec676b",
   "metadata": {},
   "outputs": [],
   "source": [
    "list3=['frwg','eqhqte','etgG',123,4151,5362,4526.425,67,45.2,53.2,43,12,'REG']"
   ]
  },
  {
   "cell_type": "code",
   "execution_count": 29,
   "id": "18ca64d6",
   "metadata": {},
   "outputs": [
    {
     "data": {
      "text/plain": [
       "['frwg',\n",
       " 'eqhqte',\n",
       " 'etgG',\n",
       " 123,\n",
       " 4151,\n",
       " 5362,\n",
       " 4526.425,\n",
       " 67,\n",
       " 45.2,\n",
       " 53.2,\n",
       " 43,\n",
       " 12,\n",
       " 'REG']"
      ]
     },
     "execution_count": 29,
     "metadata": {},
     "output_type": "execute_result"
    }
   ],
   "source": [
    "list3"
   ]
  },
  {
   "cell_type": "code",
   "execution_count": 30,
   "id": "c6ca359d",
   "metadata": {},
   "outputs": [],
   "source": [
    "strs=[]\n",
    "ints=[]\n",
    "floats=[]"
   ]
  },
  {
   "cell_type": "code",
   "execution_count": 33,
   "id": "bc5f5da9",
   "metadata": {},
   "outputs": [
    {
     "name": "stdout",
     "output_type": "stream",
     "text": [
      "['frwg', 'eqhqte', 'etgG', 'REG']\n",
      "[123, 4151, 5362, 67, 43, 12]\n",
      "[4526.425, 45.2, 53.2]\n"
     ]
    }
   ],
   "source": [
    "for i in list3:\n",
    "    if type(i)==int:\n",
    "        ints.append(i)\n",
    "    elif type(i)==float:\n",
    "        floats.append(i)\n",
    "    else:\n",
    "        strs.append(i)\n",
    "        \n",
    "print(strs)\n",
    "print(ints)\n",
    "print(floats)"
   ]
  },
  {
   "cell_type": "code",
   "execution_count": 34,
   "id": "81bc1a7e",
   "metadata": {},
   "outputs": [
    {
     "data": {
      "text/plain": [
       "['frwg', 'eqhqte', 'etgG', 'REG']"
      ]
     },
     "execution_count": 34,
     "metadata": {},
     "output_type": "execute_result"
    }
   ],
   "source": [
    "strs"
   ]
  },
  {
   "cell_type": "code",
   "execution_count": 35,
   "id": "0568ec01",
   "metadata": {},
   "outputs": [
    {
     "name": "stdout",
     "output_type": "stream",
     "text": [
      "frwg\n",
      "eqhqte\n",
      "etgG\n",
      "REG\n"
     ]
    }
   ],
   "source": [
    "for i in strs:\n",
    "    print(i)"
   ]
  }
 ],
 "metadata": {
  "kernelspec": {
   "display_name": "Python 3 (ipykernel)",
   "language": "python",
   "name": "python3"
  },
  "language_info": {
   "codemirror_mode": {
    "name": "ipython",
    "version": 3
   },
   "file_extension": ".py",
   "mimetype": "text/x-python",
   "name": "python",
   "nbconvert_exporter": "python",
   "pygments_lexer": "ipython3",
   "version": "3.9.12"
  }
 },
 "nbformat": 4,
 "nbformat_minor": 5
}
