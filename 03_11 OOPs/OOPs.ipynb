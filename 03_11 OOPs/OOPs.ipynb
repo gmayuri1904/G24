{
 "cells": [
  {
   "cell_type": "code",
   "execution_count": 5,
   "id": "f555aff2",
   "metadata": {},
   "outputs": [],
   "source": [
    "list1=[1,2,3,4]\n",
    "list2=[4,5,6,7,8,9,10]\n",
    "list3=['a','b','c','d']"
   ]
  },
  {
   "cell_type": "code",
   "execution_count": null,
   "id": "b630ca69",
   "metadata": {},
   "outputs": [],
   "source": [
    "class >> list\n",
    "obj >> list1"
   ]
  },
  {
   "cell_type": "code",
   "execution_count": 3,
   "id": "df5c3c9f",
   "metadata": {},
   "outputs": [
    {
     "data": {
      "text/plain": [
       "[1, 2, 3, 4, 1, 2, 3, 4, 1, 2, 3, 4]"
      ]
     },
     "execution_count": 3,
     "metadata": {},
     "output_type": "execute_result"
    }
   ],
   "source": [
    "list1 +  list1\n",
    "list1*3"
   ]
  },
  {
   "cell_type": "code",
   "execution_count": null,
   "id": "7cd92c99",
   "metadata": {},
   "outputs": [],
   "source": [
    "list1."
   ]
  },
  {
   "cell_type": "code",
   "execution_count": 4,
   "id": "4c6150ff",
   "metadata": {},
   "outputs": [],
   "source": [
    "dict1={1:'one',2:'two'}"
   ]
  },
  {
   "cell_type": "code",
   "execution_count": null,
   "id": "890ffb53",
   "metadata": {},
   "outputs": [],
   "source": [
    "dict1."
   ]
  },
  {
   "cell_type": "code",
   "execution_count": null,
   "id": "8066148d",
   "metadata": {},
   "outputs": [],
   "source": []
  },
  {
   "cell_type": "code",
   "execution_count": 8,
   "id": "0d260fdf",
   "metadata": {},
   "outputs": [],
   "source": [
    "class InsuranceCost():\n",
    "    #This is dog class\n",
    "    pass"
   ]
  },
  {
   "cell_type": "code",
   "execution_count": 9,
   "id": "767b9994",
   "metadata": {},
   "outputs": [],
   "source": [
    "obj1=InsuranceCost()"
   ]
  },
  {
   "cell_type": "code",
   "execution_count": 12,
   "id": "1e3cb320",
   "metadata": {},
   "outputs": [],
   "source": [
    "list4=list((2,3,4,5))"
   ]
  },
  {
   "cell_type": "code",
   "execution_count": 14,
   "id": "749b5494",
   "metadata": {},
   "outputs": [],
   "source": [
    "def add(a,b):\n",
    "    return a+b"
   ]
  },
  {
   "cell_type": "code",
   "execution_count": 15,
   "id": "da1c7026",
   "metadata": {},
   "outputs": [],
   "source": [
    "s=add(12,13)"
   ]
  },
  {
   "cell_type": "code",
   "execution_count": 16,
   "id": "92d96655",
   "metadata": {},
   "outputs": [
    {
     "data": {
      "text/plain": [
       "25"
      ]
     },
     "execution_count": 16,
     "metadata": {},
     "output_type": "execute_result"
    }
   ],
   "source": [
    "s"
   ]
  },
  {
   "cell_type": "code",
   "execution_count": 26,
   "id": "74d4a7d2",
   "metadata": {},
   "outputs": [],
   "source": [
    "class Dog:\n",
    "    \n",
    "    \n",
    "    def demo(self):\n",
    "        print('This is demo')\n",
    "        \n",
    "    def info(self,name,breed):  #Method\n",
    "        print('This is',name,'his breed is',breed)"
   ]
  },
  {
   "cell_type": "code",
   "execution_count": 27,
   "id": "3e4792d3",
   "metadata": {},
   "outputs": [],
   "source": [
    "obj1=Dog()"
   ]
  },
  {
   "cell_type": "code",
   "execution_count": 28,
   "id": "37787c33",
   "metadata": {},
   "outputs": [
    {
     "name": "stdout",
     "output_type": "stream",
     "text": [
      "This is demo\n"
     ]
    }
   ],
   "source": [
    "obj1.demo()\n",
    "obj1."
   ]
  },
  {
   "cell_type": "code",
   "execution_count": 29,
   "id": "63c74ab7",
   "metadata": {},
   "outputs": [
    {
     "name": "stdout",
     "output_type": "stream",
     "text": [
      "This is Casper his breed is Poodle\n"
     ]
    }
   ],
   "source": [
    "obj1.info('Casper','Poodle')"
   ]
  },
  {
   "cell_type": "code",
   "execution_count": 31,
   "id": "8d638f6d",
   "metadata": {},
   "outputs": [
    {
     "name": "stdout",
     "output_type": "stream",
     "text": [
      "This is Scooby his breed is Labrador\n"
     ]
    }
   ],
   "source": [
    "obj2=Dog()\n",
    "obj2.info('Scooby','Labrador')"
   ]
  },
  {
   "cell_type": "code",
   "execution_count": 34,
   "id": "9a2d7312",
   "metadata": {},
   "outputs": [
    {
     "name": "stdout",
     "output_type": "stream",
     "text": [
      "[1, 2, 3, 4]\n"
     ]
    },
    {
     "data": {
      "text/plain": [
       "[1, 2, 3, 4, 4, 5, 6, 7, 8, 9, 10]"
      ]
     },
     "execution_count": 34,
     "metadata": {},
     "output_type": "execute_result"
    }
   ],
   "source": [
    "print(list1)\n",
    "list1+list2"
   ]
  },
  {
   "cell_type": "code",
   "execution_count": 33,
   "id": "5d5a36dc",
   "metadata": {},
   "outputs": [
    {
     "name": "stdout",
     "output_type": "stream",
     "text": [
      "<__main__.Dog object at 0x000002C9E13515B0>\n"
     ]
    }
   ],
   "source": [
    "print(obj1)"
   ]
  },
  {
   "cell_type": "code",
   "execution_count": 35,
   "id": "0f7d8a2b",
   "metadata": {},
   "outputs": [
    {
     "ename": "TypeError",
     "evalue": "unsupported operand type(s) for +: 'Dog' and 'Dog'",
     "output_type": "error",
     "traceback": [
      "\u001b[1;31m---------------------------------------------------------------------------\u001b[0m",
      "\u001b[1;31mTypeError\u001b[0m                                 Traceback (most recent call last)",
      "Input \u001b[1;32mIn [35]\u001b[0m, in \u001b[0;36m<cell line: 1>\u001b[1;34m()\u001b[0m\n\u001b[1;32m----> 1\u001b[0m \u001b[43mobj1\u001b[49m\u001b[43m \u001b[49m\u001b[38;5;241;43m+\u001b[39;49m\u001b[43m \u001b[49m\u001b[43mobj2\u001b[49m\n",
      "\u001b[1;31mTypeError\u001b[0m: unsupported operand type(s) for +: 'Dog' and 'Dog'"
     ]
    }
   ],
   "source": [
    "obj1 + obj2"
   ]
  },
  {
   "cell_type": "code",
   "execution_count": null,
   "id": "817fc830",
   "metadata": {},
   "outputs": [],
   "source": []
  }
 ],
 "metadata": {
  "kernelspec": {
   "display_name": "Python 3 (ipykernel)",
   "language": "python",
   "name": "python3"
  },
  "language_info": {
   "codemirror_mode": {
    "name": "ipython",
    "version": 3
   },
   "file_extension": ".py",
   "mimetype": "text/x-python",
   "name": "python",
   "nbconvert_exporter": "python",
   "pygments_lexer": "ipython3",
   "version": "3.9.12"
  }
 },
 "nbformat": 4,
 "nbformat_minor": 5
}
