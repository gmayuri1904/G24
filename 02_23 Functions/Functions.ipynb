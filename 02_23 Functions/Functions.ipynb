{
 "cells": [
  {
   "cell_type": "code",
   "execution_count": null,
   "id": "bc3d9efe",
   "metadata": {},
   "outputs": [],
   "source": [
    "len , breadth >> area"
   ]
  },
  {
   "cell_type": "code",
   "execution_count": 2,
   "id": "0ba00f63",
   "metadata": {},
   "outputs": [
    {
     "data": {
      "text/plain": [
       "23"
      ]
     },
     "execution_count": 2,
     "metadata": {},
     "output_type": "execute_result"
    }
   ],
   "source": [
    "min([23,5,1,3,4])\n",
    "max([23,5,1,3,4])"
   ]
  },
  {
   "cell_type": "code",
   "execution_count": null,
   "id": "7697f4b2",
   "metadata": {},
   "outputs": [],
   "source": [
    "def max_val(list1):\n",
    "    "
   ]
  },
  {
   "cell_type": "code",
   "execution_count": 5,
   "id": "772f6c1b",
   "metadata": {},
   "outputs": [
    {
     "name": "stdout",
     "output_type": "stream",
     "text": [
      "999998\n"
     ]
    }
   ],
   "source": [
    "def min(list):\n",
    "    min=999999\n",
    "    for i in list:\n",
    "        if(min>i):\n",
    "            min=i\n",
    "    print(min)\n",
    "min([999998,999999,1999999])"
   ]
  },
  {
   "cell_type": "code",
   "execution_count": 6,
   "id": "1960a024",
   "metadata": {},
   "outputs": [
    {
     "data": {
      "text/plain": [
       "3"
      ]
     },
     "execution_count": 6,
     "metadata": {},
     "output_type": "execute_result"
    }
   ],
   "source": [
    "len([999998,999999,1999999])"
   ]
  },
  {
   "cell_type": "code",
   "execution_count": 7,
   "id": "eb164514",
   "metadata": {},
   "outputs": [
    {
     "name": "stdout",
     "output_type": "stream",
     "text": [
      "6\n"
     ]
    }
   ],
   "source": [
    "def length(list1):\n",
    "    count=0\n",
    "    for i in list1:\n",
    "        count=count+1\n",
    "    print(count)\n",
    "length('python')"
   ]
  },
  {
   "cell_type": "markdown",
   "id": "d270f45e",
   "metadata": {},
   "source": [
    "## Type of Arguments"
   ]
  },
  {
   "cell_type": "raw",
   "id": "110da7dd",
   "metadata": {},
   "source": [
    "1. Positional\n",
    "2. Default\n",
    "3. Arbitrary\n",
    "4. Keyword"
   ]
  },
  {
   "cell_type": "code",
   "execution_count": 8,
   "id": "f6511aeb",
   "metadata": {},
   "outputs": [],
   "source": [
    "def name(first, last):\n",
    "    print('Hello',first,last)"
   ]
  },
  {
   "cell_type": "code",
   "execution_count": 9,
   "id": "f3150d90",
   "metadata": {},
   "outputs": [
    {
     "name": "stdout",
     "output_type": "stream",
     "text": [
      "Hello Peter Parker\n"
     ]
    }
   ],
   "source": [
    "name('Peter','Parker')"
   ]
  },
  {
   "cell_type": "code",
   "execution_count": 16,
   "id": "e1f7c50e",
   "metadata": {},
   "outputs": [
    {
     "name": "stdout",
     "output_type": "stream",
     "text": [
      "Hello Peter Parker\n"
     ]
    }
   ],
   "source": [
    "name(last='Parker',first='Peter')"
   ]
  },
  {
   "cell_type": "code",
   "execution_count": 10,
   "id": "f505599f",
   "metadata": {},
   "outputs": [
    {
     "data": {
      "text/plain": [
       "16"
      ]
     },
     "execution_count": 10,
     "metadata": {},
     "output_type": "execute_result"
    }
   ],
   "source": [
    "pow(4,2) #4 power to 2"
   ]
  },
  {
   "cell_type": "code",
   "execution_count": 11,
   "id": "c59cde31",
   "metadata": {},
   "outputs": [
    {
     "data": {
      "text/plain": [
       "1000"
      ]
     },
     "execution_count": 11,
     "metadata": {},
     "output_type": "execute_result"
    }
   ],
   "source": [
    "pow(10,3) #3**10"
   ]
  },
  {
   "cell_type": "code",
   "execution_count": 13,
   "id": "f786cf37",
   "metadata": {},
   "outputs": [
    {
     "data": {
      "text/plain": [
       "59049"
      ]
     },
     "execution_count": 13,
     "metadata": {},
     "output_type": "execute_result"
    }
   ],
   "source": [
    "pow(exp=10,base=3)"
   ]
  },
  {
   "cell_type": "code",
   "execution_count": 14,
   "id": "67c649b1",
   "metadata": {},
   "outputs": [
    {
     "data": {
      "text/plain": [
       "59049"
      ]
     },
     "execution_count": 14,
     "metadata": {},
     "output_type": "execute_result"
    }
   ],
   "source": [
    "3*3*3*3*3*3*3*3*3*3 #3 **10"
   ]
  },
  {
   "cell_type": "code",
   "execution_count": 17,
   "id": "3ba9ccd3",
   "metadata": {},
   "outputs": [],
   "source": [
    "def disp(a,b,c):\n",
    "    print(\"a=\",a)\n",
    "    print(\"b=\",b)\n",
    "    print(\"c=\",c)"
   ]
  },
  {
   "cell_type": "code",
   "execution_count": 18,
   "id": "411d4200",
   "metadata": {},
   "outputs": [
    {
     "name": "stdout",
     "output_type": "stream",
     "text": [
      "a= 12\n",
      "b= 13\n",
      "c= 14\n"
     ]
    }
   ],
   "source": [
    "disp(12,13,14)"
   ]
  },
  {
   "cell_type": "code",
   "execution_count": null,
   "id": "19392a16",
   "metadata": {},
   "outputs": [],
   "source": [
    "12>b\n",
    "13>c\n",
    "14>a"
   ]
  },
  {
   "cell_type": "code",
   "execution_count": 21,
   "id": "32ac09eb",
   "metadata": {},
   "outputs": [
    {
     "name": "stdout",
     "output_type": "stream",
     "text": [
      "a= 14\n",
      "b= 12\n",
      "c= 13\n"
     ]
    }
   ],
   "source": [
    "disp(b=12,c=13,a=14)"
   ]
  },
  {
   "cell_type": "code",
   "execution_count": 19,
   "id": "eeca597c",
   "metadata": {},
   "outputs": [
    {
     "data": {
      "text/plain": [
       "(12+34j)"
      ]
     },
     "execution_count": 19,
     "metadata": {},
     "output_type": "execute_result"
    }
   ],
   "source": [
    "complex(12,34) # 12+34j >> 34+12j complex(34,12)"
   ]
  },
  {
   "cell_type": "code",
   "execution_count": 20,
   "id": "17d20132",
   "metadata": {},
   "outputs": [
    {
     "data": {
      "text/plain": [
       "(34+12j)"
      ]
     },
     "execution_count": 20,
     "metadata": {},
     "output_type": "execute_result"
    }
   ],
   "source": [
    "complex(imag=12,real=34)"
   ]
  },
  {
   "cell_type": "code",
   "execution_count": null,
   "id": "ad3bc2aa",
   "metadata": {},
   "outputs": [],
   "source": []
  },
  {
   "cell_type": "code",
   "execution_count": null,
   "id": "706038a3",
   "metadata": {},
   "outputs": [],
   "source": []
  },
  {
   "cell_type": "code",
   "execution_count": null,
   "id": "3274e7a1",
   "metadata": {},
   "outputs": [],
   "source": []
  },
  {
   "cell_type": "code",
   "execution_count": null,
   "id": "516a9336",
   "metadata": {},
   "outputs": [],
   "source": []
  },
  {
   "cell_type": "code",
   "execution_count": null,
   "id": "11513394",
   "metadata": {},
   "outputs": [],
   "source": []
  },
  {
   "cell_type": "code",
   "execution_count": null,
   "id": "dcb36114",
   "metadata": {},
   "outputs": [],
   "source": []
  },
  {
   "cell_type": "code",
   "execution_count": null,
   "id": "3b584b2c",
   "metadata": {},
   "outputs": [],
   "source": []
  },
  {
   "cell_type": "code",
   "execution_count": null,
   "id": "5a453bf3",
   "metadata": {},
   "outputs": [],
   "source": []
  },
  {
   "cell_type": "code",
   "execution_count": null,
   "id": "74b97943",
   "metadata": {},
   "outputs": [],
   "source": []
  },
  {
   "cell_type": "code",
   "execution_count": null,
   "id": "5fcd0083",
   "metadata": {},
   "outputs": [],
   "source": []
  },
  {
   "cell_type": "code",
   "execution_count": null,
   "id": "60f6c158",
   "metadata": {},
   "outputs": [],
   "source": []
  },
  {
   "cell_type": "code",
   "execution_count": null,
   "id": "a8cf7e81",
   "metadata": {},
   "outputs": [],
   "source": []
  },
  {
   "cell_type": "code",
   "execution_count": null,
   "id": "8a1aa9a8",
   "metadata": {},
   "outputs": [],
   "source": []
  },
  {
   "cell_type": "code",
   "execution_count": null,
   "id": "f0303eaf",
   "metadata": {},
   "outputs": [],
   "source": []
  },
  {
   "cell_type": "code",
   "execution_count": null,
   "id": "f3ea2e71",
   "metadata": {},
   "outputs": [],
   "source": []
  },
  {
   "cell_type": "code",
   "execution_count": null,
   "id": "09c850b6",
   "metadata": {},
   "outputs": [],
   "source": []
  },
  {
   "cell_type": "code",
   "execution_count": null,
   "id": "34383bdd",
   "metadata": {},
   "outputs": [],
   "source": []
  },
  {
   "cell_type": "code",
   "execution_count": null,
   "id": "a2aed15d",
   "metadata": {},
   "outputs": [],
   "source": []
  },
  {
   "cell_type": "code",
   "execution_count": null,
   "id": "0cca1292",
   "metadata": {},
   "outputs": [],
   "source": []
  },
  {
   "cell_type": "code",
   "execution_count": null,
   "id": "b7eba575",
   "metadata": {},
   "outputs": [],
   "source": []
  },
  {
   "cell_type": "code",
   "execution_count": null,
   "id": "07dc21ae",
   "metadata": {},
   "outputs": [],
   "source": []
  },
  {
   "cell_type": "code",
   "execution_count": null,
   "id": "5022b475",
   "metadata": {},
   "outputs": [],
   "source": []
  },
  {
   "cell_type": "code",
   "execution_count": null,
   "id": "0f219911",
   "metadata": {},
   "outputs": [],
   "source": []
  },
  {
   "cell_type": "code",
   "execution_count": null,
   "id": "130be446",
   "metadata": {},
   "outputs": [],
   "source": []
  },
  {
   "cell_type": "code",
   "execution_count": null,
   "id": "edc4cf00",
   "metadata": {},
   "outputs": [],
   "source": []
  },
  {
   "cell_type": "code",
   "execution_count": null,
   "id": "7b198c5e",
   "metadata": {},
   "outputs": [],
   "source": []
  }
 ],
 "metadata": {
  "kernelspec": {
   "display_name": "Python 3 (ipykernel)",
   "language": "python",
   "name": "python3"
  },
  "language_info": {
   "codemirror_mode": {
    "name": "ipython",
    "version": 3
   },
   "file_extension": ".py",
   "mimetype": "text/x-python",
   "name": "python",
   "nbconvert_exporter": "python",
   "pygments_lexer": "ipython3",
   "version": "3.9.12"
  }
 },
 "nbformat": 4,
 "nbformat_minor": 5
}
