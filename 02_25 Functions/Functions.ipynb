{
 "cells": [
  {
   "cell_type": "code",
   "execution_count": 4,
   "id": "4e070d31",
   "metadata": {},
   "outputs": [
    {
     "name": "stdout",
     "output_type": "stream",
     "text": [
      "Global a: 15\n",
      "Local a: 100\n"
     ]
    }
   ],
   "source": [
    "a=15\n",
    "print('Global a:',a)\n",
    "\n",
    "def print_a():\n",
    "    a=100\n",
    "    print('Local a:',a)\n",
    "    \n",
    "print_a()"
   ]
  },
  {
   "cell_type": "markdown",
   "id": "b7697ca3",
   "metadata": {},
   "source": [
    "## Default Argument"
   ]
  },
  {
   "cell_type": "code",
   "execution_count": null,
   "id": "32e16c1f",
   "metadata": {},
   "outputs": [],
   "source": [
    "area > s > l*b"
   ]
  },
  {
   "cell_type": "code",
   "execution_count": 15,
   "id": "052ddeb4",
   "metadata": {},
   "outputs": [],
   "source": [
    "def area(l,b=0):\n",
    "    if b==0:\n",
    "        area=l*l\n",
    "        print('Area of square is',area)\n",
    "    else:\n",
    "        area=l*b\n",
    "        print('Area of rectangle is',area)\n",
    "    return area"
   ]
  },
  {
   "cell_type": "code",
   "execution_count": 16,
   "id": "67df7766",
   "metadata": {},
   "outputs": [
    {
     "name": "stdout",
     "output_type": "stream",
     "text": [
      "Area of square is 144\n",
      "Area of rectangle is 408\n"
     ]
    },
    {
     "data": {
      "text/plain": [
       "408"
      ]
     },
     "execution_count": 16,
     "metadata": {},
     "output_type": "execute_result"
    }
   ],
   "source": [
    "area(12)\n",
    "area(12,34)"
   ]
  },
  {
   "cell_type": "code",
   "execution_count": 23,
   "id": "0ee2fc14",
   "metadata": {},
   "outputs": [],
   "source": [
    "def add(a=0,b=0,c=0):\n",
    "    addition=a+b+c\n",
    "    print('Sum is',addition)"
   ]
  },
  {
   "cell_type": "code",
   "execution_count": 25,
   "id": "0cc5be30",
   "metadata": {},
   "outputs": [
    {
     "name": "stdout",
     "output_type": "stream",
     "text": [
      "Sum is 45\n",
      "Sum is 57\n",
      "Sum is 23\n",
      "Sum is 0\n"
     ]
    }
   ],
   "source": [
    "add(34,5,6)\n",
    "add(23,34)\n",
    "add(23)\n",
    "add()"
   ]
  },
  {
   "cell_type": "code",
   "execution_count": 29,
   "id": "0f8df489",
   "metadata": {},
   "outputs": [],
   "source": [
    "def add(a=0,b=0,c=0):\n",
    "    addition=a+b+c\n",
    "    print('Sum is',addition)"
   ]
  },
  {
   "cell_type": "code",
   "execution_count": null,
   "id": "77f8fc79",
   "metadata": {},
   "outputs": [],
   "source": []
  },
  {
   "cell_type": "code",
   "execution_count": null,
   "id": "b391e1b4",
   "metadata": {},
   "outputs": [],
   "source": [
    "5 > 3"
   ]
  },
  {
   "cell_type": "code",
   "execution_count": null,
   "id": "da21869e",
   "metadata": {},
   "outputs": [],
   "source": [
    "(a,b,c,d,e)"
   ]
  },
  {
   "cell_type": "code",
   "execution_count": 30,
   "id": "cb0f5f5e",
   "metadata": {},
   "outputs": [],
   "source": [
    "def prod(a,b,c,d=1,e=1):\n",
    "    pod=a*b*c*d*e\n",
    "    print('Product is',pod)\n",
    "    return pod"
   ]
  },
  {
   "cell_type": "code",
   "execution_count": 33,
   "id": "f9dbb99a",
   "metadata": {},
   "outputs": [
    {
     "name": "stdout",
     "output_type": "stream",
     "text": [
      "Product is 24\n",
      "Product is 120\n",
      "Product is 720\n"
     ]
    },
    {
     "data": {
      "text/plain": [
       "720"
      ]
     },
     "execution_count": 33,
     "metadata": {},
     "output_type": "execute_result"
    }
   ],
   "source": [
    "prod(2,3,4)\n",
    "prod(2,3,4,5)\n",
    "prod(2,3,4,5,6)"
   ]
  },
  {
   "cell_type": "markdown",
   "id": "8c2f2609",
   "metadata": {},
   "source": [
    "## Arbitrary Argument"
   ]
  },
  {
   "cell_type": "code",
   "execution_count": 35,
   "id": "ee84c4df",
   "metadata": {},
   "outputs": [],
   "source": [
    "def add(*arg):\n",
    "    print(arg, type(arg))\n",
    "    summ=0\n",
    "    for i in arg:\n",
    "        summ+=i\n",
    "    print('Sum is',summ)\n",
    "    return summ"
   ]
  },
  {
   "cell_type": "code",
   "execution_count": 40,
   "id": "93f9899e",
   "metadata": {},
   "outputs": [
    {
     "name": "stdout",
     "output_type": "stream",
     "text": [
      "(12, 34, 53, 6, 64, 77, 36) <class 'tuple'>\n",
      "Sum is 282\n",
      "(1, 2, 3) <class 'tuple'>\n",
      "Sum is 6\n",
      "(31, 34, 62, 47, 3, 8, 7, 5, 9, 4, 8, 69) <class 'tuple'>\n",
      "Sum is 287\n",
      "() <class 'tuple'>\n",
      "Sum is 0\n"
     ]
    },
    {
     "data": {
      "text/plain": [
       "0"
      ]
     },
     "execution_count": 40,
     "metadata": {},
     "output_type": "execute_result"
    }
   ],
   "source": [
    "add(12,34,53,6,64,77,36)\n",
    "add(1,2,3)\n",
    "add(31,34,62,47,3,8,7,5,9,4,8,69)\n",
    "add()"
   ]
  },
  {
   "cell_type": "code",
   "execution_count": 41,
   "id": "c191a4d7",
   "metadata": {},
   "outputs": [],
   "source": [
    "def add(a,*arg):\n",
    "    print(a)\n",
    "    print(arg, type(arg))\n",
    "    summ=a\n",
    "    for i in arg:\n",
    "        summ+=i\n",
    "    print('Sum is',summ)\n",
    "    return summ"
   ]
  },
  {
   "cell_type": "code",
   "execution_count": 42,
   "id": "6f0939b2",
   "metadata": {},
   "outputs": [
    {
     "name": "stdout",
     "output_type": "stream",
     "text": [
      "21\n",
      "(44, 2, 51, 36) <class 'tuple'>\n",
      "Sum is 154\n"
     ]
    },
    {
     "data": {
      "text/plain": [
       "154"
      ]
     },
     "execution_count": 42,
     "metadata": {},
     "output_type": "execute_result"
    }
   ],
   "source": [
    "add(21,44,2,51,36)"
   ]
  },
  {
   "cell_type": "code",
   "execution_count": 46,
   "id": "44699f84",
   "metadata": {},
   "outputs": [],
   "source": [
    "def add(*arg,a=0):\n",
    "    print(a)\n",
    "    print(arg, type(arg))\n",
    "    summ=0\n",
    "    for i in arg:\n",
    "        summ+=i\n",
    "    print('Sum is',summ)\n",
    "    return summ"
   ]
  },
  {
   "cell_type": "code",
   "execution_count": 47,
   "id": "33537961",
   "metadata": {},
   "outputs": [
    {
     "name": "stdout",
     "output_type": "stream",
     "text": [
      "0\n",
      "(14, 12, 35, 36) <class 'tuple'>\n",
      "Sum is 97\n"
     ]
    },
    {
     "data": {
      "text/plain": [
       "97"
      ]
     },
     "execution_count": 47,
     "metadata": {},
     "output_type": "execute_result"
    }
   ],
   "source": [
    "add(14,12,35,36)"
   ]
  },
  {
   "cell_type": "code",
   "execution_count": 52,
   "id": "71901d43",
   "metadata": {},
   "outputs": [],
   "source": [
    "def prod(a,b,*nums,c=100):\n",
    "    print(a,b)\n",
    "    print(nums)\n",
    "    print(c)\n",
    "    mul=a*b\n",
    "    for i in nums:\n",
    "        mul*=i\n",
    "    mul*=100   \n",
    "    print('Product is',mul)\n",
    "    return mul"
   ]
  },
  {
   "cell_type": "code",
   "execution_count": 54,
   "id": "fbf62d03",
   "metadata": {},
   "outputs": [
    {
     "name": "stdout",
     "output_type": "stream",
     "text": [
      "12 33\n",
      "(25, 41, 23, 45, 76, 78, 98, 23)\n",
      "100\n",
      "Product is 561334206232800000\n"
     ]
    },
    {
     "data": {
      "text/plain": [
       "561334206232800000"
      ]
     },
     "execution_count": 54,
     "metadata": {},
     "output_type": "execute_result"
    }
   ],
   "source": [
    "prod(12,33,25,41,23,45,76,78,98,23)"
   ]
  },
  {
   "cell_type": "code",
   "execution_count": 55,
   "id": "d4c6a11c",
   "metadata": {},
   "outputs": [],
   "source": [
    "def prod(a,b,c=100,*nums):\n",
    "    print(a,b)\n",
    "    print(nums)\n",
    "    print(c)\n",
    "    mul=a*b\n",
    "    for i in nums:\n",
    "        mul*=i\n",
    "    mul*=100   \n",
    "    print('Product is',mul)\n",
    "    return mul"
   ]
  },
  {
   "cell_type": "code",
   "execution_count": 56,
   "id": "38677104",
   "metadata": {},
   "outputs": [
    {
     "name": "stdout",
     "output_type": "stream",
     "text": [
      "12 33\n",
      "(41, 23, 45, 76, 78, 98, 23)\n",
      "25\n",
      "Product is 22453368249312000\n"
     ]
    },
    {
     "data": {
      "text/plain": [
       "22453368249312000"
      ]
     },
     "execution_count": 56,
     "metadata": {},
     "output_type": "execute_result"
    }
   ],
   "source": [
    "prod(12,33,25,41,23,45,76,78,98,23)"
   ]
  }
 ],
 "metadata": {
  "kernelspec": {
   "display_name": "Python 3 (ipykernel)",
   "language": "python",
   "name": "python3"
  },
  "language_info": {
   "codemirror_mode": {
    "name": "ipython",
    "version": 3
   },
   "file_extension": ".py",
   "mimetype": "text/x-python",
   "name": "python",
   "nbconvert_exporter": "python",
   "pygments_lexer": "ipython3",
   "version": "3.9.12"
  }
 },
 "nbformat": 4,
 "nbformat_minor": 5
}
