{
 "cells": [
  {
   "cell_type": "code",
   "execution_count": 2,
   "id": "20376e14",
   "metadata": {
    "scrolled": false
   },
   "outputs": [
    {
     "name": "stdout",
     "output_type": "stream",
     "text": [
      "rg   %&687\n"
     ]
    }
   ],
   "source": [
    "print('rg   %&687')"
   ]
  },
  {
   "cell_type": "code",
   "execution_count": 3,
   "id": "1e95b458",
   "metadata": {},
   "outputs": [
    {
     "data": {
      "text/plain": [
       "9"
      ]
     },
     "execution_count": 3,
     "metadata": {},
     "output_type": "execute_result"
    }
   ],
   "source": [
    "str1='ehrjywtyj'\n",
    "len(str1)"
   ]
  },
  {
   "cell_type": "code",
   "execution_count": 4,
   "id": "c0eea119",
   "metadata": {},
   "outputs": [],
   "source": [
    "list1=[12,2,45,6,6778,89,3]"
   ]
  },
  {
   "cell_type": "code",
   "execution_count": 7,
   "id": "7f798c81",
   "metadata": {},
   "outputs": [
    {
     "data": {
      "text/plain": [
       "6778"
      ]
     },
     "execution_count": 7,
     "metadata": {},
     "output_type": "execute_result"
    }
   ],
   "source": [
    "len(list1)\n",
    "min(list1)\n",
    "max(list1)"
   ]
  },
  {
   "cell_type": "code",
   "execution_count": 8,
   "id": "306ac06b",
   "metadata": {},
   "outputs": [
    {
     "data": {
      "text/plain": [
       "12"
      ]
     },
     "execution_count": 8,
     "metadata": {},
     "output_type": "execute_result"
    }
   ],
   "source": [
    "int('12')"
   ]
  },
  {
   "cell_type": "code",
   "execution_count": null,
   "id": "c783337a",
   "metadata": {},
   "outputs": [],
   "source": [
    "str1.split('')"
   ]
  },
  {
   "cell_type": "code",
   "execution_count": null,
   "id": "246b67db",
   "metadata": {},
   "outputs": [],
   "source": [
    "count()\n",
    "type()\n",
    "id()\n",
    "str()\n",
    "round()"
   ]
  },
  {
   "cell_type": "code",
   "execution_count": null,
   "id": "c39e297e",
   "metadata": {},
   "outputs": [],
   "source": [
    "name() #argument"
   ]
  },
  {
   "cell_type": "code",
   "execution_count": null,
   "id": "86c585c1",
   "metadata": {},
   "outputs": [],
   "source": [
    "built in function\n",
    "user defined function"
   ]
  },
  {
   "cell_type": "code",
   "execution_count": 13,
   "id": "6666e8aa",
   "metadata": {},
   "outputs": [],
   "source": [
    "l,m,n=12,34,56\n",
    "x,y,z=23,45,6"
   ]
  },
  {
   "cell_type": "code",
   "execution_count": 14,
   "id": "8a8fea73",
   "metadata": {},
   "outputs": [
    {
     "name": "stdout",
     "output_type": "stream",
     "text": [
      "34.0\n"
     ]
    }
   ],
   "source": [
    "add=a+b+c\n",
    "avg=add/3\n",
    "print(avg)"
   ]
  },
  {
   "cell_type": "code",
   "execution_count": null,
   "id": "7aa10fe2",
   "metadata": {},
   "outputs": [],
   "source": [
    "#function defination\n",
    "#function call"
   ]
  },
  {
   "cell_type": "code",
   "execution_count": 16,
   "id": "731fcde9",
   "metadata": {},
   "outputs": [],
   "source": [
    "#defination\n",
    "def func1():\n",
    "    print('This is our function')"
   ]
  },
  {
   "cell_type": "code",
   "execution_count": 20,
   "id": "a6f16b83",
   "metadata": {},
   "outputs": [
    {
     "name": "stdout",
     "output_type": "stream",
     "text": [
      "This is our function\n",
      "This is our function\n",
      "This is our function\n"
     ]
    }
   ],
   "source": [
    "#call\n",
    "func1()\n",
    "func1()\n",
    "func1()"
   ]
  },
  {
   "cell_type": "code",
   "execution_count": 31,
   "id": "7de6b65c",
   "metadata": {},
   "outputs": [],
   "source": [
    "def square(num): #parameter\n",
    "    sqr=num**2\n",
    "    print('Squared value is',sqr)\n",
    "    "
   ]
  },
  {
   "cell_type": "code",
   "execution_count": 32,
   "id": "2c6fc182",
   "metadata": {},
   "outputs": [
    {
     "name": "stdout",
     "output_type": "stream",
     "text": [
      "Squared value is 25\n"
     ]
    }
   ],
   "source": [
    "square(5)"
   ]
  },
  {
   "cell_type": "code",
   "execution_count": 33,
   "id": "a30b8594",
   "metadata": {},
   "outputs": [],
   "source": [
    "def add(num1,num2):\n",
    "    sum1=num1+num2\n",
    "    print('Addition is',sum1)"
   ]
  },
  {
   "cell_type": "code",
   "execution_count": 38,
   "id": "18a25815",
   "metadata": {},
   "outputs": [
    {
     "name": "stdout",
     "output_type": "stream",
     "text": [
      "Addition is 79\n"
     ]
    }
   ],
   "source": [
    "add(34,45)"
   ]
  },
  {
   "cell_type": "code",
   "execution_count": 39,
   "id": "dcaaa15b",
   "metadata": {},
   "outputs": [],
   "source": [
    "def add(num1,num2,numm3):\n",
    "    print('First number is',num1)\n",
    "    print('Second number is',num2)\n",
    "    sum1=num1+num2\n",
    "    print('Addition is',sum1)"
   ]
  },
  {
   "cell_type": "code",
   "execution_count": 40,
   "id": "15a67890",
   "metadata": {},
   "outputs": [
    {
     "name": "stdout",
     "output_type": "stream",
     "text": [
      "First number is 15\n",
      "Second number is 48\n",
      "Addition is 63\n"
     ]
    }
   ],
   "source": [
    "add(15,48,34)"
   ]
  },
  {
   "cell_type": "code",
   "execution_count": 41,
   "id": "2d783cf0",
   "metadata": {},
   "outputs": [],
   "source": [
    "def average(a,b,c):\n",
    "    add=a+b+c\n",
    "    avg=add/3\n",
    "    print(avg)"
   ]
  },
  {
   "cell_type": "code",
   "execution_count": 42,
   "id": "bcf99148",
   "metadata": {},
   "outputs": [
    {
     "name": "stdout",
     "output_type": "stream",
     "text": [
      "3.0\n"
     ]
    }
   ],
   "source": [
    "average(2,3,4)"
   ]
  },
  {
   "cell_type": "code",
   "execution_count": 43,
   "id": "2d0b62d7",
   "metadata": {},
   "outputs": [
    {
     "name": "stdout",
     "output_type": "stream",
     "text": [
      "32.0\n"
     ]
    }
   ],
   "source": [
    "average(10,30,56)"
   ]
  },
  {
   "cell_type": "code",
   "execution_count": 44,
   "id": "2af561d3",
   "metadata": {},
   "outputs": [
    {
     "name": "stdout",
     "output_type": "stream",
     "text": [
      "202.33333333333334\n"
     ]
    }
   ],
   "source": [
    "average(55,546,6)"
   ]
  },
  {
   "cell_type": "code",
   "execution_count": 48,
   "id": "000bc6e6",
   "metadata": {},
   "outputs": [
    {
     "name": "stdout",
     "output_type": "stream",
     "text": [
      "num/den = 0.3333333333333333\n"
     ]
    }
   ],
   "source": [
    "#num,den den/num\n",
    "\n",
    "def fraction(num,den):\n",
    "    print('num/den =',num/den)\n",
    "fraction(3,9)"
   ]
  },
  {
   "cell_type": "code",
   "execution_count": null,
   "id": "b2228ae2",
   "metadata": {},
   "outputs": [],
   "source": []
  }
 ],
 "metadata": {
  "kernelspec": {
   "display_name": "Python 3 (ipykernel)",
   "language": "python",
   "name": "python3"
  },
  "language_info": {
   "codemirror_mode": {
    "name": "ipython",
    "version": 3
   },
   "file_extension": ".py",
   "mimetype": "text/x-python",
   "name": "python",
   "nbconvert_exporter": "python",
   "pygments_lexer": "ipython3",
   "version": "3.9.12"
  }
 },
 "nbformat": 4,
 "nbformat_minor": 5
}
