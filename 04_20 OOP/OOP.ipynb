{
 "cells": [
  {
   "cell_type": "markdown",
   "id": "e284b0b0",
   "metadata": {},
   "source": [
    "### Accessing Attribute of parent class"
   ]
  },
  {
   "cell_type": "code",
   "execution_count": 46,
   "id": "d1af33c7",
   "metadata": {},
   "outputs": [],
   "source": [
    "class Parent:\n",
    "    count=1000\n",
    "    num=5\n",
    "    value=7"
   ]
  },
  {
   "cell_type": "code",
   "execution_count": 47,
   "id": "aea4db0b",
   "metadata": {},
   "outputs": [],
   "source": [
    "class Child(Parent):\n",
    "    num1=70\n",
    "    num2=80\n",
    "    num3=90"
   ]
  },
  {
   "cell_type": "code",
   "execution_count": 48,
   "id": "ff9f8c2a",
   "metadata": {},
   "outputs": [],
   "source": [
    "p1=Parent()"
   ]
  },
  {
   "cell_type": "code",
   "execution_count": 49,
   "id": "aed29f11",
   "metadata": {
    "scrolled": true
   },
   "outputs": [
    {
     "data": {
      "text/plain": [
       "1000"
      ]
     },
     "execution_count": 49,
     "metadata": {},
     "output_type": "execute_result"
    }
   ],
   "source": [
    "p1.count #parent class object can access atrributes of it's own class"
   ]
  },
  {
   "cell_type": "code",
   "execution_count": 50,
   "id": "102b1281",
   "metadata": {},
   "outputs": [],
   "source": [
    "c1=Child()"
   ]
  },
  {
   "cell_type": "code",
   "execution_count": 51,
   "id": "4306d6bb",
   "metadata": {},
   "outputs": [
    {
     "data": {
      "text/plain": [
       "1000"
      ]
     },
     "execution_count": 51,
     "metadata": {},
     "output_type": "execute_result"
    }
   ],
   "source": [
    "c1.count"
   ]
  },
  {
   "cell_type": "markdown",
   "id": "b7099ac1",
   "metadata": {},
   "source": [
    "### Accessing method of parent class"
   ]
  },
  {
   "cell_type": "code",
   "execution_count": 52,
   "id": "af9ab2a9",
   "metadata": {},
   "outputs": [],
   "source": [
    "class Parent1:\n",
    "    \n",
    "    def greet(self):\n",
    "        print('This is parent class')"
   ]
  },
  {
   "cell_type": "code",
   "execution_count": 58,
   "id": "c4341302",
   "metadata": {},
   "outputs": [],
   "source": [
    "class Child1(Parent1):\n",
    "    \n",
    "    def display(self):\n",
    "        print('This is child class')"
   ]
  },
  {
   "cell_type": "code",
   "execution_count": 59,
   "id": "5fa7c45e",
   "metadata": {},
   "outputs": [],
   "source": [
    "p10=Parent1()"
   ]
  },
  {
   "cell_type": "code",
   "execution_count": 60,
   "id": "2c901337",
   "metadata": {},
   "outputs": [
    {
     "name": "stdout",
     "output_type": "stream",
     "text": [
      "This is parent class\n"
     ]
    }
   ],
   "source": [
    "p10.greet()"
   ]
  },
  {
   "cell_type": "code",
   "execution_count": 61,
   "id": "1753ceaf",
   "metadata": {},
   "outputs": [],
   "source": [
    "c10=Child1()"
   ]
  },
  {
   "cell_type": "code",
   "execution_count": 62,
   "id": "d6da7eff",
   "metadata": {},
   "outputs": [
    {
     "name": "stdout",
     "output_type": "stream",
     "text": [
      "This is parent class\n"
     ]
    }
   ],
   "source": [
    "c10.greet()"
   ]
  },
  {
   "cell_type": "code",
   "execution_count": 64,
   "id": "d9f25d00",
   "metadata": {},
   "outputs": [],
   "source": [
    "class Parent1:\n",
    "    \n",
    "    def greet(self):\n",
    "        print('This is parent class')"
   ]
  },
  {
   "cell_type": "code",
   "execution_count": 65,
   "id": "ce8b5cb3",
   "metadata": {},
   "outputs": [],
   "source": [
    "class Child1(Parent1):\n",
    "    \n",
    "    def greet(self):\n",
    "        print('This is child class')"
   ]
  },
  {
   "cell_type": "code",
   "execution_count": 66,
   "id": "9db92718",
   "metadata": {},
   "outputs": [],
   "source": [
    "p12=Parent1()"
   ]
  },
  {
   "cell_type": "code",
   "execution_count": 67,
   "id": "52b7ba99",
   "metadata": {},
   "outputs": [
    {
     "name": "stdout",
     "output_type": "stream",
     "text": [
      "This is parent class\n"
     ]
    }
   ],
   "source": [
    "p12.greet() #Parent class object calls its own greet method"
   ]
  },
  {
   "cell_type": "code",
   "execution_count": 68,
   "id": "6bc36fb1",
   "metadata": {},
   "outputs": [],
   "source": [
    "c12=Child1()"
   ]
  },
  {
   "cell_type": "code",
   "execution_count": 70,
   "id": "bbeb0a61",
   "metadata": {},
   "outputs": [
    {
     "name": "stdout",
     "output_type": "stream",
     "text": [
      "This is child class\n"
     ]
    }
   ],
   "source": [
    "c12.greet() #Child class object calls its own greet method"
   ]
  },
  {
   "cell_type": "code",
   "execution_count": 71,
   "id": "7c9f2d72",
   "metadata": {},
   "outputs": [],
   "source": [
    "class employee():\n",
    "    def display(self):\n",
    "        print(\"this is employee\")\n",
    "    def welcome(self):\n",
    "        print(\"this is employee welcome\")"
   ]
  },
  {
   "cell_type": "code",
   "execution_count": 79,
   "id": "eff372e4",
   "metadata": {},
   "outputs": [],
   "source": [
    "class engg(employee):\n",
    "    def greet(self):\n",
    "        print(\"this is engg\")\n",
    "    def welcome(self):\n",
    "        print(\"this is engg welcome\")"
   ]
  },
  {
   "cell_type": "code",
   "execution_count": 80,
   "id": "1989493e",
   "metadata": {},
   "outputs": [],
   "source": [
    "emp1=employee()"
   ]
  },
  {
   "cell_type": "code",
   "execution_count": null,
   "id": "a7506b47",
   "metadata": {},
   "outputs": [],
   "source": [
    "emp1."
   ]
  },
  {
   "cell_type": "code",
   "execution_count": 74,
   "id": "ed139a17",
   "metadata": {},
   "outputs": [
    {
     "name": "stdout",
     "output_type": "stream",
     "text": [
      "this is employee\n"
     ]
    }
   ],
   "source": [
    "emp1.display()"
   ]
  },
  {
   "cell_type": "code",
   "execution_count": 75,
   "id": "1f27f2f5",
   "metadata": {},
   "outputs": [
    {
     "name": "stdout",
     "output_type": "stream",
     "text": [
      "this is employee welcome\n"
     ]
    }
   ],
   "source": [
    "emp1.welcome()"
   ]
  },
  {
   "cell_type": "code",
   "execution_count": 81,
   "id": "1e472d7a",
   "metadata": {},
   "outputs": [],
   "source": [
    "engg1=engg()"
   ]
  },
  {
   "cell_type": "code",
   "execution_count": 82,
   "id": "76d04a75",
   "metadata": {},
   "outputs": [
    {
     "name": "stdout",
     "output_type": "stream",
     "text": [
      "this is employee\n"
     ]
    }
   ],
   "source": [
    "engg1.display()"
   ]
  },
  {
   "cell_type": "code",
   "execution_count": 77,
   "id": "454e8899",
   "metadata": {},
   "outputs": [
    {
     "name": "stdout",
     "output_type": "stream",
     "text": [
      "this is engg\n"
     ]
    }
   ],
   "source": [
    "engg1.greet()"
   ]
  },
  {
   "cell_type": "code",
   "execution_count": 78,
   "id": "4ba3fa89",
   "metadata": {},
   "outputs": [
    {
     "name": "stdout",
     "output_type": "stream",
     "text": [
      "this is engg welcome\n"
     ]
    }
   ],
   "source": [
    "engg1.welcome()"
   ]
  },
  {
   "cell_type": "code",
   "execution_count": null,
   "id": "253a787c",
   "metadata": {},
   "outputs": [],
   "source": []
  },
  {
   "cell_type": "code",
   "execution_count": null,
   "id": "78bda50d",
   "metadata": {},
   "outputs": [],
   "source": []
  },
  {
   "cell_type": "code",
   "execution_count": null,
   "id": "b2d44c01",
   "metadata": {},
   "outputs": [],
   "source": []
  },
  {
   "cell_type": "code",
   "execution_count": null,
   "id": "6b92b9fd",
   "metadata": {},
   "outputs": [],
   "source": []
  },
  {
   "cell_type": "code",
   "execution_count": null,
   "id": "3dc2ad1e",
   "metadata": {},
   "outputs": [],
   "source": []
  },
  {
   "cell_type": "code",
   "execution_count": null,
   "id": "816a363a",
   "metadata": {},
   "outputs": [],
   "source": []
  },
  {
   "cell_type": "code",
   "execution_count": null,
   "id": "150212a3",
   "metadata": {},
   "outputs": [],
   "source": []
  },
  {
   "cell_type": "code",
   "execution_count": null,
   "id": "b87a8e22",
   "metadata": {},
   "outputs": [],
   "source": []
  },
  {
   "cell_type": "code",
   "execution_count": null,
   "id": "0fe66597",
   "metadata": {},
   "outputs": [],
   "source": []
  },
  {
   "cell_type": "code",
   "execution_count": null,
   "id": "4871d3db",
   "metadata": {},
   "outputs": [],
   "source": []
  },
  {
   "cell_type": "code",
   "execution_count": null,
   "id": "d698ae95",
   "metadata": {},
   "outputs": [],
   "source": []
  },
  {
   "cell_type": "code",
   "execution_count": null,
   "id": "4ddce1f5",
   "metadata": {},
   "outputs": [],
   "source": []
  },
  {
   "cell_type": "code",
   "execution_count": null,
   "id": "01c666e7",
   "metadata": {},
   "outputs": [],
   "source": []
  },
  {
   "cell_type": "code",
   "execution_count": null,
   "id": "1ba40bd2",
   "metadata": {},
   "outputs": [],
   "source": []
  },
  {
   "cell_type": "code",
   "execution_count": null,
   "id": "da9fb23c",
   "metadata": {},
   "outputs": [],
   "source": []
  },
  {
   "cell_type": "code",
   "execution_count": null,
   "id": "8358d0b8",
   "metadata": {},
   "outputs": [],
   "source": []
  }
 ],
 "metadata": {
  "kernelspec": {
   "display_name": "Python 3 (ipykernel)",
   "language": "python",
   "name": "python3"
  },
  "language_info": {
   "codemirror_mode": {
    "name": "ipython",
    "version": 3
   },
   "file_extension": ".py",
   "mimetype": "text/x-python",
   "name": "python",
   "nbconvert_exporter": "python",
   "pygments_lexer": "ipython3",
   "version": "3.9.12"
  }
 },
 "nbformat": 4,
 "nbformat_minor": 5
}
