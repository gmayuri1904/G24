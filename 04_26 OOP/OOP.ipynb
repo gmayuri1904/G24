{
 "cells": [
  {
   "cell_type": "markdown",
   "id": "c8c1aff3",
   "metadata": {},
   "source": [
    "## Polymorphism"
   ]
  },
  {
   "cell_type": "raw",
   "id": "6e5b2d36",
   "metadata": {},
   "source": [
    "Method overriding\n",
    "Method overloading\n",
    "Operator overloading"
   ]
  },
  {
   "cell_type": "code",
   "execution_count": 14,
   "id": "d7c5e506",
   "metadata": {},
   "outputs": [],
   "source": [
    " class Shape:\n",
    "        \n",
    "        def area(self,l,b):\n",
    "            return l*b\n",
    "        \n",
    "        def area(self,radius):\n",
    "            return 3.14*radius*radius\n",
    "        "
   ]
  },
  {
   "cell_type": "code",
   "execution_count": 15,
   "id": "41a7b04e",
   "metadata": {},
   "outputs": [],
   "source": [
    "obj1=Shape()"
   ]
  },
  {
   "cell_type": "code",
   "execution_count": 17,
   "id": "0fa260b5",
   "metadata": {},
   "outputs": [
    {
     "data": {
      "text/plain": [
       "50.24"
      ]
     },
     "execution_count": 17,
     "metadata": {},
     "output_type": "execute_result"
    }
   ],
   "source": [
    "obj1.area(4)"
   ]
  },
  {
   "cell_type": "markdown",
   "id": "371d0ea6",
   "metadata": {},
   "source": [
    "## Operator Overloading"
   ]
  },
  {
   "cell_type": "code",
   "execution_count": null,
   "id": "949571b1",
   "metadata": {},
   "outputs": [],
   "source": [
    "+ / * -"
   ]
  },
  {
   "cell_type": "code",
   "execution_count": 18,
   "id": "d76ff710",
   "metadata": {},
   "outputs": [
    {
     "data": {
      "text/plain": [
       "'machinelearning'"
      ]
     },
     "execution_count": 18,
     "metadata": {},
     "output_type": "execute_result"
    }
   ],
   "source": [
    "'machine' + 'learning' #concatinates"
   ]
  },
  {
   "cell_type": "code",
   "execution_count": 20,
   "id": "afc8898b",
   "metadata": {},
   "outputs": [
    {
     "data": {
      "text/plain": [
       "46"
      ]
     },
     "execution_count": 20,
     "metadata": {},
     "output_type": "execute_result"
    }
   ],
   "source": [
    "12 + 34 #adds"
   ]
  },
  {
   "cell_type": "code",
   "execution_count": 22,
   "id": "ac371f92",
   "metadata": {},
   "outputs": [
    {
     "data": {
      "text/plain": [
       "[1, 2, 3, 4, 5, 6]"
      ]
     },
     "execution_count": 22,
     "metadata": {},
     "output_type": "execute_result"
    }
   ],
   "source": [
    "[1,2,3] + [4,5,6] #merge"
   ]
  },
  {
   "cell_type": "markdown",
   "id": "fbd94ec9",
   "metadata": {},
   "source": [
    "## Abstraction"
   ]
  },
  {
   "cell_type": "code",
   "execution_count": 28,
   "id": "be8d5ec0",
   "metadata": {},
   "outputs": [],
   "source": [
    "#Abstract method\n",
    "def method():\n",
    "     pass\n",
    "    "
   ]
  },
  {
   "cell_type": "code",
   "execution_count": 23,
   "id": "d66fbaff",
   "metadata": {},
   "outputs": [],
   "source": [
    "from abc import ABC, abstractmethod"
   ]
  },
  {
   "cell_type": "code",
   "execution_count": 40,
   "id": "d529ea9c",
   "metadata": {},
   "outputs": [],
   "source": [
    "class Whatsapp(ABC):   #This will have at least one abstract methods\n",
    "    \n",
    "    def demo(self):\n",
    "        print('This is whatsapp class')\n",
    "    \n",
    "    @abstractmethod\n",
    "    def user_verification():\n",
    "        pass"
   ]
  },
  {
   "cell_type": "code",
   "execution_count": 53,
   "id": "31fd9bcf",
   "metadata": {},
   "outputs": [],
   "source": [
    "class Web(Whatsapp):\n",
    "    \n",
    "    def greet(self):\n",
    "        print('This is web whatsapp')\n",
    "        \n",
    "        \n",
    "    def user_verification(self):\n",
    "        print('User verified')"
   ]
  },
  {
   "cell_type": "code",
   "execution_count": 54,
   "id": "d8b7e17e",
   "metadata": {},
   "outputs": [],
   "source": [
    "u1=Web()"
   ]
  },
  {
   "cell_type": "code",
   "execution_count": 55,
   "id": "d89f2938",
   "metadata": {},
   "outputs": [
    {
     "name": "stdout",
     "output_type": "stream",
     "text": [
      "User verified\n"
     ]
    }
   ],
   "source": [
    "u1.user_verification()"
   ]
  },
  {
   "cell_type": "code",
   "execution_count": 58,
   "id": "ac4b7392",
   "metadata": {},
   "outputs": [],
   "source": [
    "class App(Whatsapp):\n",
    "    \n",
    "    def greet(self):\n",
    "        print('This is web whatsapp')\n",
    "        \n",
    "        \n",
    "    def user_verification(self):\n",
    "        print('User verified')"
   ]
  },
  {
   "cell_type": "code",
   "execution_count": 59,
   "id": "04bfca44",
   "metadata": {},
   "outputs": [],
   "source": [
    "u2=App()"
   ]
  },
  {
   "cell_type": "code",
   "execution_count": null,
   "id": "7bd175e9",
   "metadata": {},
   "outputs": [],
   "source": [
    "u2."
   ]
  }
 ],
 "metadata": {
  "kernelspec": {
   "display_name": "Python 3 (ipykernel)",
   "language": "python",
   "name": "python3"
  },
  "language_info": {
   "codemirror_mode": {
    "name": "ipython",
    "version": 3
   },
   "file_extension": ".py",
   "mimetype": "text/x-python",
   "name": "python",
   "nbconvert_exporter": "python",
   "pygments_lexer": "ipython3",
   "version": "3.9.12"
  }
 },
 "nbformat": 4,
 "nbformat_minor": 5
}
