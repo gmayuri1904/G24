{
 "cells": [
  {
   "cell_type": "markdown",
   "id": "4c8ec607",
   "metadata": {},
   "source": [
    "## Multilevel Inheritance"
   ]
  },
  {
   "cell_type": "code",
   "execution_count": 7,
   "id": "e30d7992",
   "metadata": {},
   "outputs": [],
   "source": [
    "class Person:\n",
    "    \n",
    "    def __init__(self,name,contact):\n",
    "        self.name=name\n",
    "        self.contact=contact\n",
    "        print('Person class')\n",
    "        \n",
    "    def greet(self):\n",
    "        print('Person details are:',self.name,self.contact)"
   ]
  },
  {
   "cell_type": "code",
   "execution_count": 10,
   "id": "07e968a9",
   "metadata": {},
   "outputs": [
    {
     "name": "stdout",
     "output_type": "stream",
     "text": [
      "Person class\n"
     ]
    }
   ],
   "source": [
    "p1=Person('abc',789)"
   ]
  },
  {
   "cell_type": "code",
   "execution_count": 11,
   "id": "371c73e1",
   "metadata": {},
   "outputs": [
    {
     "name": "stdout",
     "output_type": "stream",
     "text": [
      "Person details are: abc 789\n"
     ]
    }
   ],
   "source": [
    "p1.greet()"
   ]
  },
  {
   "cell_type": "code",
   "execution_count": 15,
   "id": "daa8aae6",
   "metadata": {},
   "outputs": [],
   "source": [
    "class Employee(Person):\n",
    "    \n",
    "    def __init__(self,name,contact,empid,dept):\n",
    "        super().__init__(name,contact)\n",
    "        self.empid=empid\n",
    "        self.dept=dept\n",
    "        print('Employee class')\n",
    "        \n",
    "    def greet(self):\n",
    "        super().greet()\n",
    "        print('Employee details are:',self.empid,self.dept)"
   ]
  },
  {
   "cell_type": "code",
   "execution_count": 16,
   "id": "60186d72",
   "metadata": {},
   "outputs": [
    {
     "name": "stdout",
     "output_type": "stream",
     "text": [
      "Person class\n",
      "Employee class\n"
     ]
    }
   ],
   "source": [
    "emp1=Employee('abc',789,123,'IT')"
   ]
  },
  {
   "cell_type": "code",
   "execution_count": 17,
   "id": "40fd1ac9",
   "metadata": {},
   "outputs": [
    {
     "name": "stdout",
     "output_type": "stream",
     "text": [
      "Person details are: abc 789\n",
      "Employee details are: 123 IT\n"
     ]
    }
   ],
   "source": [
    "emp1.greet()"
   ]
  },
  {
   "cell_type": "code",
   "execution_count": 18,
   "id": "c2972d01",
   "metadata": {},
   "outputs": [],
   "source": [
    "class Engineer(Employee):\n",
    "    \n",
    "    def __init__(self,name,contact,empid,dept,designation,project):\n",
    "        super().__init__(name,contact,empid,dept)\n",
    "        self.designation=designation\n",
    "        self.project=project\n",
    "        print('Engineer class')\n",
    "        \n",
    "    def greet(self):\n",
    "        super().greet()\n",
    "        print('Engineer details are:',self.designation,self.project)"
   ]
  },
  {
   "cell_type": "code",
   "execution_count": 19,
   "id": "674a8078",
   "metadata": {},
   "outputs": [
    {
     "name": "stdout",
     "output_type": "stream",
     "text": [
      "Person class\n",
      "Employee class\n",
      "Engineer class\n"
     ]
    }
   ],
   "source": [
    "engg1=Engineer('abc',789,123,'IT','developer','ML')"
   ]
  },
  {
   "cell_type": "code",
   "execution_count": 20,
   "id": "276dafc4",
   "metadata": {},
   "outputs": [
    {
     "name": "stdout",
     "output_type": "stream",
     "text": [
      "Person details are: abc 789\n",
      "Employee details are: 123 IT\n",
      "Engineer details are: developer ML\n"
     ]
    }
   ],
   "source": [
    "engg1.greet()"
   ]
  },
  {
   "cell_type": "markdown",
   "id": "bada240c",
   "metadata": {},
   "source": [
    "## Hierarchial Inheritance"
   ]
  },
  {
   "cell_type": "code",
   "execution_count": 23,
   "id": "bf32acdb",
   "metadata": {},
   "outputs": [],
   "source": [
    "class User:\n",
    "    \n",
    "    def __init__(self,name,contact):\n",
    "        \n",
    "        self.name=name\n",
    "        self.contact=contact\n",
    "        print('User created')\n",
    "        "
   ]
  },
  {
   "cell_type": "code",
   "execution_count": 24,
   "id": "68df2d20",
   "metadata": {},
   "outputs": [],
   "source": [
    "class Trainer(User):\n",
    "    \n",
    "    \n",
    "    def __init__(self, name, contact, subject, time):\n",
    "        super().__init__(name,contact)\n",
    "        self.subject=subject\n",
    "        self.time=time\n",
    "        print('Trainer profile created')"
   ]
  },
  {
   "cell_type": "code",
   "execution_count": 26,
   "id": "226ff4f2",
   "metadata": {},
   "outputs": [
    {
     "name": "stdout",
     "output_type": "stream",
     "text": [
      "User created\n",
      "Trainer profile created\n"
     ]
    }
   ],
   "source": [
    "t1=Trainer('abc',789,'Python',4)"
   ]
  },
  {
   "cell_type": "code",
   "execution_count": null,
   "id": "8d40af9b",
   "metadata": {},
   "outputs": [],
   "source": [
    "t1."
   ]
  },
  {
   "cell_type": "code",
   "execution_count": 27,
   "id": "a4ae13ea",
   "metadata": {},
   "outputs": [],
   "source": [
    "class Learner(User):\n",
    "    \n",
    "    def __init__(self, name, contact, education):\n",
    "        super().__init__(name,contact)\n",
    "        self.education=education\n",
    "        print('Learner profile created')"
   ]
  },
  {
   "cell_type": "code",
   "execution_count": 28,
   "id": "eaafdb9e",
   "metadata": {},
   "outputs": [
    {
     "name": "stdout",
     "output_type": "stream",
     "text": [
      "User created\n",
      "Learner profile created\n"
     ]
    }
   ],
   "source": [
    "l1=Learner('lmn',567,'HSC')"
   ]
  },
  {
   "cell_type": "code",
   "execution_count": null,
   "id": "59220098",
   "metadata": {},
   "outputs": [],
   "source": [
    "l1."
   ]
  },
  {
   "cell_type": "markdown",
   "id": "2d4ca84d",
   "metadata": {},
   "source": [
    "## Multiple Inheritance"
   ]
  },
  {
   "cell_type": "code",
   "execution_count": 31,
   "id": "eef9fb5c",
   "metadata": {},
   "outputs": [],
   "source": [
    "class SmartDevice:\n",
    "    \n",
    "    def __init__(self,os, camera, btconnect):\n",
    "        self.os=os\n",
    "        self.camera=camera\n",
    "        self.btconnect=btconnect\n",
    "        print('SmartDevice class')"
   ]
  },
  {
   "cell_type": "code",
   "execution_count": 32,
   "id": "23bf04a4",
   "metadata": {},
   "outputs": [],
   "source": [
    "class Watch:\n",
    "    \n",
    "    def __init__(self,dial, strap):\n",
    "        \n",
    "        self.dial=dial\n",
    "        self.strap=strap\n",
    "        print('Watch class')"
   ]
  },
  {
   "cell_type": "code",
   "execution_count": 36,
   "id": "11f726ea",
   "metadata": {},
   "outputs": [],
   "source": [
    "class SmartWatch(SmartDevice, Watch):\n",
    "    \n",
    "    def __init__(self,os, camera, btconnect,dial, strap,charger):\n",
    "        \n",
    "        super().__init__(os, camera, btconnect)\n",
    "        self.charger=charger\n",
    "        print('Smartwatch class')"
   ]
  },
  {
   "cell_type": "code",
   "execution_count": 37,
   "id": "f00e7fc0",
   "metadata": {},
   "outputs": [
    {
     "name": "stdout",
     "output_type": "stream",
     "text": [
      "SmartDevice class\n",
      "Smartwatch class\n"
     ]
    }
   ],
   "source": [
    "sw1=SmartWatch('Mac','Yes','Yes','blue','black','yes')"
   ]
  },
  {
   "cell_type": "code",
   "execution_count": 38,
   "id": "71d452af",
   "metadata": {},
   "outputs": [],
   "source": [
    "class SmartWatch(Watch,SmartDevice):\n",
    "    \n",
    "    def __init__(self,os, camera, btconnect,dial, strap,charger):\n",
    "        \n",
    "        super().__init__(dial, strap)\n",
    "        self.charger=charger\n",
    "        print('Smartwatch class')"
   ]
  },
  {
   "cell_type": "code",
   "execution_count": 39,
   "id": "a2413729",
   "metadata": {},
   "outputs": [
    {
     "name": "stdout",
     "output_type": "stream",
     "text": [
      "Watch class\n",
      "Smartwatch class\n"
     ]
    }
   ],
   "source": [
    "sw2=SmartWatch('Mac','Yes','Yes','blue','black','yes')"
   ]
  }
 ],
 "metadata": {
  "kernelspec": {
   "display_name": "Python 3 (ipykernel)",
   "language": "python",
   "name": "python3"
  },
  "language_info": {
   "codemirror_mode": {
    "name": "ipython",
    "version": 3
   },
   "file_extension": ".py",
   "mimetype": "text/x-python",
   "name": "python",
   "nbconvert_exporter": "python",
   "pygments_lexer": "ipython3",
   "version": "3.9.12"
  }
 },
 "nbformat": 4,
 "nbformat_minor": 5
}
