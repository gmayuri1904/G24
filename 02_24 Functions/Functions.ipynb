{
 "cells": [
  {
   "cell_type": "code",
   "execution_count": 1,
   "id": "e245c013",
   "metadata": {},
   "outputs": [],
   "source": [
    "def add(a,b,c):\n",
    "    sum1=a+b+c\n",
    "    print('Addition is ',sum1)"
   ]
  },
  {
   "cell_type": "code",
   "execution_count": 3,
   "id": "72960850",
   "metadata": {},
   "outputs": [
    {
     "name": "stdout",
     "output_type": "stream",
     "text": [
      "Addition is  12\n"
     ]
    }
   ],
   "source": [
    "add(b=3,a=4,c=5)"
   ]
  },
  {
   "cell_type": "code",
   "execution_count": 15,
   "id": "d9f912d9",
   "metadata": {},
   "outputs": [
    {
     "name": "stdout",
     "output_type": "stream",
     "text": [
      "[8] []\n"
     ]
    }
   ],
   "source": [
    "\n",
    "\n",
    "for i in list1:\n",
    "    list2=[]\n",
    "    list3=[] \n",
    "    \n",
    "    if i%2==0:\n",
    "        list2.append(i)\n",
    "    else:\n",
    "        list3.append(i)"
   ]
  },
  {
   "cell_type": "code",
   "execution_count": 24,
   "id": "ad7ea5ec",
   "metadata": {},
   "outputs": [
    {
     "name": "stdout",
     "output_type": "stream",
     "text": [
      "This is main code block\n",
      "Value of a is  10\n",
      "This is trial block\n",
      "value of a is 13\n",
      "13\n"
     ]
    }
   ],
   "source": [
    "a=10\n",
    "print('This is main code block')\n",
    "print('Value of a is ',a)\n",
    "\n",
    "def trial():\n",
    "    b=13\n",
    "    print('This is trial block')\n",
    "    print('value of a is',b)\n",
    "    return b\n",
    "    \n",
    "ret_val=trial()\n",
    "print(ret_val)"
   ]
  },
  {
   "cell_type": "code",
   "execution_count": 29,
   "id": "3aabc31e",
   "metadata": {},
   "outputs": [
    {
     "name": "stdout",
     "output_type": "stream",
     "text": [
      "36\n",
      "This is another function 36\n"
     ]
    }
   ],
   "source": [
    "list1=[1,2,3,4,5,6,7,8]\n",
    "\n",
    "def list_sum(list1):\n",
    "    sum1=0\n",
    "    for i in list1:\n",
    "        sum1+=i\n",
    "    print(sum1)\n",
    "    return sum1\n",
    "\n",
    "sum2=list_sum(list1)\n",
    "\n",
    "\n",
    "def print_val(val):\n",
    "    print('This is another function',val)\n",
    "    \n",
    "print_val(sum2)"
   ]
  },
  {
   "cell_type": "code",
   "execution_count": 37,
   "id": "397323ff",
   "metadata": {},
   "outputs": [
    {
     "name": "stdout",
     "output_type": "stream",
     "text": [
      "0\n",
      "91\n"
     ]
    }
   ],
   "source": [
    "list1=[47,91,75,90,9,18,4]\n",
    "\n",
    "def min_max(l):\n",
    "    minn=0\n",
    "    maxx=0\n",
    "    for i in range(0,len(l)):\n",
    "        if(minn<l[i]):\n",
    "            pass\n",
    "        else:\n",
    "            minn=l[i]\n",
    "        if(maxx>l[i]):\n",
    "            pass\n",
    "        else:\n",
    "            maxx=l[i]\n",
    "            \n",
    "    return minn,maxx\n",
    "\n",
    "val1,val2=min_max(list1)\n",
    "print(val1)\n",
    "print(val2)"
   ]
  }
 ],
 "metadata": {
  "kernelspec": {
   "display_name": "Python 3 (ipykernel)",
   "language": "python",
   "name": "python3"
  },
  "language_info": {
   "codemirror_mode": {
    "name": "ipython",
    "version": 3
   },
   "file_extension": ".py",
   "mimetype": "text/x-python",
   "name": "python",
   "nbconvert_exporter": "python",
   "pygments_lexer": "ipython3",
   "version": "3.9.12"
  }
 },
 "nbformat": 4,
 "nbformat_minor": 5
}
