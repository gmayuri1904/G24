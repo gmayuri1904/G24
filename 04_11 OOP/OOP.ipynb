{
 "cells": [
  {
   "cell_type": "code",
   "execution_count": 34,
   "id": "298b6987",
   "metadata": {},
   "outputs": [],
   "source": [
    "class Point:\n",
    "    \n",
    "    def __init__(self,x,y):\n",
    "        self.x=x\n",
    "        self.y=y\n",
    "        \n",
    "    def __str__(self):    \n",
    "        return '<{},{}>'.format(self.x,self.y)\n",
    "    \n",
    "    def distance(self,other):\n",
    "        \n",
    "        distance=(((other.x-self.x)**2) + ((other.y-self.y)**2))**(1/2)\n",
    "        return distance\n",
    "    \n",
    "    def distance_from_origin(self):\n",
    "        #distance=(((0-self.x)**2) + ((0-self.y)**2))**(1/2)\n",
    "        distance=self.distance(Point(0,0))\n",
    "        return distance\n",
    "    \n",
    "    "
   ]
  },
  {
   "cell_type": "code",
   "execution_count": 35,
   "id": "f6c5092b",
   "metadata": {},
   "outputs": [],
   "source": [
    "p1=Point(1,1)\n",
    "p2=Point(3,5)"
   ]
  },
  {
   "cell_type": "code",
   "execution_count": 36,
   "id": "c196acb4",
   "metadata": {},
   "outputs": [
    {
     "name": "stdout",
     "output_type": "stream",
     "text": [
      "<1,1>\n"
     ]
    }
   ],
   "source": [
    "print(p1)"
   ]
  },
  {
   "cell_type": "code",
   "execution_count": 37,
   "id": "e4bca79e",
   "metadata": {},
   "outputs": [
    {
     "data": {
      "text/plain": [
       "4.47213595499958"
      ]
     },
     "execution_count": 37,
     "metadata": {},
     "output_type": "execute_result"
    }
   ],
   "source": [
    "p1.distance(p2)"
   ]
  },
  {
   "cell_type": "code",
   "execution_count": 38,
   "id": "0a51748e",
   "metadata": {},
   "outputs": [
    {
     "data": {
      "text/plain": [
       "1.4142135623730951"
      ]
     },
     "execution_count": 38,
     "metadata": {},
     "output_type": "execute_result"
    }
   ],
   "source": [
    "p1.distance_from_origin()"
   ]
  },
  {
   "cell_type": "code",
   "execution_count": 39,
   "id": "0bc2fb3f",
   "metadata": {},
   "outputs": [
    {
     "data": {
      "text/plain": [
       "5.830951894845301"
      ]
     },
     "execution_count": 39,
     "metadata": {},
     "output_type": "execute_result"
    }
   ],
   "source": [
    "p2.distance_from_origin()"
   ]
  },
  {
   "cell_type": "code",
   "execution_count": 40,
   "id": "0d8d5081",
   "metadata": {},
   "outputs": [],
   "source": [
    "p3=Point(5,7)"
   ]
  },
  {
   "cell_type": "code",
   "execution_count": 41,
   "id": "7655f275",
   "metadata": {},
   "outputs": [
    {
     "data": {
      "text/plain": [
       "8.602325267042627"
      ]
     },
     "execution_count": 41,
     "metadata": {},
     "output_type": "execute_result"
    }
   ],
   "source": [
    "p3.distance_from_origin()"
   ]
  },
  {
   "cell_type": "code",
   "execution_count": 33,
   "id": "f3f9a908",
   "metadata": {},
   "outputs": [
    {
     "data": {
      "text/plain": [
       "7.211102550927978"
      ]
     },
     "execution_count": 33,
     "metadata": {},
     "output_type": "execute_result"
    }
   ],
   "source": [
    "p1.distance(p3)"
   ]
  }
 ],
 "metadata": {
  "kernelspec": {
   "display_name": "Python 3 (ipykernel)",
   "language": "python",
   "name": "python3"
  },
  "language_info": {
   "codemirror_mode": {
    "name": "ipython",
    "version": 3
   },
   "file_extension": ".py",
   "mimetype": "text/x-python",
   "name": "python",
   "nbconvert_exporter": "python",
   "pygments_lexer": "ipython3",
   "version": "3.9.12"
  }
 },
 "nbformat": 4,
 "nbformat_minor": 5
}
