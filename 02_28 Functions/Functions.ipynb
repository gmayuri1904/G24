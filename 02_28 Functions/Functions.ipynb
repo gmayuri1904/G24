{
 "cells": [
  {
   "cell_type": "markdown",
   "id": "a9e0e4a4",
   "metadata": {},
   "source": [
    "# Recursion"
   ]
  },
  {
   "cell_type": "code",
   "execution_count": 1,
   "id": "8153850b",
   "metadata": {},
   "outputs": [],
   "source": [
    "def countdown(n):\n",
    "    while n>0:\n",
    "        print(n)\n",
    "        n-=1"
   ]
  },
  {
   "cell_type": "code",
   "execution_count": 2,
   "id": "ef550ce1",
   "metadata": {},
   "outputs": [
    {
     "name": "stdout",
     "output_type": "stream",
     "text": [
      "5\n",
      "4\n",
      "3\n",
      "2\n",
      "1\n"
     ]
    }
   ],
   "source": [
    "countdown(5)"
   ]
  },
  {
   "cell_type": "code",
   "execution_count": 5,
   "id": "64115c86",
   "metadata": {},
   "outputs": [],
   "source": [
    "def countdown(n):\n",
    "    print(n)\n",
    "    if n>1:\n",
    "        countdown(n-1) #countdown(4) countdown(3) countdown(2) countdown(1)"
   ]
  },
  {
   "cell_type": "code",
   "execution_count": 6,
   "id": "9b08bffd",
   "metadata": {},
   "outputs": [
    {
     "name": "stdout",
     "output_type": "stream",
     "text": [
      "5\n",
      "4\n",
      "3\n",
      "2\n",
      "1\n"
     ]
    }
   ],
   "source": [
    "countdown(5)"
   ]
  },
  {
   "cell_type": "code",
   "execution_count": 7,
   "id": "1dcedefa",
   "metadata": {},
   "outputs": [],
   "source": [
    "# Sum of n natural numbers"
   ]
  },
  {
   "cell_type": "code",
   "execution_count": 11,
   "id": "1bff5081",
   "metadata": {},
   "outputs": [],
   "source": [
    "def sum(n):\n",
    "    if n==1:\n",
    "        return 1\n",
    "    else:\n",
    "        return n+sum(n-1)"
   ]
  },
  {
   "cell_type": "code",
   "execution_count": 12,
   "id": "f78e4494",
   "metadata": {},
   "outputs": [
    {
     "data": {
      "text/plain": [
       "15"
      ]
     },
     "execution_count": 12,
     "metadata": {},
     "output_type": "execute_result"
    }
   ],
   "source": [
    "sum(5) # 5 4 3 2 1"
   ]
  },
  {
   "cell_type": "code",
   "execution_count": null,
   "id": "5007d36f",
   "metadata": {},
   "outputs": [],
   "source": [
    "base , exp 3^5 3^4..3^1 "
   ]
  },
  {
   "cell_type": "code",
   "execution_count": 13,
   "id": "541ac92b",
   "metadata": {},
   "outputs": [],
   "source": [
    "def power(base,exp):\n",
    "    if exp==0:\n",
    "        return 1\n",
    "    else:\n",
    "        return base*power(base,exp-1)"
   ]
  },
  {
   "cell_type": "code",
   "execution_count": 14,
   "id": "997f7ac1",
   "metadata": {},
   "outputs": [
    {
     "data": {
      "text/plain": [
       "125"
      ]
     },
     "execution_count": 14,
     "metadata": {},
     "output_type": "execute_result"
    }
   ],
   "source": [
    "power(5,3)"
   ]
  },
  {
   "cell_type": "code",
   "execution_count": null,
   "id": "19e82a19",
   "metadata": {},
   "outputs": [],
   "source": [
    "python >> nohtyp"
   ]
  },
  {
   "cell_type": "code",
   "execution_count": 20,
   "id": "3e32e25c",
   "metadata": {},
   "outputs": [],
   "source": [
    "def reverse(str1):\n",
    "    if len(str1)==0:\n",
    "        return str1\n",
    "    else:\n",
    "        return reverse(str1[1:])+str[0]"
   ]
  },
  {
   "cell_type": "code",
   "execution_count": 21,
   "id": "74fbe490",
   "metadata": {},
   "outputs": [
    {
     "data": {
      "text/plain": [
       "'nohtyp'"
      ]
     },
     "execution_count": 21,
     "metadata": {},
     "output_type": "execute_result"
    }
   ],
   "source": [
    "reverse('python')"
   ]
  }
 ],
 "metadata": {
  "kernelspec": {
   "display_name": "Python 3 (ipykernel)",
   "language": "python",
   "name": "python3"
  },
  "language_info": {
   "codemirror_mode": {
    "name": "ipython",
    "version": 3
   },
   "file_extension": ".py",
   "mimetype": "text/x-python",
   "name": "python",
   "nbconvert_exporter": "python",
   "pygments_lexer": "ipython3",
   "version": "3.9.12"
  }
 },
 "nbformat": 4,
 "nbformat_minor": 5
}
