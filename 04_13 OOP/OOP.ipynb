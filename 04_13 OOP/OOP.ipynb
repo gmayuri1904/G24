{
 "cells": [
  {
   "cell_type": "code",
   "execution_count": 16,
   "id": "9661881d",
   "metadata": {},
   "outputs": [],
   "source": [
    "class Point:\n",
    "    \n",
    "    def __init__(self,x,y):\n",
    "        self.x=x\n",
    "        self.y=y\n",
    "        \n",
    "    def __str__(self): # the method return statement is printed   \n",
    "        return '<{},{}>'.format(self.x,self.y)\n",
    "    \n",
    "    def distance(self,other):\n",
    "        \n",
    "        distance=(((other.x-self.x)**2) + ((other.y-self.y)**2))**(1/2)\n",
    "        return distance\n",
    "    \n",
    "    def distance_from_origin(self):\n",
    "        #distance=(((0-self.x)**2) + ((0-self.y)**2))**(1/2)\n",
    "        distance=self.distance(Point(0,0))\n",
    "        return distance\n",
    "    \n",
    "    "
   ]
  },
  {
   "cell_type": "code",
   "execution_count": 17,
   "id": "2717acb5",
   "metadata": {},
   "outputs": [],
   "source": [
    "p1=Point(1,1)\n",
    "p2=Point(3,5)"
   ]
  },
  {
   "cell_type": "code",
   "execution_count": 46,
   "id": "305aa323",
   "metadata": {},
   "outputs": [],
   "source": [
    "class Line:\n",
    "    \n",
    "    def __init__(self,a,b,c):\n",
    "        self.a=a\n",
    "        self.b=b\n",
    "        self.c=c\n",
    "        \n",
    "    def __str__(self):\n",
    "        return f'{self.a}x + {self.b}y + {self.c} = 0'\n",
    "    \n",
    "    \n",
    "    def point_on_line(self,point):\n",
    "       #          a*x               b*y\n",
    "        \n",
    "        value= (self.a*point.x) + (self.b*point.y) + self.c\n",
    "        \n",
    "        if value==0:\n",
    "            print('Point lies on line')\n",
    "            \n",
    "        else:\n",
    "            print('Does not lie on the line')\n",
    "            \n",
    "            \n",
    "    def distace_from_point(self,point):\n",
    "        #    ax1 + by1 + c\n",
    "        num= (self.a*point.x) + (self.b*point.y) + (self.c)\n",
    "        # sqrt(a2 + b2)\n",
    "        den= (self.a**2 + self.b**2)**0.5\n",
    "        \n",
    "        return num/den\n",
    "        \n",
    "        "
   ]
  },
  {
   "cell_type": "code",
   "execution_count": 47,
   "id": "98725a53",
   "metadata": {},
   "outputs": [],
   "source": [
    "l1=Line(1,1,-2)"
   ]
  },
  {
   "cell_type": "code",
   "execution_count": 48,
   "id": "36ffa070",
   "metadata": {},
   "outputs": [
    {
     "name": "stdout",
     "output_type": "stream",
     "text": [
      "1x + 1y + -2 = 0\n"
     ]
    }
   ],
   "source": [
    "print(l1)"
   ]
  },
  {
   "cell_type": "code",
   "execution_count": 49,
   "id": "1056927b",
   "metadata": {},
   "outputs": [
    {
     "name": "stdout",
     "output_type": "stream",
     "text": [
      "Point lies on line\n"
     ]
    }
   ],
   "source": [
    "l1.point_on_line(p1)"
   ]
  },
  {
   "cell_type": "code",
   "execution_count": 50,
   "id": "a9c612d4",
   "metadata": {},
   "outputs": [
    {
     "name": "stdout",
     "output_type": "stream",
     "text": [
      "Does not lie on the line\n"
     ]
    }
   ],
   "source": [
    "l1.point_on_line(p2)"
   ]
  },
  {
   "cell_type": "code",
   "execution_count": 51,
   "id": "a2dfd8f0",
   "metadata": {},
   "outputs": [],
   "source": [
    "l2=Line(2,3,-9)"
   ]
  },
  {
   "cell_type": "code",
   "execution_count": 52,
   "id": "513d8086",
   "metadata": {},
   "outputs": [
    {
     "name": "stdout",
     "output_type": "stream",
     "text": [
      "2x + 3y + -9 = 0\n"
     ]
    }
   ],
   "source": [
    "print(l2)"
   ]
  },
  {
   "cell_type": "code",
   "execution_count": 53,
   "id": "02dc5290",
   "metadata": {},
   "outputs": [],
   "source": [
    "p3=Point(1,2)\n",
    "p4=Point(4,5)\n",
    "p5=Point(3,1)\n",
    "p6=Point(3,2)"
   ]
  },
  {
   "cell_type": "code",
   "execution_count": 54,
   "id": "a984b7ca",
   "metadata": {},
   "outputs": [
    {
     "name": "stdout",
     "output_type": "stream",
     "text": [
      "Does not lie on the line\n"
     ]
    }
   ],
   "source": [
    "l2.point_on_line(p3)"
   ]
  },
  {
   "cell_type": "code",
   "execution_count": 55,
   "id": "18af0b29",
   "metadata": {},
   "outputs": [
    {
     "name": "stdout",
     "output_type": "stream",
     "text": [
      "Does not lie on the line\n"
     ]
    }
   ],
   "source": [
    "l2.point_on_line(p4)"
   ]
  },
  {
   "cell_type": "code",
   "execution_count": 56,
   "id": "8638e406",
   "metadata": {},
   "outputs": [
    {
     "name": "stdout",
     "output_type": "stream",
     "text": [
      "Point lies on line\n"
     ]
    }
   ],
   "source": [
    "l2.point_on_line(p5)"
   ]
  },
  {
   "cell_type": "code",
   "execution_count": 57,
   "id": "48837559",
   "metadata": {},
   "outputs": [
    {
     "name": "stdout",
     "output_type": "stream",
     "text": [
      "Does not lie on the line\n"
     ]
    }
   ],
   "source": [
    "l2.point_on_line(p6)"
   ]
  },
  {
   "cell_type": "code",
   "execution_count": 58,
   "id": "c92e321d",
   "metadata": {},
   "outputs": [
    {
     "data": {
      "text/plain": [
       "3.8829013735766043"
      ]
     },
     "execution_count": 58,
     "metadata": {},
     "output_type": "execute_result"
    }
   ],
   "source": [
    "l2.distace_from_point(p4)"
   ]
  },
  {
   "cell_type": "code",
   "execution_count": 59,
   "id": "328103d7",
   "metadata": {},
   "outputs": [
    {
     "data": {
      "text/plain": [
       "-0.2773500981126146"
      ]
     },
     "execution_count": 59,
     "metadata": {},
     "output_type": "execute_result"
    }
   ],
   "source": [
    "l2.distace_from_point(p3)"
   ]
  },
  {
   "cell_type": "code",
   "execution_count": 60,
   "id": "6d54c767",
   "metadata": {},
   "outputs": [
    {
     "data": {
      "text/plain": [
       "0.0"
      ]
     },
     "execution_count": 60,
     "metadata": {},
     "output_type": "execute_result"
    }
   ],
   "source": [
    "l2.distace_from_point(p5)"
   ]
  }
 ],
 "metadata": {
  "kernelspec": {
   "display_name": "Python 3 (ipykernel)",
   "language": "python",
   "name": "python3"
  },
  "language_info": {
   "codemirror_mode": {
    "name": "ipython",
    "version": 3
   },
   "file_extension": ".py",
   "mimetype": "text/x-python",
   "name": "python",
   "nbconvert_exporter": "python",
   "pygments_lexer": "ipython3",
   "version": "3.9.12"
  }
 },
 "nbformat": 4,
 "nbformat_minor": 5
}
