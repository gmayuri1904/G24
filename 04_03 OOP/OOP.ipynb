{
 "cells": [
  {
   "cell_type": "code",
   "execution_count": null,
   "id": "614e6bce",
   "metadata": {},
   "outputs": [],
   "source": [
    "Student >> id, name, branch >> attributes\n",
    "        >> greet, details >> method"
   ]
  },
  {
   "cell_type": "code",
   "execution_count": 4,
   "id": "3ea51891",
   "metadata": {},
   "outputs": [],
   "source": [
    "class Student:\n",
    "    \n",
    "    def details(self, id, name, branch):\n",
    "        print('Student Details:',id,name, branch)\n",
    "        \n",
    "    def greet(self, name):\n",
    "        print(name,'says hello')\n",
    "    "
   ]
  },
  {
   "cell_type": "code",
   "execution_count": 3,
   "id": "0d3f928f",
   "metadata": {},
   "outputs": [],
   "source": [
    "s1=Student()"
   ]
  },
  {
   "cell_type": "code",
   "execution_count": 5,
   "id": "2e106501",
   "metadata": {},
   "outputs": [
    {
     "ename": "TypeError",
     "evalue": "details() missing 3 required positional arguments: 'id', 'name', and 'branch'",
     "output_type": "error",
     "traceback": [
      "\u001b[1;31m---------------------------------------------------------------------------\u001b[0m",
      "\u001b[1;31mTypeError\u001b[0m                                 Traceback (most recent call last)",
      "Input \u001b[1;32mIn [5]\u001b[0m, in \u001b[0;36m<cell line: 1>\u001b[1;34m()\u001b[0m\n\u001b[1;32m----> 1\u001b[0m \u001b[43ms1\u001b[49m\u001b[38;5;241;43m.\u001b[39;49m\u001b[43mdetails\u001b[49m\u001b[43m(\u001b[49m\u001b[43m)\u001b[49m\n",
      "\u001b[1;31mTypeError\u001b[0m: details() missing 3 required positional arguments: 'id', 'name', and 'branch'"
     ]
    }
   ],
   "source": [
    "s1.details()"
   ]
  },
  {
   "cell_type": "code",
   "execution_count": 6,
   "id": "179184ef",
   "metadata": {},
   "outputs": [
    {
     "ename": "TypeError",
     "evalue": "greet() missing 1 required positional argument: 'name'",
     "output_type": "error",
     "traceback": [
      "\u001b[1;31m---------------------------------------------------------------------------\u001b[0m",
      "\u001b[1;31mTypeError\u001b[0m                                 Traceback (most recent call last)",
      "Input \u001b[1;32mIn [6]\u001b[0m, in \u001b[0;36m<cell line: 1>\u001b[1;34m()\u001b[0m\n\u001b[1;32m----> 1\u001b[0m \u001b[43ms1\u001b[49m\u001b[38;5;241;43m.\u001b[39;49m\u001b[43mgreet\u001b[49m\u001b[43m(\u001b[49m\u001b[43m)\u001b[49m\n",
      "\u001b[1;31mTypeError\u001b[0m: greet() missing 1 required positional argument: 'name'"
     ]
    }
   ],
   "source": [
    "s1.greet()"
   ]
  },
  {
   "cell_type": "code",
   "execution_count": 7,
   "id": "ce85ad5e",
   "metadata": {},
   "outputs": [],
   "source": [
    "class Student:\n",
    "    \n",
    "    def __init__(self,id,name,branch):\n",
    "        \n",
    "        self.id=id\n",
    "        self.name=name\n",
    "        self.subject=branch\n",
    "        \n",
    "    \n",
    "    def details(self):\n",
    "        print('Student Details:',self.id,self.name, self.subject)\n",
    "        \n",
    "    def greet(self):\n",
    "        print(self.name,'says hello')"
   ]
  },
  {
   "cell_type": "code",
   "execution_count": 9,
   "id": "6f2a6278",
   "metadata": {},
   "outputs": [],
   "source": [
    "s1=Student(123,'Anne','CSE')"
   ]
  },
  {
   "cell_type": "code",
   "execution_count": 10,
   "id": "92f506fd",
   "metadata": {},
   "outputs": [
    {
     "name": "stdout",
     "output_type": "stream",
     "text": [
      "Student Details: 123 Anne CSE\n"
     ]
    }
   ],
   "source": [
    "s1.details()"
   ]
  },
  {
   "cell_type": "code",
   "execution_count": 12,
   "id": "34f0943d",
   "metadata": {},
   "outputs": [
    {
     "name": "stdout",
     "output_type": "stream",
     "text": [
      "Anne says hello\n"
     ]
    }
   ],
   "source": [
    "s1.greet()"
   ]
  },
  {
   "cell_type": "code",
   "execution_count": 13,
   "id": "ddd27576",
   "metadata": {},
   "outputs": [],
   "source": [
    "s2=Student(456,'Peter',\"civil\")"
   ]
  },
  {
   "cell_type": "code",
   "execution_count": 18,
   "id": "3d429ebe",
   "metadata": {},
   "outputs": [],
   "source": [
    "s3=Student(789,'Beth','Mech')"
   ]
  },
  {
   "cell_type": "code",
   "execution_count": 21,
   "id": "a1a334f0",
   "metadata": {},
   "outputs": [
    {
     "data": {
      "text/plain": [
       "'CSE'"
      ]
     },
     "execution_count": 21,
     "metadata": {},
     "output_type": "execute_result"
    }
   ],
   "source": [
    "s1.id\n",
    "s1.name\n",
    "s1.subject"
   ]
  },
  {
   "cell_type": "code",
   "execution_count": 17,
   "id": "df626ef3",
   "metadata": {},
   "outputs": [
    {
     "data": {
      "text/plain": [
       "456"
      ]
     },
     "execution_count": 17,
     "metadata": {},
     "output_type": "execute_result"
    }
   ],
   "source": [
    "s2.id"
   ]
  },
  {
   "cell_type": "code",
   "execution_count": 19,
   "id": "13dc1068",
   "metadata": {},
   "outputs": [
    {
     "data": {
      "text/plain": [
       "789"
      ]
     },
     "execution_count": 19,
     "metadata": {},
     "output_type": "execute_result"
    }
   ],
   "source": [
    "s3.id"
   ]
  },
  {
   "cell_type": "code",
   "execution_count": 25,
   "id": "261b1d58",
   "metadata": {},
   "outputs": [],
   "source": [
    "s1.age=21 # Attribute created outside class"
   ]
  },
  {
   "cell_type": "code",
   "execution_count": 24,
   "id": "5d4a475f",
   "metadata": {},
   "outputs": [
    {
     "data": {
      "text/plain": [
       "21"
      ]
     },
     "execution_count": 24,
     "metadata": {},
     "output_type": "execute_result"
    }
   ],
   "source": [
    "s1.age"
   ]
  },
  {
   "cell_type": "code",
   "execution_count": 29,
   "id": "0c80bb76",
   "metadata": {},
   "outputs": [
    {
     "name": "stdout",
     "output_type": "stream",
     "text": [
      "{'id': 123, 'name': 'Anne', 'subject': 'CSE', 'age': 21}\n"
     ]
    }
   ],
   "source": [
    "print(s1.__dict__)"
   ]
  },
  {
   "cell_type": "code",
   "execution_count": 30,
   "id": "74179397",
   "metadata": {},
   "outputs": [
    {
     "name": "stdout",
     "output_type": "stream",
     "text": [
      "{'id': 456, 'name': 'Peter', 'subject': 'civil'}\n"
     ]
    }
   ],
   "source": [
    "print(s2.__dict__)"
   ]
  },
  {
   "cell_type": "code",
   "execution_count": 31,
   "id": "7380e1f2",
   "metadata": {},
   "outputs": [],
   "source": [
    "s2.college='COE'"
   ]
  },
  {
   "cell_type": "code",
   "execution_count": 32,
   "id": "5e80eb71",
   "metadata": {},
   "outputs": [],
   "source": [
    "s2.city='Chennai'"
   ]
  },
  {
   "cell_type": "code",
   "execution_count": 33,
   "id": "452cdfe0",
   "metadata": {},
   "outputs": [
    {
     "name": "stdout",
     "output_type": "stream",
     "text": [
      "{'id': 456, 'name': 'Peter', 'subject': 'civil', 'college': 'COE', 'city': 'Chennai'}\n"
     ]
    }
   ],
   "source": [
    "print(s2.__dict__)"
   ]
  },
  {
   "cell_type": "code",
   "execution_count": null,
   "id": "80f5f981",
   "metadata": {},
   "outputs": [],
   "source": [
    "s2."
   ]
  },
  {
   "cell_type": "code",
   "execution_count": 35,
   "id": "c891d370",
   "metadata": {},
   "outputs": [],
   "source": [
    "class Fruit:\n",
    "    \n",
    "    def __init__(self,name,color):\n",
    "        \n",
    "        self.name=name  #attribute\n",
    "        self.color=color #attribute\n",
    "        print('Object initialized')\n",
    "        \n",
    "    def info(self): #method\n",
    "        \n",
    "        print('Colour of the fruit is',self.color)\n",
    "        print('Fruit is',self.name)"
   ]
  },
  {
   "cell_type": "code",
   "execution_count": 36,
   "id": "0c0955c7",
   "metadata": {},
   "outputs": [
    {
     "name": "stdout",
     "output_type": "stream",
     "text": [
      "Object initialized\n"
     ]
    }
   ],
   "source": [
    "f1=Fruit('Apple','red')"
   ]
  },
  {
   "cell_type": "code",
   "execution_count": 39,
   "id": "c8c0c26e",
   "metadata": {},
   "outputs": [
    {
     "name": "stdout",
     "output_type": "stream",
     "text": [
      "Colour of the fruit is red\n",
      "Fruit is Apple\n"
     ]
    }
   ],
   "source": [
    "f1.info()"
   ]
  },
  {
   "cell_type": "code",
   "execution_count": 40,
   "id": "44787f65",
   "metadata": {},
   "outputs": [
    {
     "name": "stdout",
     "output_type": "stream",
     "text": [
      "{'name': 'Apple', 'color': 'red'}\n"
     ]
    }
   ],
   "source": [
    "print(f1.__dict__)"
   ]
  },
  {
   "cell_type": "code",
   "execution_count": 42,
   "id": "4c180bc3",
   "metadata": {},
   "outputs": [],
   "source": [
    "f1.price=100"
   ]
  },
  {
   "cell_type": "code",
   "execution_count": 43,
   "id": "a7f21436",
   "metadata": {},
   "outputs": [
    {
     "data": {
      "text/plain": [
       "100"
      ]
     },
     "execution_count": 43,
     "metadata": {},
     "output_type": "execute_result"
    }
   ],
   "source": [
    "f1.price"
   ]
  },
  {
   "cell_type": "code",
   "execution_count": 44,
   "id": "4bc6cfb3",
   "metadata": {},
   "outputs": [
    {
     "name": "stdout",
     "output_type": "stream",
     "text": [
      "{'name': 'Apple', 'color': 'red', 'price': 100}\n"
     ]
    }
   ],
   "source": [
    "print(f1.__dict__)"
   ]
  },
  {
   "cell_type": "code",
   "execution_count": null,
   "id": "7916d6b0",
   "metadata": {},
   "outputs": [],
   "source": [
    "class Fruit:\n",
    "    \n",
    "    def __init__(self,name,color):\n",
    "        \n",
    "        self.name=name  #attribute\n",
    "        self.color=color #attribute\n",
    "        self.price=100\n",
    "        print('Object initialized')\n",
    "        \n",
    "    def info(self): #method\n",
    "        \n",
    "        print('Colour of the fruit is',self.color)\n",
    "        print('Fruit is',self.name)"
   ]
  },
  {
   "cell_type": "code",
   "execution_count": 45,
   "id": "be470835",
   "metadata": {},
   "outputs": [
    {
     "name": "stdout",
     "output_type": "stream",
     "text": [
      "Object Initilised\n"
     ]
    }
   ],
   "source": [
    "class Player:\n",
    "    def __init__(self,name,role):\n",
    "        self.name=name\n",
    "        self.role=role\n",
    "        print(\"Object Initilised\")\n",
    "    def info (self):\n",
    "        print(\"name the player is\",self.name)\n",
    "        print(\"role is\",self.role)\n",
    "p1=Player(\"Raina\",\"Left Handed batsmen\")"
   ]
  },
  {
   "cell_type": "code",
   "execution_count": 46,
   "id": "b8cb840e",
   "metadata": {},
   "outputs": [
    {
     "name": "stdout",
     "output_type": "stream",
     "text": [
      "name the player is Raina\n",
      "role is Left Handed batsmen\n"
     ]
    }
   ],
   "source": [
    "p1.info() #team"
   ]
  },
  {
   "cell_type": "code",
   "execution_count": 47,
   "id": "ea81681b",
   "metadata": {},
   "outputs": [
    {
     "name": "stdout",
     "output_type": "stream",
     "text": [
      "name is DHONI runs scored is: 67 role is: BATSMAN\n",
      "name of the team is: CSK\n"
     ]
    }
   ],
   "source": [
    "class person():\n",
    "    def __init__(self,name,runs,role):\n",
    "        self.name=name\n",
    "        self.runs=runs\n",
    "        self.role=role\n",
    "        print('name is',self.name,'runs scored is:',self.runs,'role is:',self.role)\n",
    "    def team(self,tm):\n",
    "        self.tm=tm\n",
    "        print('name of the team is:',tm)\n",
    "obj=person('DHONI',67,'BATSMAN')\n",
    "obj.team('CSK')"
   ]
  },
  {
   "cell_type": "code",
   "execution_count": 48,
   "id": "47226262",
   "metadata": {},
   "outputs": [
    {
     "name": "stdout",
     "output_type": "stream",
     "text": [
      "dhoni wicket-keeper,batsman\n",
      "1000\n",
      "csk\n"
     ]
    }
   ],
   "source": [
    "class Player:\n",
    "\n",
    "    team='csk'\n",
    "\n",
    "    def __init__(self,name,runs,role):\n",
    "        self.name=name\n",
    "        self.runs=runs\n",
    "        self.role=role\n",
    "\n",
    "    def info(self):\n",
    "        print(self.name,self.role)\n",
    "\n",
    "    def run(self):\n",
    "        print(self.runs)\n",
    "\n",
    "d=Player('dhoni',1000,'wicket-keeper,batsman')\n",
    "\n",
    "d.info()\n",
    "d.run()\n",
    "print(d.team)"
   ]
  },
  {
   "cell_type": "code",
   "execution_count": 49,
   "id": "eedd3cdd",
   "metadata": {},
   "outputs": [
    {
     "name": "stdout",
     "output_type": "stream",
     "text": [
      "dhoni bouler\n",
      "56 runs scored\n",
      "csk\n"
     ]
    }
   ],
   "source": [
    "class player:\n",
    "    def __init__(self,name,runs,role):\n",
    "        self.name=name\n",
    "        self.runs=runs\n",
    "        self.role=role\n",
    "\n",
    "    def info(self):\n",
    "        print(self.name,self.role)\n",
    "        print(self.runs,'runs scored')\n",
    "        \n",
    "    def team(self,team):\n",
    "        self.team=team\n",
    "        print(self.team)\n",
    "\n",
    "\n",
    "p1=player('dhoni',56,'bouler')\n",
    "p1.info()\n",
    "p1.team('csk')"
   ]
  },
  {
   "cell_type": "code",
   "execution_count": 50,
   "id": "ae88b06c",
   "metadata": {},
   "outputs": [
    {
     "name": "stdout",
     "output_type": "stream",
     "text": [
      "object created\n",
      "display name kohli\n",
      "display role captain\n",
      "display runs 100\n",
      "display team csk\n"
     ]
    }
   ],
   "source": [
    "class Player:\n",
    "    def __init__(self,name,runs,role):\n",
    "        self.name=name\n",
    "        self.runs=runs\n",
    "        self.role=role\n",
    "        self.team='csk'\n",
    "        print(\"object created\")\n",
    "    def info(self):\n",
    "        print('display name',self.name)\n",
    "        print('display role',self.role)\n",
    "        print('display runs',self.runs)\n",
    "        print('display team',self.team)\n",
    "s=Player('kohli',100,'captain')\n",
    "s.info()"
   ]
  },
  {
   "cell_type": "code",
   "execution_count": 51,
   "id": "bd6cc210",
   "metadata": {},
   "outputs": [
    {
     "name": "stdout",
     "output_type": "stream",
     "text": [
      "name is MSDHONI runs scored is: 100 role is: BATSMAN\n",
      "name of the team is: CSK\n"
     ]
    }
   ],
   "source": [
    "class players:\n",
    "    def __init__(self, name, runs, role):\n",
    "        self.name = name\n",
    "        self.runs = runs\n",
    "        self.role = role\n",
    "        print('name is', self.name, 'runs scored is:', self.runs, 'role is:', self.role)\n",
    "\n",
    "    def info(self, team):\n",
    "        self.team = team\n",
    "        print('name of the team is:', team)\n",
    "\n",
    "\n",
    "obj = players('MSDHONI', 100, 'BATSMAN')\n",
    "obj.info('CSK')"
   ]
  },
  {
   "cell_type": "code",
   "execution_count": 52,
   "id": "ea974d51",
   "metadata": {},
   "outputs": [
    {
     "name": "stdout",
     "output_type": "stream",
     "text": [
      "raina batsmen\n",
      "100 runs scored\n",
      "csk\n"
     ]
    }
   ],
   "source": [
    "class player:\n",
    "    def __init__(self,name,runs,role):\n",
    "        self.name=name\n",
    "        self.runs=runs\n",
    "        self.role=role\n",
    "\n",
    "    def info(self):\n",
    "        print(self.name,self.role)\n",
    "        print(self.runs,'runs scored')\n",
    "        \n",
    "    def team(self,team):\n",
    "        self.team=team\n",
    "        print(self.team)\n",
    "\n",
    "\n",
    "p1=player('raina',100,'batsmen')\n",
    "p1.info()\n",
    "p1.team('csk')"
   ]
  },
  {
   "cell_type": "code",
   "execution_count": 53,
   "id": "fc126bcb",
   "metadata": {},
   "outputs": [
    {
     "name": "stdout",
     "output_type": "stream",
     "text": [
      "name is vk runs is 89\n",
      "name of the team is: rcb\n"
     ]
    }
   ],
   "source": [
    "class players:\n",
    "    def __init__(self,name,runs,role):\n",
    "        self.name=name\n",
    "        self.runs=runs\n",
    "        self.role=role\n",
    "        print(\"name is\",self.name,\"runs is\",self.runs)\n",
    "\n",
    "\n",
    "    def team(self, tm):\n",
    "\n",
    "        self.team = tm\n",
    "        print('name of the team is:', tm)\n",
    "obj =players('vk', 89, 'BATSMAN')\n",
    "obj.team('rcb')"
   ]
  },
  {
   "cell_type": "code",
   "execution_count": null,
   "id": "278a921c",
   "metadata": {},
   "outputs": [],
   "source": []
  }
 ],
 "metadata": {
  "kernelspec": {
   "display_name": "Python 3 (ipykernel)",
   "language": "python",
   "name": "python3"
  },
  "language_info": {
   "codemirror_mode": {
    "name": "ipython",
    "version": 3
   },
   "file_extension": ".py",
   "mimetype": "text/x-python",
   "name": "python",
   "nbconvert_exporter": "python",
   "pygments_lexer": "ipython3",
   "version": "3.9.12"
  }
 },
 "nbformat": 4,
 "nbformat_minor": 5
}
