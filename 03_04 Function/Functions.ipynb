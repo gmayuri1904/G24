{
 "cells": [
  {
   "cell_type": "code",
   "execution_count": null,
   "id": "2f6efeec",
   "metadata": {},
   "outputs": [],
   "source": [
    "lambda a,b,c,d:exp"
   ]
  },
  {
   "cell_type": "code",
   "execution_count": 3,
   "id": "8dab9dec",
   "metadata": {},
   "outputs": [],
   "source": [
    "a=lambda str1: 1 if str1.istitle() else 0"
   ]
  },
  {
   "cell_type": "code",
   "execution_count": 70,
   "id": "c795280d",
   "metadata": {},
   "outputs": [],
   "source": [
    "def upper(str1):\n",
    "    if str1.istitle():\n",
    "        return 1\n",
    "    else:\n",
    "        return 0"
   ]
  },
  {
   "cell_type": "code",
   "execution_count": 8,
   "id": "25910960",
   "metadata": {},
   "outputs": [
    {
     "data": {
      "text/plain": [
       "0"
      ]
     },
     "execution_count": 8,
     "metadata": {},
     "output_type": "execute_result"
    }
   ],
   "source": [
    "upper('apple')"
   ]
  },
  {
   "cell_type": "code",
   "execution_count": 9,
   "id": "b8ce9c82",
   "metadata": {},
   "outputs": [],
   "source": [
    "list1=['apple','Mango','Banana','Melon','strawberry','orange']"
   ]
  },
  {
   "cell_type": "code",
   "execution_count": 11,
   "id": "dbbc430c",
   "metadata": {},
   "outputs": [],
   "source": [
    "#filter(fun,iterators) n >> 0,n"
   ]
  },
  {
   "cell_type": "code",
   "execution_count": 13,
   "id": "607fcec8",
   "metadata": {},
   "outputs": [
    {
     "data": {
      "text/plain": [
       "['Mango', 'Banana', 'Melon']"
      ]
     },
     "execution_count": 13,
     "metadata": {},
     "output_type": "execute_result"
    }
   ],
   "source": [
    "list(filter(upper,list1))"
   ]
  },
  {
   "cell_type": "code",
   "execution_count": 14,
   "id": "8d89f64b",
   "metadata": {},
   "outputs": [
    {
     "data": {
      "text/plain": [
       "['Mango', 'Banana', 'Melon']"
      ]
     },
     "execution_count": 14,
     "metadata": {},
     "output_type": "execute_result"
    }
   ],
   "source": [
    "list(filter(a,list1))"
   ]
  },
  {
   "cell_type": "code",
   "execution_count": 15,
   "id": "f4415d7a",
   "metadata": {},
   "outputs": [
    {
     "data": {
      "text/plain": [
       "['Mango', 'Banana', 'Melon']"
      ]
     },
     "execution_count": 15,
     "metadata": {},
     "output_type": "execute_result"
    }
   ],
   "source": [
    "list(filter(lambda str1: 1 if str1.istitle() else 0,list1))"
   ]
  },
  {
   "cell_type": "code",
   "execution_count": 27,
   "id": "dad301bf",
   "metadata": {},
   "outputs": [
    {
     "data": {
      "text/plain": [
       "11"
      ]
     },
     "execution_count": 27,
     "metadata": {},
     "output_type": "execute_result"
    }
   ],
   "source": [
    "list2=[-15,21,-32,53,46,-42,57,-73,-58,73,-97]\n",
    "len(list2)"
   ]
  },
  {
   "cell_type": "code",
   "execution_count": 28,
   "id": "790d1abb",
   "metadata": {},
   "outputs": [
    {
     "data": {
      "text/plain": [
       "11"
      ]
     },
     "execution_count": 28,
     "metadata": {},
     "output_type": "execute_result"
    }
   ],
   "source": [
    "len(list(map(lambda x:x+100,list2)))"
   ]
  },
  {
   "cell_type": "code",
   "execution_count": 29,
   "id": "a853b93a",
   "metadata": {},
   "outputs": [
    {
     "data": {
      "text/plain": [
       "['apple', 'Mango', 'Banana', 'Melon', 'strawberry', 'orange']"
      ]
     },
     "execution_count": 29,
     "metadata": {},
     "output_type": "execute_result"
    }
   ],
   "source": [
    "list1"
   ]
  },
  {
   "cell_type": "code",
   "execution_count": 31,
   "id": "ce406c4c",
   "metadata": {},
   "outputs": [
    {
     "data": {
      "text/plain": [
       "['APPLE', 'MANGO', 'BANANA', 'MELON', 'STRAWBERRY', 'ORANGE']"
      ]
     },
     "execution_count": 31,
     "metadata": {},
     "output_type": "execute_result"
    }
   ],
   "source": [
    "list(map(lambda x:x.upper(),list1))"
   ]
  },
  {
   "cell_type": "code",
   "execution_count": 39,
   "id": "e9f6a29e",
   "metadata": {},
   "outputs": [],
   "source": [
    "list3=[10,20,30,40,50,60,70,80]\n",
    "list4=[100,200,300,400,500,600,700,800]"
   ]
  },
  {
   "cell_type": "code",
   "execution_count": 40,
   "id": "3157cc3d",
   "metadata": {},
   "outputs": [
    {
     "data": {
      "text/plain": [
       "[110, 220, 330, 440, 550, 660, 770, 880]"
      ]
     },
     "execution_count": 40,
     "metadata": {},
     "output_type": "execute_result"
    }
   ],
   "source": [
    "list(map(lambda x,y:x+y,list3,list4))"
   ]
  },
  {
   "cell_type": "code",
   "execution_count": 41,
   "id": "cc280667",
   "metadata": {},
   "outputs": [
    {
     "data": {
      "text/plain": [
       "['apple', 'Mango', 'Banana', 'Melon', 'strawberry', 'orange']"
      ]
     },
     "execution_count": 41,
     "metadata": {},
     "output_type": "execute_result"
    }
   ],
   "source": [
    "list1"
   ]
  },
  {
   "cell_type": "code",
   "execution_count": 43,
   "id": "f9721707",
   "metadata": {},
   "outputs": [],
   "source": [
    "list2=['#','@','*','&','%','!']"
   ]
  },
  {
   "cell_type": "code",
   "execution_count": 47,
   "id": "4dc24b42",
   "metadata": {},
   "outputs": [
    {
     "data": {
      "text/plain": [
       "['apple # 10',\n",
       " 'Mango @ 20',\n",
       " 'Banana * 30',\n",
       " 'Melon & 40',\n",
       " 'strawberry % 50',\n",
       " 'orange ! 60']"
      ]
     },
     "execution_count": 47,
     "metadata": {},
     "output_type": "execute_result"
    }
   ],
   "source": [
    "list(map(lambda x,y,z:x+' '+y+' '+str(z),list1,list2,list3))"
   ]
  },
  {
   "cell_type": "code",
   "execution_count": 53,
   "id": "d6b4643f",
   "metadata": {},
   "outputs": [],
   "source": [
    "sub=['phy','chem','maths','eng','cs']\n",
    "marks=[74,56,32,67,45]"
   ]
  },
  {
   "cell_type": "code",
   "execution_count": 52,
   "id": "461ee543",
   "metadata": {},
   "outputs": [
    {
     "data": {
      "text/plain": [
       "['phy:74', 'chem:56', 'maths:32', 'eng:67', 'cs:45']"
      ]
     },
     "execution_count": 52,
     "metadata": {},
     "output_type": "execute_result"
    }
   ],
   "source": [
    "list(map(lambda x,y:f'{x}:{y}',sub,marks))"
   ]
  },
  {
   "cell_type": "code",
   "execution_count": null,
   "id": "ad184eaa",
   "metadata": {},
   "outputs": [],
   "source": [
    "list1\n",
    "filter > 50\n",
    "map val+100"
   ]
  },
  {
   "cell_type": "code",
   "execution_count": 55,
   "id": "35db8f9b",
   "metadata": {},
   "outputs": [],
   "source": [
    "list5=[43,25,73,56,98,94,86,57,23,35,25,78,47,90]"
   ]
  },
  {
   "cell_type": "code",
   "execution_count": 58,
   "id": "a40f1313",
   "metadata": {},
   "outputs": [
    {
     "data": {
      "text/plain": [
       "[173, 156, 198, 194, 186, 157, 178, 190]"
      ]
     },
     "execution_count": 58,
     "metadata": {},
     "output_type": "execute_result"
    }
   ],
   "source": [
    "list(map(lambda x:x+100,filter(lambda x:x>50,list5)))"
   ]
  },
  {
   "cell_type": "code",
   "execution_count": null,
   "id": "0e279d31",
   "metadata": {},
   "outputs": [],
   "source": [
    "list\n",
    "map x*5\n",
    "filter x%2==0"
   ]
  },
  {
   "cell_type": "code",
   "execution_count": 59,
   "id": "8adb5edd",
   "metadata": {},
   "outputs": [
    {
     "data": {
      "text/plain": [
       "[43, 25, 73, 56, 98, 94, 86, 57, 23, 35, 25, 78, 47, 90]"
      ]
     },
     "execution_count": 59,
     "metadata": {},
     "output_type": "execute_result"
    }
   ],
   "source": [
    "list5"
   ]
  },
  {
   "cell_type": "code",
   "execution_count": 62,
   "id": "c3c04ec1",
   "metadata": {},
   "outputs": [
    {
     "data": {
      "text/plain": [
       "[280, 490, 470, 430, 390, 450]"
      ]
     },
     "execution_count": 62,
     "metadata": {},
     "output_type": "execute_result"
    }
   ],
   "source": [
    "list(filter(lambda x:x%2==0,map(lambda x:x*5,list5)))"
   ]
  },
  {
   "cell_type": "code",
   "execution_count": null,
   "id": "ee5487f0",
   "metadata": {},
   "outputs": [],
   "source": []
  }
 ],
 "metadata": {
  "kernelspec": {
   "display_name": "Python 3 (ipykernel)",
   "language": "python",
   "name": "python3"
  },
  "language_info": {
   "codemirror_mode": {
    "name": "ipython",
    "version": 3
   },
   "file_extension": ".py",
   "mimetype": "text/x-python",
   "name": "python",
   "nbconvert_exporter": "python",
   "pygments_lexer": "ipython3",
   "version": "3.9.12"
  }
 },
 "nbformat": 4,
 "nbformat_minor": 5
}
