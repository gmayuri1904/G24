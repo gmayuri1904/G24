{
 "cells": [
  {
   "cell_type": "code",
   "execution_count": 18,
   "id": "4f50766f",
   "metadata": {},
   "outputs": [],
   "source": [
    "class Employee:\n",
    "    count=0\n",
    "    def __init__(self,name,salary):\n",
    "        \n",
    "        \n",
    "        Employee.count+=1\n",
    "        print(Employee.count)\n",
    "        self.name=name\n",
    "        self.sal=salary \n",
    "        \n",
    "    @staticmethod    \n",
    "    def demo():\n",
    "        print('This is a static method')"
   ]
  },
  {
   "cell_type": "code",
   "execution_count": 19,
   "id": "39de740d",
   "metadata": {},
   "outputs": [
    {
     "name": "stdout",
     "output_type": "stream",
     "text": [
      "This is a static method\n"
     ]
    }
   ],
   "source": [
    "Employee.demo()"
   ]
  },
  {
   "cell_type": "code",
   "execution_count": 2,
   "id": "f50c1139",
   "metadata": {},
   "outputs": [
    {
     "name": "stdout",
     "output_type": "stream",
     "text": [
      "1\n"
     ]
    }
   ],
   "source": [
    "e1=Employee('Mounika',55000)"
   ]
  },
  {
   "cell_type": "code",
   "execution_count": 3,
   "id": "f23034d2",
   "metadata": {},
   "outputs": [
    {
     "data": {
      "text/plain": [
       "1"
      ]
     },
     "execution_count": 3,
     "metadata": {},
     "output_type": "execute_result"
    }
   ],
   "source": [
    "e1.count"
   ]
  },
  {
   "cell_type": "code",
   "execution_count": 4,
   "id": "22708b6f",
   "metadata": {},
   "outputs": [
    {
     "name": "stdout",
     "output_type": "stream",
     "text": [
      "2\n"
     ]
    }
   ],
   "source": [
    "e2=Employee('Harsha',55000)"
   ]
  },
  {
   "cell_type": "code",
   "execution_count": 6,
   "id": "c5d162a0",
   "metadata": {},
   "outputs": [
    {
     "data": {
      "text/plain": [
       "2"
      ]
     },
     "execution_count": 6,
     "metadata": {},
     "output_type": "execute_result"
    }
   ],
   "source": [
    "e2.count\n",
    "e1.count"
   ]
  },
  {
   "cell_type": "code",
   "execution_count": 7,
   "id": "9c84a53a",
   "metadata": {},
   "outputs": [
    {
     "name": "stdout",
     "output_type": "stream",
     "text": [
      "3\n"
     ]
    }
   ],
   "source": [
    "e3=Employee('Bhavana',56000)"
   ]
  },
  {
   "cell_type": "code",
   "execution_count": 9,
   "id": "43e09d7e",
   "metadata": {},
   "outputs": [
    {
     "data": {
      "text/plain": [
       "3"
      ]
     },
     "execution_count": 9,
     "metadata": {},
     "output_type": "execute_result"
    }
   ],
   "source": [
    "e3.count"
   ]
  },
  {
   "cell_type": "code",
   "execution_count": 11,
   "id": "ff6d60f2",
   "metadata": {},
   "outputs": [],
   "source": [
    "Employee.count=10"
   ]
  },
  {
   "cell_type": "code",
   "execution_count": 13,
   "id": "d2ffc473",
   "metadata": {},
   "outputs": [
    {
     "data": {
      "text/plain": [
       "10"
      ]
     },
     "execution_count": 13,
     "metadata": {},
     "output_type": "execute_result"
    }
   ],
   "source": [
    "Employee.count"
   ]
  },
  {
   "cell_type": "code",
   "execution_count": 31,
   "id": "fb3d3282",
   "metadata": {},
   "outputs": [],
   "source": [
    "class Parent:\n",
    "    \n",
    "    def __init__(self):\n",
    "        print('Parent class')\n",
    "        \n",
    "    def greet(self):\n",
    "        print('Hello from parent class')"
   ]
  },
  {
   "cell_type": "code",
   "execution_count": 32,
   "id": "a1b08f9a",
   "metadata": {
    "scrolled": true
   },
   "outputs": [
    {
     "name": "stdout",
     "output_type": "stream",
     "text": [
      "Parent class\n"
     ]
    }
   ],
   "source": [
    "p1=Parent()"
   ]
  },
  {
   "cell_type": "code",
   "execution_count": 33,
   "id": "c7c0f9c5",
   "metadata": {},
   "outputs": [
    {
     "name": "stdout",
     "output_type": "stream",
     "text": [
      "Hello from parent class\n"
     ]
    }
   ],
   "source": [
    "p1.greet()"
   ]
  },
  {
   "cell_type": "code",
   "execution_count": 34,
   "id": "0b833c4b",
   "metadata": {},
   "outputs": [],
   "source": [
    "class Child(Parent):\n",
    "    \n",
    "    def __init__(self):\n",
    "        print('Child class')\n",
    "        \n",
    "    def demo(self):\n",
    "        print('Hello from child class')"
   ]
  },
  {
   "cell_type": "code",
   "execution_count": 35,
   "id": "cf8541f0",
   "metadata": {},
   "outputs": [
    {
     "name": "stdout",
     "output_type": "stream",
     "text": [
      "Child class\n"
     ]
    }
   ],
   "source": [
    "c1=Child()"
   ]
  },
  {
   "cell_type": "code",
   "execution_count": 36,
   "id": "e13107c4",
   "metadata": {},
   "outputs": [
    {
     "name": "stdout",
     "output_type": "stream",
     "text": [
      "Hello from parent class\n"
     ]
    }
   ],
   "source": [
    "c1.greet()"
   ]
  },
  {
   "cell_type": "code",
   "execution_count": 37,
   "id": "84989b51",
   "metadata": {},
   "outputs": [
    {
     "name": "stdout",
     "output_type": "stream",
     "text": [
      "Hello from child class\n"
     ]
    }
   ],
   "source": [
    "c1.demo()"
   ]
  },
  {
   "cell_type": "code",
   "execution_count": 38,
   "id": "bd3fd6cd",
   "metadata": {},
   "outputs": [
    {
     "name": "stdout",
     "output_type": "stream",
     "text": [
      "Hello from parent class\n"
     ]
    }
   ],
   "source": [
    "p1.greet()"
   ]
  },
  {
   "cell_type": "code",
   "execution_count": 39,
   "id": "ad23fbb9",
   "metadata": {},
   "outputs": [
    {
     "ename": "AttributeError",
     "evalue": "'Parent' object has no attribute 'demo'",
     "output_type": "error",
     "traceback": [
      "\u001b[1;31m---------------------------------------------------------------------------\u001b[0m",
      "\u001b[1;31mAttributeError\u001b[0m                            Traceback (most recent call last)",
      "Input \u001b[1;32mIn [39]\u001b[0m, in \u001b[0;36m<cell line: 1>\u001b[1;34m()\u001b[0m\n\u001b[1;32m----> 1\u001b[0m \u001b[43mp1\u001b[49m\u001b[38;5;241;43m.\u001b[39;49m\u001b[43mdemo\u001b[49m()\n",
      "\u001b[1;31mAttributeError\u001b[0m: 'Parent' object has no attribute 'demo'"
     ]
    }
   ],
   "source": [
    "p1.demo()"
   ]
  }
 ],
 "metadata": {
  "kernelspec": {
   "display_name": "Python 3 (ipykernel)",
   "language": "python",
   "name": "python3"
  },
  "language_info": {
   "codemirror_mode": {
    "name": "ipython",
    "version": 3
   },
   "file_extension": ".py",
   "mimetype": "text/x-python",
   "name": "python",
   "nbconvert_exporter": "python",
   "pygments_lexer": "ipython3",
   "version": "3.9.12"
  }
 },
 "nbformat": 4,
 "nbformat_minor": 5
}
