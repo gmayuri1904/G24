{
 "cells": [
  {
   "cell_type": "code",
   "execution_count": null,
   "id": "5a2aa023",
   "metadata": {},
   "outputs": [],
   "source": [
    "a=lambda args:exp"
   ]
  },
  {
   "cell_type": "code",
   "execution_count": 19,
   "id": "7c599f37",
   "metadata": {},
   "outputs": [
    {
     "data": {
      "text/plain": [
       "8"
      ]
     },
     "execution_count": 19,
     "metadata": {},
     "output_type": "execute_result"
    }
   ],
   "source": [
    "def ic(n):\n",
    "    return n+4\n",
    "\n",
    "ic(4)"
   ]
  },
  {
   "cell_type": "code",
   "execution_count": 1,
   "id": "570e7b3a",
   "metadata": {},
   "outputs": [],
   "source": [
    "c=lambda x:x+4"
   ]
  },
  {
   "cell_type": "code",
   "execution_count": 4,
   "id": "2ceb9bd4",
   "metadata": {},
   "outputs": [
    {
     "data": {
      "text/plain": [
       "19"
      ]
     },
     "execution_count": 4,
     "metadata": {},
     "output_type": "execute_result"
    }
   ],
   "source": [
    "c(8)\n",
    "c(12)\n",
    "c(15)"
   ]
  },
  {
   "cell_type": "code",
   "execution_count": 5,
   "id": "00c431cf",
   "metadata": {},
   "outputs": [],
   "source": [
    "a=lambda x,y:x*y"
   ]
  },
  {
   "cell_type": "code",
   "execution_count": 6,
   "id": "c372c3f9",
   "metadata": {},
   "outputs": [
    {
     "data": {
      "text/plain": [
       "6"
      ]
     },
     "execution_count": 6,
     "metadata": {},
     "output_type": "execute_result"
    }
   ],
   "source": [
    "a(2,3)"
   ]
  },
  {
   "cell_type": "code",
   "execution_count": 7,
   "id": "158bb4bb",
   "metadata": {},
   "outputs": [],
   "source": [
    "b=lambda x,y,z,a:(x+y+z)/a"
   ]
  },
  {
   "cell_type": "code",
   "execution_count": 9,
   "id": "c0e0a8ff",
   "metadata": {},
   "outputs": [
    {
     "data": {
      "text/plain": [
       "1.8"
      ]
     },
     "execution_count": 9,
     "metadata": {},
     "output_type": "execute_result"
    }
   ],
   "source": [
    "b(2,3,4,5)"
   ]
  },
  {
   "cell_type": "code",
   "execution_count": 10,
   "id": "4273accf",
   "metadata": {},
   "outputs": [
    {
     "data": {
      "text/plain": [
       "1.8"
      ]
     },
     "execution_count": 10,
     "metadata": {},
     "output_type": "execute_result"
    }
   ],
   "source": [
    "(2+3+4)/5"
   ]
  },
  {
   "cell_type": "code",
   "execution_count": 11,
   "id": "2a5b6079",
   "metadata": {},
   "outputs": [],
   "source": [
    "c=lambda x,y: x if x>y else y"
   ]
  },
  {
   "cell_type": "code",
   "execution_count": 13,
   "id": "56e6781c",
   "metadata": {},
   "outputs": [
    {
     "data": {
      "text/plain": [
       "55"
      ]
     },
     "execution_count": 13,
     "metadata": {},
     "output_type": "execute_result"
    }
   ],
   "source": [
    "c(55,18)"
   ]
  },
  {
   "cell_type": "code",
   "execution_count": 14,
   "id": "fff3f9d6",
   "metadata": {},
   "outputs": [],
   "source": [
    "d=lambda lst:[i**2 for i in lst]"
   ]
  },
  {
   "cell_type": "code",
   "execution_count": 15,
   "id": "97e2ec43",
   "metadata": {},
   "outputs": [
    {
     "data": {
      "text/plain": [
       "[1, 4, 9, 16, 25]"
      ]
     },
     "execution_count": 15,
     "metadata": {},
     "output_type": "execute_result"
    }
   ],
   "source": [
    "d([1,2,3,4,5])"
   ]
  },
  {
   "cell_type": "raw",
   "id": "b2ac71ee",
   "metadata": {},
   "source": [
    "anonymous func\n",
    "lambda keyword\n",
    "short period of time"
   ]
  },
  {
   "cell_type": "code",
   "execution_count": null,
   "id": "d29ba907",
   "metadata": {},
   "outputs": [],
   "source": [
    "filter, map, reduce"
   ]
  },
  {
   "cell_type": "markdown",
   "id": "862763a8",
   "metadata": {},
   "source": [
    "## Higher Order Functions"
   ]
  },
  {
   "cell_type": "code",
   "execution_count": null,
   "id": "a1ff372e",
   "metadata": {},
   "outputs": [],
   "source": [
    "def func(funn())"
   ]
  },
  {
   "cell_type": "code",
   "execution_count": null,
   "id": "76e3c5b5",
   "metadata": {},
   "outputs": [],
   "source": []
  },
  {
   "cell_type": "code",
   "execution_count": 31,
   "id": "80f0f297",
   "metadata": {},
   "outputs": [],
   "source": [
    "# Nested function\n",
    "\n",
    "def display(fname,lname):\n",
    "    \n",
    "    def show():\n",
    "        print('This is show funcion')\n",
    "        print(fname,lname)\n",
    "        \n",
    "        \n",
    "    print('This is display fun')\n",
    "        \n",
    "    show()"
   ]
  },
  {
   "cell_type": "code",
   "execution_count": 30,
   "id": "9410d83d",
   "metadata": {},
   "outputs": [
    {
     "name": "stdout",
     "output_type": "stream",
     "text": [
      "This is display fun\n",
      "This is show funcion\n",
      "peter parker\n"
     ]
    }
   ],
   "source": [
    "cndshowdisplay('peter','parker')"
   ]
  },
  {
   "cell_type": "markdown",
   "id": "acff34be",
   "metadata": {},
   "source": [
    "## Filter"
   ]
  },
  {
   "cell_type": "code",
   "execution_count": 37,
   "id": "563f5b25",
   "metadata": {},
   "outputs": [
    {
     "data": {
      "text/plain": [
       "['apple', 'grape']"
      ]
     },
     "execution_count": 37,
     "metadata": {},
     "output_type": "execute_result"
    }
   ],
   "source": [
    "lst=['apple','melon','banana','grape','orange']\n",
    "list(filter(lambda str1:'p' in str1,lst))"
   ]
  },
  {
   "cell_type": "code",
   "execution_count": null,
   "id": "c743b802",
   "metadata": {},
   "outputs": [],
   "source": [
    "filter(condition, iterable)"
   ]
  },
  {
   "cell_type": "code",
   "execution_count": 38,
   "id": "20aba9db",
   "metadata": {},
   "outputs": [],
   "source": [
    "def letter(str1):\n",
    "    if 'b' in str1:\n",
    "        return True\n",
    "    else:\n",
    "        return False"
   ]
  },
  {
   "cell_type": "code",
   "execution_count": 39,
   "id": "8ef3f906",
   "metadata": {},
   "outputs": [
    {
     "data": {
      "text/plain": [
       "['banana']"
      ]
     },
     "execution_count": 39,
     "metadata": {},
     "output_type": "execute_result"
    }
   ],
   "source": [
    "list(filter(letter,lst))"
   ]
  },
  {
   "cell_type": "code",
   "execution_count": null,
   "id": "371a7694",
   "metadata": {},
   "outputs": [],
   "source": []
  }
 ],
 "metadata": {
  "kernelspec": {
   "display_name": "Python 3 (ipykernel)",
   "language": "python",
   "name": "python3"
  },
  "language_info": {
   "codemirror_mode": {
    "name": "ipython",
    "version": 3
   },
   "file_extension": ".py",
   "mimetype": "text/x-python",
   "name": "python",
   "nbconvert_exporter": "python",
   "pygments_lexer": "ipython3",
   "version": "3.9.12"
  }
 },
 "nbformat": 4,
 "nbformat_minor": 5
}
