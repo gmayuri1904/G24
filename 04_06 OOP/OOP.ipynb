{
 "cells": [
  {
   "cell_type": "code",
   "execution_count": 1,
   "id": "d79bfc36",
   "metadata": {},
   "outputs": [],
   "source": [
    "class ATM:\n",
    "    \n",
    "    def __init__(self):\n",
    "        self.pin='1234'\n",
    "        self.balance=0\n",
    "        print('Menu here')\n",
    "        \n",
    "    "
   ]
  },
  {
   "cell_type": "code",
   "execution_count": 2,
   "id": "d26775fc",
   "metadata": {},
   "outputs": [
    {
     "name": "stdout",
     "output_type": "stream",
     "text": [
      "Menu here\n"
     ]
    }
   ],
   "source": [
    "cust1=ATM()"
   ]
  },
  {
   "cell_type": "code",
   "execution_count": 5,
   "id": "65f2bac7",
   "metadata": {},
   "outputs": [],
   "source": [
    "class ATM:\n",
    "    \n",
    "    def __init__(self):\n",
    "        self.pin='1234'\n",
    "        self.balance=0\n",
    "        self.menu()\n",
    "        \n",
    "    def menu(self):\n",
    "        print('''Press any key:\n",
    "              1. Create pin\n",
    "              2. Change pin\n",
    "              3. Check balance\n",
    "              4. Withdraw\n",
    "              5. Exit''')"
   ]
  },
  {
   "cell_type": "code",
   "execution_count": 6,
   "id": "579bbcf3",
   "metadata": {},
   "outputs": [
    {
     "name": "stdout",
     "output_type": "stream",
     "text": [
      "Press any key:\n",
      "              1. Create pin\n",
      "              2. Change pin\n",
      "              3. Check balance\n",
      "              4. Withdraw\n",
      "              5. Exit\n"
     ]
    }
   ],
   "source": [
    "cust1=ATM()"
   ]
  },
  {
   "cell_type": "code",
   "execution_count": 7,
   "id": "c05cce5a",
   "metadata": {},
   "outputs": [],
   "source": [
    "class ATM:\n",
    "    \n",
    "    def __init__(self):\n",
    "        self.pin='1234'\n",
    "        self.balance=0\n",
    "        self.menu()\n",
    "        \n",
    "    def menu(self):\n",
    "        action=int(input('''Press any key:\n",
    "              1. Create pin\n",
    "              2. Change pin\n",
    "              3. Check balance\n",
    "              4. Withdraw\n",
    "              5. Exit'''))"
   ]
  },
  {
   "cell_type": "code",
   "execution_count": 8,
   "id": "ddbbdd66",
   "metadata": {},
   "outputs": [
    {
     "name": "stdout",
     "output_type": "stream",
     "text": [
      "Press any key:\n",
      "              1. Create pin\n",
      "              2. Change pin\n",
      "              3. Check balance\n",
      "              4. Withdraw\n",
      "              5. Exit4\n"
     ]
    }
   ],
   "source": [
    "cust1=ATM()"
   ]
  },
  {
   "cell_type": "code",
   "execution_count": null,
   "id": "62536b5e",
   "metadata": {},
   "outputs": [],
   "source": [
    "class ATM:\n",
    "    \n",
    "    def __init__(self):\n",
    "        self.pin=''\n",
    "        self.balance=0\n",
    "        self.menu()\n",
    "        \n",
    "    def menu(self):\n",
    "        action=int(input('''Press any key:\n",
    "              1. Create acc\n",
    "              2. Change pin\n",
    "              3. Check balance\n",
    "              4. Withdraw\n",
    "              5. Exit'''))\n",
    "        \n",
    "        if action==1:\n",
    "            self.create_acc()\n",
    "            \n",
    "        elif action==2:\n",
    "            self.change_pin()\n",
    "            \n",
    "        elif action==3:\n",
    "            self.check_balance()\n",
    "            \n",
    "        elif action==4:\n",
    "            self.withdraw()\n",
    "            \n",
    "        else:\n",
    "            self.exit()\n",
    "    \n",
    "    def create_acc(self):\n",
    "        new_pin=int(input('Enter new pin'))\n",
    "        self.pin=new_pin\n",
    "        print(self.pin)\n",
    "        user_bal=int(input('Enter balance'))\n",
    "        self.balance=user_bal\n",
    "        print(self.balance)\n",
    "        self.menu()\n",
    "        \n",
    "    def change_pin(self):\n",
    "        \n",
    "        user_pin=int(input('Enter old pin'))\n",
    "        \n",
    "        if user_pin==self.pin:\n",
    "            \n",
    "            new_pin=int(input('DEnter new pin'))\n",
    "            self.pin=new_pin\n",
    "            print('Pin changed',self.pin)\n",
    "        else:\n",
    "            print('Incorrect pin')\n",
    "            self.menu()\n",
    "        \n",
    "    def check_balance(self):\n",
    "        \n",
    "        user_pin=int(input('Enter pin'))\n",
    "        \n",
    "        if user_pin==self.pin:\n",
    "            print('Balance is',self.balance)\n",
    "            \n",
    "        else:\n",
    "            print('Incorrect pin')\n",
    "            self.menu()\n",
    "        \n",
    "    def withdraw(self):\n",
    "        user_pin=int(input('Enter pin'))\n",
    "        \n",
    "        if user_pin==self.pin:\n",
    "            amount=int(input('Enter amount to withdraw'))\n",
    "            if amount>self.balance:\n",
    "                print('Your balance is low')\n",
    "            else:\n",
    "                self.balance=self.balance-amount\n",
    "                print('Remaing balance is',self.balance)\n",
    "            \n",
    "        else:\n",
    "            print('Incorrect pin')\n",
    "            self.menu()\n",
    "    def exit(self):\n",
    "        exit()"
   ]
  },
  {
   "cell_type": "code",
   "execution_count": null,
   "id": "a16d3f86",
   "metadata": {},
   "outputs": [],
   "source": [
    "Cust1=ATM()"
   ]
  }
 ],
 "metadata": {
  "kernelspec": {
   "display_name": "Python 3 (ipykernel)",
   "language": "python",
   "name": "python3"
  },
  "language_info": {
   "codemirror_mode": {
    "name": "ipython",
    "version": 3
   },
   "file_extension": ".py",
   "mimetype": "text/x-python",
   "name": "python",
   "nbconvert_exporter": "python",
   "pygments_lexer": "ipython3",
   "version": "3.9.12"
  }
 },
 "nbformat": 4,
 "nbformat_minor": 5
}
