{
 "cells": [
  {
   "cell_type": "code",
   "execution_count": 19,
   "id": "2f4f42f7",
   "metadata": {},
   "outputs": [],
   "source": [
    "class ATM:\n",
    "    \n",
    "    def __init__(self,acc_no,balance):\n",
    "        self.acc_no=acc_no\n",
    "        self.__pin=''\n",
    "        self.__balance=balance\n",
    "        #self.menu()\n",
    "        \n",
    "    def menu(self):\n",
    "        action=int(input('''Press any key:\n",
    "              1. Set pin\n",
    "              2. Change pin\n",
    "              3. Check balance\n",
    "              4. Withdraw\n",
    "              5. Exit'''))\n",
    "        \n",
    "        if action==1:\n",
    "            self.create_acc()\n",
    "            \n",
    "        elif action==2:\n",
    "            self.change_pin()\n",
    "            \n",
    "        elif action==3:\n",
    "            self.check_balance()\n",
    "            \n",
    "        elif action==4:\n",
    "            self.withdraw()\n",
    "            \n",
    "        else:\n",
    "            self.exit()\n",
    "    \n",
    "    def __create_acc(self):\n",
    "        new_pin=int(input('Enter new pin'))\n",
    "        self.pin=new_pin\n",
    "        print('New pin has been set')\n",
    "        self.menu()\n",
    "        \n",
    "    def change_pin(self):\n",
    "        \n",
    "        user_pin=int(input('Enter old pin'))\n",
    "        \n",
    "        if user_pin==self.pin:\n",
    "            \n",
    "            new_pin=int(input('Enter new pin'))\n",
    "            self.pin=new_pin\n",
    "            print('Pin changed',self.pin)\n",
    "        else:\n",
    "            print('Incorrect pin')\n",
    "        self.menu()\n",
    "        \n",
    "    def check_balance(self):\n",
    "        \n",
    "        user_pin=int(input('Enter pin'))\n",
    "        \n",
    "        if user_pin==self.pin:\n",
    "            print('Balance is',self.balance)\n",
    "            \n",
    "        else:\n",
    "            print('Incorrect pin')\n",
    "            self.menu()\n",
    "        \n",
    "    def withdraw(self):\n",
    "        user_pin=int(input('Enter pin'))\n",
    "        \n",
    "        if user_pin==self.pin:\n",
    "            amount=int(input('Enter amount to withdraw'))\n",
    "            if amount>self.balance:\n",
    "                print('Your balance is low')\n",
    "            else:\n",
    "                self.balance=self.balance-amount\n",
    "                print('Remaing balance is',self.balance)\n",
    "            \n",
    "        else:\n",
    "            print('Incorrect pin')\n",
    "            self.menu()\n",
    "    def exit(self):\n",
    "        exit()"
   ]
  },
  {
   "cell_type": "code",
   "execution_count": 20,
   "id": "1cb2e0d1",
   "metadata": {},
   "outputs": [],
   "source": [
    "Cust1=ATM('SBI4743543',10000)"
   ]
  },
  {
   "cell_type": "code",
   "execution_count": 29,
   "id": "a68c77c1",
   "metadata": {},
   "outputs": [
    {
     "data": {
      "text/plain": [
       "10000"
      ]
     },
     "execution_count": 29,
     "metadata": {},
     "output_type": "execute_result"
    }
   ],
   "source": [
    "Cust1._ATM__pin\n",
    "Cust1._ATM__balance"
   ]
  },
  {
   "cell_type": "code",
   "execution_count": 16,
   "id": "d1457355",
   "metadata": {},
   "outputs": [
    {
     "data": {
      "text/plain": [
       "20000"
      ]
     },
     "execution_count": 16,
     "metadata": {},
     "output_type": "execute_result"
    }
   ],
   "source": [
    "Cust1.balance"
   ]
  },
  {
   "cell_type": "code",
   "execution_count": 8,
   "id": "0e3b1625",
   "metadata": {},
   "outputs": [],
   "source": [
    "Cust1.pin=7890"
   ]
  },
  {
   "cell_type": "code",
   "execution_count": 10,
   "id": "95fd8cb5",
   "metadata": {},
   "outputs": [
    {
     "data": {
      "text/plain": [
       "7890"
      ]
     },
     "execution_count": 10,
     "metadata": {},
     "output_type": "execute_result"
    }
   ],
   "source": [
    "Cust1.pin"
   ]
  },
  {
   "cell_type": "code",
   "execution_count": 49,
   "id": "36896349",
   "metadata": {},
   "outputs": [],
   "source": [
    "class Dog:\n",
    "    \n",
    "    def __init__(self, name, age):\n",
    "        \n",
    "        self.__name=name\n",
    "        self.age=age\n",
    "        \n",
    "    def __greet(self):\n",
    "        \n",
    "        print(f'Hello, this is {self.__name}, I am {self.age} years old')"
   ]
  },
  {
   "cell_type": "code",
   "execution_count": 50,
   "id": "99aa6dd3",
   "metadata": {},
   "outputs": [],
   "source": [
    "d1=Dog('Scooby',7)"
   ]
  },
  {
   "cell_type": "code",
   "execution_count": 51,
   "id": "19a4d3b6",
   "metadata": {},
   "outputs": [],
   "source": [
    "#d1.__name\n",
    "d1._Dog__name=\"casper\""
   ]
  },
  {
   "cell_type": "code",
   "execution_count": 42,
   "id": "6497a940",
   "metadata": {},
   "outputs": [
    {
     "data": {
      "text/plain": [
       "'casper'"
      ]
     },
     "execution_count": 42,
     "metadata": {},
     "output_type": "execute_result"
    }
   ],
   "source": [
    "d1._Dog__name"
   ]
  },
  {
   "cell_type": "code",
   "execution_count": 52,
   "id": "e2d76bdf",
   "metadata": {},
   "outputs": [
    {
     "name": "stdout",
     "output_type": "stream",
     "text": [
      "Hello, this is casper, I am 7 years old\n"
     ]
    }
   ],
   "source": [
    "d1._Dog__greet()"
   ]
  },
  {
   "cell_type": "code",
   "execution_count": 35,
   "id": "bdf9887c",
   "metadata": {},
   "outputs": [
    {
     "name": "stdout",
     "output_type": "stream",
     "text": [
      "Hello, this is Scooby, I am 7 years old\n"
     ]
    }
   ],
   "source": [
    "d1.age\n",
    "d1.name\n",
    "d1.greet()"
   ]
  }
 ],
 "metadata": {
  "kernelspec": {
   "display_name": "Python 3 (ipykernel)",
   "language": "python",
   "name": "python3"
  },
  "language_info": {
   "codemirror_mode": {
    "name": "ipython",
    "version": 3
   },
   "file_extension": ".py",
   "mimetype": "text/x-python",
   "name": "python",
   "nbconvert_exporter": "python",
   "pygments_lexer": "ipython3",
   "version": "3.9.12"
  }
 },
 "nbformat": 4,
 "nbformat_minor": 5
}
