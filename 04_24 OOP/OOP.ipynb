{
 "cells": [
  {
   "cell_type": "markdown",
   "id": "163990c6",
   "metadata": {},
   "source": [
    "## Parent Constructor"
   ]
  },
  {
   "cell_type": "code",
   "execution_count": 3,
   "id": "accfe528",
   "metadata": {},
   "outputs": [],
   "source": [
    "class Person:\n",
    "    \n",
    "    def __init__(self, name, age):\n",
    "        self.name=name\n",
    "        self.age=age\n",
    "        print('Person object created')\n",
    "        "
   ]
  },
  {
   "cell_type": "code",
   "execution_count": 4,
   "id": "c278792f",
   "metadata": {},
   "outputs": [],
   "source": [
    "class Employee(Person):\n",
    "    pass\n",
    "    \n",
    "    "
   ]
  },
  {
   "cell_type": "code",
   "execution_count": 6,
   "id": "7f2bca93",
   "metadata": {},
   "outputs": [
    {
     "name": "stdout",
     "output_type": "stream",
     "text": [
      "Person object created\n"
     ]
    }
   ],
   "source": [
    "p1=Person('Mounika',20)"
   ]
  },
  {
   "cell_type": "code",
   "execution_count": 9,
   "id": "d9bd5d4e",
   "metadata": {},
   "outputs": [
    {
     "ename": "TypeError",
     "evalue": "__init__() missing 2 required positional arguments: 'name' and 'age'",
     "output_type": "error",
     "traceback": [
      "\u001b[1;31m---------------------------------------------------------------------------\u001b[0m",
      "\u001b[1;31mTypeError\u001b[0m                                 Traceback (most recent call last)",
      "Input \u001b[1;32mIn [9]\u001b[0m, in \u001b[0;36m<cell line: 1>\u001b[1;34m()\u001b[0m\n\u001b[1;32m----> 1\u001b[0m e1\u001b[38;5;241m=\u001b[39m\u001b[43mEmployee\u001b[49m\u001b[43m(\u001b[49m\u001b[43m)\u001b[49m\n",
      "\u001b[1;31mTypeError\u001b[0m: __init__() missing 2 required positional arguments: 'name' and 'age'"
     ]
    }
   ],
   "source": [
    "e1=Employee()"
   ]
  },
  {
   "cell_type": "code",
   "execution_count": 10,
   "id": "340d1b07",
   "metadata": {},
   "outputs": [
    {
     "name": "stdout",
     "output_type": "stream",
     "text": [
      "Person object created\n"
     ]
    }
   ],
   "source": [
    "e1=Employee('Harsha',21)"
   ]
  },
  {
   "cell_type": "raw",
   "id": "189b4797",
   "metadata": {},
   "source": [
    "If child class does not have a constructore, it'll inherit from the parent"
   ]
  },
  {
   "cell_type": "markdown",
   "id": "8d2f3037",
   "metadata": {},
   "source": [
    "## Parent and Child Constructor"
   ]
  },
  {
   "cell_type": "code",
   "execution_count": 13,
   "id": "dcfc6dde",
   "metadata": {},
   "outputs": [],
   "source": [
    "class Person:\n",
    "    \n",
    "    def __init__(self, name, contact):\n",
    "        self.name=name\n",
    "        self.contact=contact\n",
    "        print('Person object created')\n",
    "        "
   ]
  },
  {
   "cell_type": "code",
   "execution_count": 56,
   "id": "f656bda2",
   "metadata": {},
   "outputs": [],
   "source": [
    "class Employee(Person):\n",
    "    \n",
    "    def __init__(self, name, contact,empid, designation):\n",
    "        self.name=name\n",
    "        self.contact=contact\n",
    "        self.empid=empid\n",
    "        self.designation=designation\n",
    "        print('Person object created')\n",
    "    "
   ]
  },
  {
   "cell_type": "code",
   "execution_count": 15,
   "id": "d1bc365b",
   "metadata": {},
   "outputs": [
    {
     "name": "stdout",
     "output_type": "stream",
     "text": [
      "Person object created\n"
     ]
    }
   ],
   "source": [
    "p1=Person('Mounika',9845155651)"
   ]
  },
  {
   "cell_type": "code",
   "execution_count": 17,
   "id": "bcb75b7a",
   "metadata": {},
   "outputs": [
    {
     "name": "stdout",
     "output_type": "stream",
     "text": [
      "Employee object created\n"
     ]
    }
   ],
   "source": [
    "e1=Employee('Harsha',9844564646,1234,'Developer')"
   ]
  },
  {
   "cell_type": "markdown",
   "id": "939e5545",
   "metadata": {},
   "source": [
    "If child class has a constructer, it'll use it's own"
   ]
  },
  {
   "cell_type": "markdown",
   "id": "f82c6be8",
   "metadata": {},
   "source": [
    "## super"
   ]
  },
  {
   "cell_type": "code",
   "execution_count": 57,
   "id": "0881b289",
   "metadata": {},
   "outputs": [],
   "source": [
    "class Person:\n",
    "    \n",
    "    def __init__(self, name, contact):\n",
    "        self.name=name\n",
    "        self.contact=contact\n",
    "        print('Person class')"
   ]
  },
  {
   "cell_type": "code",
   "execution_count": 53,
   "id": "623515b4",
   "metadata": {},
   "outputs": [],
   "source": [
    "class Employee(Person):\n",
    "    \n",
    "    def __init__(self, name, contact,empid, designation):\n",
    "        super().__init__(name,contact)\n",
    "        self.empid=empid\n",
    "        self.designation=designation\n",
    "        print('Employee object created')"
   ]
  },
  {
   "cell_type": "code",
   "execution_count": 54,
   "id": "48f6c4f3",
   "metadata": {},
   "outputs": [
    {
     "name": "stdout",
     "output_type": "stream",
     "text": [
      "Person object created\n"
     ]
    }
   ],
   "source": [
    "p1=Person('Mounika',16465166)"
   ]
  },
  {
   "cell_type": "code",
   "execution_count": 55,
   "id": "d19eb27c",
   "metadata": {},
   "outputs": [
    {
     "name": "stdout",
     "output_type": "stream",
     "text": [
      "Person object created\n",
      "Employee object created\n"
     ]
    }
   ],
   "source": [
    "e1=Employee('Harsha',586516464,1234,'Developer')"
   ]
  },
  {
   "cell_type": "markdown",
   "id": "b055e03c",
   "metadata": {},
   "source": [
    "## Super method"
   ]
  },
  {
   "cell_type": "code",
   "execution_count": 25,
   "id": "72473a6b",
   "metadata": {},
   "outputs": [],
   "source": [
    "class Parent:\n",
    "    \n",
    "    def greet(self):\n",
    "        #lot of logic\n",
    "        print('This is parent class greet method')"
   ]
  },
  {
   "cell_type": "code",
   "execution_count": 36,
   "id": "41408445",
   "metadata": {},
   "outputs": [],
   "source": [
    "class Child(Parent):\n",
    "    \n",
    "    def greet(self):\n",
    "        super().greet()\n",
    "        #more logic\n",
    "        print('This is Child class greet method')"
   ]
  },
  {
   "cell_type": "code",
   "execution_count": 37,
   "id": "fd9dcc65",
   "metadata": {},
   "outputs": [],
   "source": [
    "p1=Parent()"
   ]
  },
  {
   "cell_type": "code",
   "execution_count": 38,
   "id": "b0c8ff9d",
   "metadata": {},
   "outputs": [
    {
     "name": "stdout",
     "output_type": "stream",
     "text": [
      "This is parent class greet method\n"
     ]
    }
   ],
   "source": [
    "p1.greet()"
   ]
  },
  {
   "cell_type": "code",
   "execution_count": 39,
   "id": "3f89bc84",
   "metadata": {},
   "outputs": [],
   "source": [
    "c1=Child()"
   ]
  },
  {
   "cell_type": "code",
   "execution_count": 40,
   "id": "a225df7b",
   "metadata": {},
   "outputs": [
    {
     "name": "stdout",
     "output_type": "stream",
     "text": [
      "This is parent class greet method\n",
      "This is Child class greet method\n"
     ]
    }
   ],
   "source": [
    "c1.greet()"
   ]
  },
  {
   "cell_type": "code",
   "execution_count": 43,
   "id": "c41b92d8",
   "metadata": {},
   "outputs": [],
   "source": [
    "class Parent:\n",
    "    \n",
    "    def calc(self):\n",
    "        print('a+b')\n",
    "        print('a-b')\n"
   ]
  },
  {
   "cell_type": "code",
   "execution_count": 47,
   "id": "b584ae87",
   "metadata": {},
   "outputs": [],
   "source": [
    "class Child(Parent):\n",
    "    \n",
    "    def calc(self):\n",
    "        super().calc()\n",
    "        print('a*b')\n",
    "        print('a/b')\n"
   ]
  },
  {
   "cell_type": "code",
   "execution_count": 48,
   "id": "f2a01078",
   "metadata": {},
   "outputs": [],
   "source": [
    "c1=Child()"
   ]
  },
  {
   "cell_type": "code",
   "execution_count": 49,
   "id": "8faf68d4",
   "metadata": {},
   "outputs": [
    {
     "name": "stdout",
     "output_type": "stream",
     "text": [
      "a+b\n",
      "a-b\n",
      "a*b\n",
      "a/b\n"
     ]
    }
   ],
   "source": [
    "c1.calc()"
   ]
  },
  {
   "cell_type": "code",
   "execution_count": null,
   "id": "fbacc41a",
   "metadata": {},
   "outputs": [],
   "source": []
  }
 ],
 "metadata": {
  "kernelspec": {
   "display_name": "Python 3 (ipykernel)",
   "language": "python",
   "name": "python3"
  },
  "language_info": {
   "codemirror_mode": {
    "name": "ipython",
    "version": 3
   },
   "file_extension": ".py",
   "mimetype": "text/x-python",
   "name": "python",
   "nbconvert_exporter": "python",
   "pygments_lexer": "ipython3",
   "version": "3.9.12"
  }
 },
 "nbformat": 4,
 "nbformat_minor": 5
}
