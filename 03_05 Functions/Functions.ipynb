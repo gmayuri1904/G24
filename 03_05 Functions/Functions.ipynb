{
 "cells": [
  {
   "cell_type": "code",
   "execution_count": 17,
   "id": "2c776bc3",
   "metadata": {},
   "outputs": [],
   "source": [
    "lst=[77,23,98,21,53,89,76,20,49,87]"
   ]
  },
  {
   "cell_type": "code",
   "execution_count": 23,
   "id": "2d96275e",
   "metadata": {},
   "outputs": [
    {
     "data": {
      "text/plain": [
       "[7700, 9800, 8900, 7600, 8700]"
      ]
     },
     "execution_count": 23,
     "metadata": {},
     "output_type": "execute_result"
    }
   ],
   "source": [
    "a=filter(lambda x:x>75,lst)\n",
    "list(map(lambda x:x*100,a)) #map(func,iter)"
   ]
  },
  {
   "cell_type": "code",
   "execution_count": 27,
   "id": "4be81f57",
   "metadata": {},
   "outputs": [
    {
     "data": {
      "text/plain": [
       "[20, 21, 22, 23, 24]"
      ]
     },
     "execution_count": 27,
     "metadata": {},
     "output_type": "execute_result"
    }
   ],
   "source": [
    "list(filter(lambda x:x<25,map(lambda m:m+5,range(15,31))))"
   ]
  },
  {
   "cell_type": "code",
   "execution_count": null,
   "id": "6ebb0754",
   "metadata": {},
   "outputs": [],
   "source": [
    "map(lambda m:m+5,"
   ]
  }
 ],
 "metadata": {
  "kernelspec": {
   "display_name": "Python 3 (ipykernel)",
   "language": "python",
   "name": "python3"
  },
  "language_info": {
   "codemirror_mode": {
    "name": "ipython",
    "version": 3
   },
   "file_extension": ".py",
   "mimetype": "text/x-python",
   "name": "python",
   "nbconvert_exporter": "python",
   "pygments_lexer": "ipython3",
   "version": "3.9.12"
  }
 },
 "nbformat": 4,
 "nbformat_minor": 5
}
