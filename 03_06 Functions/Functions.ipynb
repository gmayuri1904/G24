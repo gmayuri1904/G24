{
 "cells": [
  {
   "cell_type": "code",
   "execution_count": 11,
   "id": "da5a2d6a",
   "metadata": {},
   "outputs": [],
   "source": [
    "a,b,c,d=1,2,3,4"
   ]
  },
  {
   "cell_type": "code",
   "execution_count": 12,
   "id": "3bd9e915",
   "metadata": {},
   "outputs": [
    {
     "data": {
      "text/plain": [
       "int"
      ]
     },
     "execution_count": 12,
     "metadata": {},
     "output_type": "execute_result"
    }
   ],
   "source": [
    "type(a)"
   ]
  },
  {
   "cell_type": "code",
   "execution_count": null,
   "id": "3313160d",
   "metadata": {},
   "outputs": [],
   "source": [
    "a=1:"
   ]
  },
  {
   "cell_type": "code",
   "execution_count": 17,
   "id": "15cac962",
   "metadata": {},
   "outputs": [],
   "source": [
    "def add(a,b):\n",
    "    print('addition is:',a+b)\n",
    "    return a+b"
   ]
  },
  {
   "cell_type": "code",
   "execution_count": 18,
   "id": "4fda6f07",
   "metadata": {},
   "outputs": [
    {
     "name": "stdout",
     "output_type": "stream",
     "text": [
      "addition is: 11\n"
     ]
    }
   ],
   "source": [
    "m=add(5,6)"
   ]
  },
  {
   "cell_type": "code",
   "execution_count": 19,
   "id": "75770401",
   "metadata": {},
   "outputs": [
    {
     "name": "stdout",
     "output_type": "stream",
     "text": [
      "11\n"
     ]
    }
   ],
   "source": [
    "print(m)"
   ]
  },
  {
   "cell_type": "code",
   "execution_count": 20,
   "id": "5831b530",
   "metadata": {},
   "outputs": [
    {
     "data": {
      "text/plain": [
       "11"
      ]
     },
     "execution_count": 20,
     "metadata": {},
     "output_type": "execute_result"
    }
   ],
   "source": [
    "m"
   ]
  },
  {
   "cell_type": "code",
   "execution_count": 25,
   "id": "9c8ec863",
   "metadata": {},
   "outputs": [
    {
     "data": {
      "text/plain": [
       "[1, 2, 3, 4, 5, 6, 7, 8, 9, 10, 11, 12, 13, 14, 15]"
      ]
     },
     "execution_count": 25,
     "metadata": {},
     "output_type": "execute_result"
    }
   ],
   "source": [
    "list2=list(range(1,16))\n",
    "list2"
   ]
  },
  {
   "cell_type": "code",
   "execution_count": 23,
   "id": "5eb8cbd6",
   "metadata": {},
   "outputs": [],
   "source": [
    "from functools import reduce"
   ]
  },
  {
   "cell_type": "code",
   "execution_count": 26,
   "id": "1c2d8a78",
   "metadata": {},
   "outputs": [
    {
     "data": {
      "text/plain": [
       "120"
      ]
     },
     "execution_count": 26,
     "metadata": {},
     "output_type": "execute_result"
    }
   ],
   "source": [
    "reduce(lambda x,y:x+y,list2 )"
   ]
  },
  {
   "cell_type": "code",
   "execution_count": 27,
   "id": "4cfe4ff3",
   "metadata": {},
   "outputs": [
    {
     "data": {
      "text/plain": [
       "120"
      ]
     },
     "execution_count": 27,
     "metadata": {},
     "output_type": "execute_result"
    }
   ],
   "source": [
    "sum(list2)"
   ]
  },
  {
   "cell_type": "code",
   "execution_count": 28,
   "id": "2fe09f98",
   "metadata": {},
   "outputs": [
    {
     "data": {
      "text/plain": [
       "1307674368000"
      ]
     },
     "execution_count": 28,
     "metadata": {},
     "output_type": "execute_result"
    }
   ],
   "source": [
    "reduce(lambda x,y:x*y,list2 )"
   ]
  },
  {
   "cell_type": "code",
   "execution_count": 34,
   "id": "4b532f16",
   "metadata": {},
   "outputs": [],
   "source": [
    "list3=[39,25,33,57,47,100,3,65,87,48,65]"
   ]
  },
  {
   "cell_type": "code",
   "execution_count": 35,
   "id": "0a88f9d0",
   "metadata": {},
   "outputs": [
    {
     "data": {
      "text/plain": [
       "3"
      ]
     },
     "execution_count": 35,
     "metadata": {},
     "output_type": "execute_result"
    }
   ],
   "source": [
    "reduce(lambda x,y: y if x>y else x,list3) #min"
   ]
  },
  {
   "cell_type": "code",
   "execution_count": 36,
   "id": "aa1393fa",
   "metadata": {},
   "outputs": [
    {
     "data": {
      "text/plain": [
       "100"
      ]
     },
     "execution_count": 36,
     "metadata": {},
     "output_type": "execute_result"
    }
   ],
   "source": [
    "reduce(lambda x,y: y if x<y else x,list3)"
   ]
  },
  {
   "cell_type": "code",
   "execution_count": 44,
   "id": "9894e044",
   "metadata": {},
   "outputs": [],
   "source": [
    "sub=['maths','chem','phy','eng','cs']\n",
    "marks=[67,87,78,98,66]"
   ]
  },
  {
   "cell_type": "code",
   "execution_count": 46,
   "id": "791561c6",
   "metadata": {},
   "outputs": [
    {
     "name": "stdout",
     "output_type": "stream",
     "text": [
      "maths 67\n",
      "chem 87\n",
      "phy 78\n",
      "eng 98\n"
     ]
    }
   ],
   "source": [
    "print(sub[0],marks[0])\n",
    "print(sub[1],marks[1])\n",
    "print(sub[2],marks[2])\n",
    "print(sub[3],marks[3])"
   ]
  },
  {
   "cell_type": "code",
   "execution_count": null,
   "id": "f34826d1",
   "metadata": {},
   "outputs": [],
   "source": [
    "{'maths':67,'chem':87}"
   ]
  },
  {
   "cell_type": "code",
   "execution_count": null,
   "id": "803d8dde",
   "metadata": {},
   "outputs": [],
   "source": [
    "score={}\n",
    "score['key']=value\n",
    "score[sub[i]]=marks[i]"
   ]
  },
  {
   "cell_type": "code",
   "execution_count": 49,
   "id": "83628cf4",
   "metadata": {},
   "outputs": [
    {
     "name": "stdout",
     "output_type": "stream",
     "text": [
      "{'maths': 67, 'chem': 87, 'phy': 78, 'eng': 98, 'cs': 66}\n"
     ]
    }
   ],
   "source": [
    "score={}\n",
    "\n",
    "for i in range(len(sub)):\n",
    "    score[sub[i]]=marks[i]\n",
    "    \n",
    "print(score)"
   ]
  },
  {
   "cell_type": "code",
   "execution_count": 51,
   "id": "634e6e58",
   "metadata": {},
   "outputs": [
    {
     "data": {
      "text/plain": [
       "{'maths': 67, 'chem': 87, 'phy': 78, 'eng': 98, 'cs': 66}"
      ]
     },
     "execution_count": 51,
     "metadata": {},
     "output_type": "execute_result"
    }
   ],
   "source": [
    "dict(zip(sub,marks))"
   ]
  },
  {
   "cell_type": "code",
   "execution_count": null,
   "id": "eedce32e",
   "metadata": {},
   "outputs": [],
   "source": [
    "all(iterable) # True if all values are true"
   ]
  },
  {
   "cell_type": "code",
   "execution_count": 56,
   "id": "51445f1e",
   "metadata": {},
   "outputs": [
    {
     "data": {
      "text/plain": [
       "False"
      ]
     },
     "execution_count": 56,
     "metadata": {},
     "output_type": "execute_result"
    }
   ],
   "source": [
    "all([1, 2, 3, 4, 5,False]) # False==0, True==1"
   ]
  },
  {
   "cell_type": "code",
   "execution_count": null,
   "id": "9332dbb1",
   "metadata": {},
   "outputs": [],
   "source": [
    "any(itr) # True if even one value is true"
   ]
  },
  {
   "cell_type": "code",
   "execution_count": 58,
   "id": "9b6837c6",
   "metadata": {},
   "outputs": [
    {
     "data": {
      "text/plain": [
       "True"
      ]
     },
     "execution_count": 58,
     "metadata": {},
     "output_type": "execute_result"
    }
   ],
   "source": [
    "any([0,0,False,False,0,1])"
   ]
  },
  {
   "cell_type": "code",
   "execution_count": 69,
   "id": "52dca716",
   "metadata": {},
   "outputs": [
    {
     "data": {
      "text/plain": [
       "'z'"
      ]
     },
     "execution_count": 69,
     "metadata": {},
     "output_type": "execute_result"
    }
   ],
   "source": [
    "chr(122) # character for ascii value # A-Z 65-90 a-z 97-122"
   ]
  },
  {
   "cell_type": "code",
   "execution_count": 72,
   "id": "9c6b0176",
   "metadata": {},
   "outputs": [
    {
     "data": {
      "text/plain": [
       "71"
      ]
     },
     "execution_count": 72,
     "metadata": {},
     "output_type": "execute_result"
    }
   ],
   "source": [
    "ord('G') # returns ascii value for a given character"
   ]
  },
  {
   "cell_type": "code",
   "execution_count": 74,
   "id": "89f8bfae",
   "metadata": {},
   "outputs": [
    {
     "data": {
      "text/plain": [
       "969"
      ]
     },
     "execution_count": 74,
     "metadata": {},
     "output_type": "execute_result"
    }
   ],
   "source": [
    "abs(969)"
   ]
  },
  {
   "cell_type": "code",
   "execution_count": null,
   "id": "e0654af7",
   "metadata": {},
   "outputs": [],
   "source": []
  },
  {
   "cell_type": "code",
   "execution_count": null,
   "id": "bb93c301",
   "metadata": {},
   "outputs": [],
   "source": []
  },
  {
   "cell_type": "code",
   "execution_count": null,
   "id": "6a7bd4b3",
   "metadata": {},
   "outputs": [],
   "source": []
  }
 ],
 "metadata": {
  "kernelspec": {
   "display_name": "Python 3 (ipykernel)",
   "language": "python",
   "name": "python3"
  },
  "language_info": {
   "codemirror_mode": {
    "name": "ipython",
    "version": 3
   },
   "file_extension": ".py",
   "mimetype": "text/x-python",
   "name": "python",
   "nbconvert_exporter": "python",
   "pygments_lexer": "ipython3",
   "version": "3.9.12"
  }
 },
 "nbformat": 4,
 "nbformat_minor": 5
}
